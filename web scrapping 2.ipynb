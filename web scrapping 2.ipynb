{
 "cells": [
  {
   "cell_type": "code",
   "execution_count": 24,
   "metadata": {},
   "outputs": [
    {
     "name": "stdout",
     "output_type": "stream",
     "text": [
      "Requirement already satisfied: selenium in c:\\users\\dell\\anaconda3\\lib\\site-packages (4.0.0b4)\n",
      "Requirement already satisfied: trio-websocket~=0.9 in c:\\users\\dell\\anaconda3\\lib\\site-packages (from selenium) (0.9.2)\n",
      "Collecting urllib3[secure]~=1.26\n",
      "  Using cached urllib3-1.26.6-py2.py3-none-any.whl (138 kB)\n",
      "Requirement already satisfied: trio~=0.17 in c:\\users\\dell\\anaconda3\\lib\\site-packages (from selenium) (0.19.0)\n",
      "Requirement already satisfied: wsproto>=0.14 in c:\\users\\dell\\anaconda3\\lib\\site-packages (from trio-websocket~=0.9->selenium) (1.0.0)\n",
      "Requirement already satisfied: async-generator>=1.10 in c:\\users\\dell\\anaconda3\\lib\\site-packages (from trio-websocket~=0.9->selenium) (1.10)\n",
      "Requirement already satisfied: idna>=2.0.0; extra == \"secure\" in c:\\users\\dell\\anaconda3\\lib\\site-packages (from urllib3[secure]~=1.26->selenium) (2.10)\n",
      "Requirement already satisfied: certifi; extra == \"secure\" in c:\\users\\dell\\anaconda3\\lib\\site-packages (from urllib3[secure]~=1.26->selenium) (2020.6.20)\n",
      "Requirement already satisfied: pyOpenSSL>=0.14; extra == \"secure\" in c:\\users\\dell\\anaconda3\\lib\\site-packages (from urllib3[secure]~=1.26->selenium) (19.1.0)\n",
      "Requirement already satisfied: cryptography>=1.3.4; extra == \"secure\" in c:\\users\\dell\\anaconda3\\lib\\site-packages (from urllib3[secure]~=1.26->selenium) (3.1.1)\n",
      "Requirement already satisfied: attrs>=19.2.0 in c:\\users\\dell\\anaconda3\\lib\\site-packages (from trio~=0.17->selenium) (20.3.0)\n",
      "Requirement already satisfied: sniffio in c:\\users\\dell\\anaconda3\\lib\\site-packages (from trio~=0.17->selenium) (1.2.0)\n",
      "Requirement already satisfied: cffi>=1.14; os_name == \"nt\" and implementation_name != \"pypy\" in c:\\users\\dell\\anaconda3\\lib\\site-packages (from trio~=0.17->selenium) (1.14.3)\n",
      "Requirement already satisfied: sortedcontainers in c:\\users\\dell\\anaconda3\\lib\\site-packages (from trio~=0.17->selenium) (2.2.2)\n",
      "Requirement already satisfied: outcome in c:\\users\\dell\\anaconda3\\lib\\site-packages (from trio~=0.17->selenium) (1.1.0)\n",
      "Requirement already satisfied: h11<1,>=0.9.0 in c:\\users\\dell\\anaconda3\\lib\\site-packages (from wsproto>=0.14->trio-websocket~=0.9->selenium) (0.12.0)\n",
      "Requirement already satisfied: six>=1.5.2 in c:\\users\\dell\\anaconda3\\lib\\site-packages (from pyOpenSSL>=0.14; extra == \"secure\"->urllib3[secure]~=1.26->selenium) (1.15.0)\n",
      "Requirement already satisfied: pycparser in c:\\users\\dell\\anaconda3\\lib\\site-packages (from cffi>=1.14; os_name == \"nt\" and implementation_name != \"pypy\"->trio~=0.17->selenium) (2.20)\n",
      "Installing collected packages: urllib3\n",
      "  Attempting uninstall: urllib3\n",
      "    Found existing installation: urllib3 1.25.11\n",
      "    Uninstalling urllib3-1.25.11:\n",
      "      Successfully uninstalled urllib3-1.25.11\n",
      "Successfully installed urllib3-1.26.6\n"
     ]
    },
    {
     "name": "stderr",
     "output_type": "stream",
     "text": [
      "WARNING: Retrying (Retry(total=4, connect=None, read=None, redirect=None, status=None)) after connection broken by 'ReadTimeoutError(\"HTTPSConnectionPool(host='pypi.org', port=443): Read timed out. (read timeout=15)\")': /simple/urllib3/\n",
      "ERROR: After October 2020 you may experience errors when installing or updating packages. This is because pip will change the way that it resolves dependency conflicts.\n",
      "\n",
      "We recommend you use --use-feature=2020-resolver to test your packages with the new resolver before it becomes the default.\n",
      "\n",
      "requests 2.24.0 requires urllib3!=1.25.0,!=1.25.1,<1.26,>=1.21.1, but you'll have urllib3 1.26.6 which is incompatible.\n"
     ]
    },
    {
     "name": "stdout",
     "output_type": "stream",
     "text": [
      "Requirement already satisfied: undetected-chromedriver in c:\\users\\dell\\anaconda3\\lib\\site-packages (3.0.3)\n",
      "Requirement already satisfied: requests in c:\\users\\dell\\anaconda3\\lib\\site-packages (from undetected-chromedriver) (2.24.0)\n",
      "Requirement already satisfied: websockets in c:\\users\\dell\\anaconda3\\lib\\site-packages (from undetected-chromedriver) (10.0)\n",
      "Requirement already satisfied: selenium==4.0.0b4 in c:\\users\\dell\\anaconda3\\lib\\site-packages (from undetected-chromedriver) (4.0.0b4)\n",
      "Collecting urllib3!=1.25.0,!=1.25.1,<1.26,>=1.21.1\n",
      "  Using cached urllib3-1.25.11-py2.py3-none-any.whl (127 kB)\n",
      "Requirement already satisfied: certifi>=2017.4.17 in c:\\users\\dell\\anaconda3\\lib\\site-packages (from requests->undetected-chromedriver) (2020.6.20)\n",
      "Requirement already satisfied: chardet<4,>=3.0.2 in c:\\users\\dell\\anaconda3\\lib\\site-packages (from requests->undetected-chromedriver) (3.0.4)\n",
      "Requirement already satisfied: idna<3,>=2.5 in c:\\users\\dell\\anaconda3\\lib\\site-packages (from requests->undetected-chromedriver) (2.10)\n",
      "Requirement already satisfied: trio~=0.17 in c:\\users\\dell\\anaconda3\\lib\\site-packages (from selenium==4.0.0b4->undetected-chromedriver) (0.19.0)\n",
      "Requirement already satisfied: trio-websocket~=0.9 in c:\\users\\dell\\anaconda3\\lib\\site-packages (from selenium==4.0.0b4->undetected-chromedriver) (0.9.2)\n",
      "Requirement already satisfied: async-generator>=1.9 in c:\\users\\dell\\anaconda3\\lib\\site-packages (from trio~=0.17->selenium==4.0.0b4->undetected-chromedriver) (1.10)\n",
      "Requirement already satisfied: cffi>=1.14; os_name == \"nt\" and implementation_name != \"pypy\" in c:\\users\\dell\\anaconda3\\lib\\site-packages (from trio~=0.17->selenium==4.0.0b4->undetected-chromedriver) (1.14.3)\n",
      "Requirement already satisfied: sortedcontainers in c:\\users\\dell\\anaconda3\\lib\\site-packages (from trio~=0.17->selenium==4.0.0b4->undetected-chromedriver) (2.2.2)\n",
      "Requirement already satisfied: outcome in c:\\users\\dell\\anaconda3\\lib\\site-packages (from trio~=0.17->selenium==4.0.0b4->undetected-chromedriver) (1.1.0)\n",
      "Requirement already satisfied: sniffio in c:\\users\\dell\\anaconda3\\lib\\site-packages (from trio~=0.17->selenium==4.0.0b4->undetected-chromedriver) (1.2.0)\n",
      "Requirement already satisfied: attrs>=19.2.0 in c:\\users\\dell\\anaconda3\\lib\\site-packages (from trio~=0.17->selenium==4.0.0b4->undetected-chromedriver) (20.3.0)\n",
      "Requirement already satisfied: wsproto>=0.14 in c:\\users\\dell\\anaconda3\\lib\\site-packages (from trio-websocket~=0.9->selenium==4.0.0b4->undetected-chromedriver) (1.0.0)\n",
      "Requirement already satisfied: pycparser in c:\\users\\dell\\anaconda3\\lib\\site-packages (from cffi>=1.14; os_name == \"nt\" and implementation_name != \"pypy\"->trio~=0.17->selenium==4.0.0b4->undetected-chromedriver) (2.20)\n",
      "Requirement already satisfied: h11<1,>=0.9.0 in c:\\users\\dell\\anaconda3\\lib\\site-packages (from wsproto>=0.14->trio-websocket~=0.9->selenium==4.0.0b4->undetected-chromedriver) (0.12.0)\n",
      "Installing collected packages: urllib3\n",
      "  Attempting uninstall: urllib3\n",
      "    Found existing installation: urllib3 1.26.6\n",
      "    Uninstalling urllib3-1.26.6:\n",
      "      Successfully uninstalled urllib3-1.26.6\n",
      "Successfully installed urllib3-1.25.11\n"
     ]
    },
    {
     "name": "stderr",
     "output_type": "stream",
     "text": [
      "ERROR: After October 2020 you may experience errors when installing or updating packages. This is because pip will change the way that it resolves dependency conflicts.\n",
      "\n",
      "We recommend you use --use-feature=2020-resolver to test your packages with the new resolver before it becomes the default.\n",
      "\n",
      "selenium 4.0.0b4 requires urllib3[secure]~=1.26, but you'll have urllib3 1.25.11 which is incompatible.\n"
     ]
    }
   ],
   "source": [
    "!pip install selenium\n",
    "!pip install undetected-chromedriver"
   ]
  },
  {
   "cell_type": "code",
   "execution_count": 25,
   "metadata": {},
   "outputs": [],
   "source": [
    "import selenium\n",
    "import pandas as pd\n",
    "from selenium import webdriver\n",
    "import undetected_chromedriver.v2 as uc"
   ]
  },
  {
   "cell_type": "code",
   "execution_count": 26,
   "metadata": {},
   "outputs": [],
   "source": [
    "driver=uc.Chrome()"
   ]
  },
  {
   "cell_type": "code",
   "execution_count": 27,
   "metadata": {},
   "outputs": [],
   "source": [
    "with driver:\n",
    "    driver.get('https://www.naukri.com/')"
   ]
  },
  {
   "cell_type": "code",
   "execution_count": 28,
   "metadata": {},
   "outputs": [
    {
     "data": {
      "text/plain": [
       "<selenium.webdriver.remote.webelement.WebElement (session=\"d19eb53b113fd3b8fdd1a4a4c883e549\", element=\"fb63307a-1759-4a42-ab69-5e23e19fdcce\")>"
      ]
     },
     "execution_count": 28,
     "metadata": {},
     "output_type": "execute_result"
    }
   ],
   "source": [
    "search_job=driver.find_element_by_id('qsb-keyword-sugg')\n",
    "search_job"
   ]
  },
  {
   "cell_type": "code",
   "execution_count": 29,
   "metadata": {},
   "outputs": [],
   "source": [
    "search_job.send_keys('Data Analyst')"
   ]
  },
  {
   "cell_type": "code",
   "execution_count": 30,
   "metadata": {},
   "outputs": [],
   "source": [
    "search_loc=driver.find_element_by_id('qsb-location-sugg')\n",
    "search_loc.send_keys('Bangalore')"
   ]
  },
  {
   "cell_type": "code",
   "execution_count": 31,
   "metadata": {},
   "outputs": [
    {
     "data": {
      "text/plain": [
       "<selenium.webdriver.remote.webelement.WebElement (session=\"d19eb53b113fd3b8fdd1a4a4c883e549\", element=\"169325ec-6f23-468e-a3bd-86b784c45a28\")>"
      ]
     },
     "execution_count": 31,
     "metadata": {},
     "output_type": "execute_result"
    }
   ],
   "source": [
    "search_btn=driver.find_element_by_xpath(\"//button[@class='btn']\")\n",
    "search_btn"
   ]
  },
  {
   "cell_type": "code",
   "execution_count": 32,
   "metadata": {},
   "outputs": [],
   "source": [
    "search_btn.click()"
   ]
  },
  {
   "cell_type": "code",
   "execution_count": 33,
   "metadata": {},
   "outputs": [
    {
     "data": {
      "text/plain": [
       "[<selenium.webdriver.remote.webelement.WebElement (session=\"d19eb53b113fd3b8fdd1a4a4c883e549\", element=\"6e620be2-d123-4e58-bb31-1b848016ca56\")>,\n",
       " <selenium.webdriver.remote.webelement.WebElement (session=\"d19eb53b113fd3b8fdd1a4a4c883e549\", element=\"e9c3781c-e532-40f1-a9e0-89d1ee712735\")>,\n",
       " <selenium.webdriver.remote.webelement.WebElement (session=\"d19eb53b113fd3b8fdd1a4a4c883e549\", element=\"3ecab0c0-547c-4a55-891f-2193a177a45e\")>,\n",
       " <selenium.webdriver.remote.webelement.WebElement (session=\"d19eb53b113fd3b8fdd1a4a4c883e549\", element=\"ea9026ef-b652-4406-a972-aef9f2a00edc\")>,\n",
       " <selenium.webdriver.remote.webelement.WebElement (session=\"d19eb53b113fd3b8fdd1a4a4c883e549\", element=\"69930b18-e312-4c34-8e09-0f7161db711a\")>,\n",
       " <selenium.webdriver.remote.webelement.WebElement (session=\"d19eb53b113fd3b8fdd1a4a4c883e549\", element=\"ee5a6251-2317-4f8b-bf1e-c586c44703de\")>,\n",
       " <selenium.webdriver.remote.webelement.WebElement (session=\"d19eb53b113fd3b8fdd1a4a4c883e549\", element=\"c2b19e27-562a-437c-a6fc-a7d24d10c2f6\")>,\n",
       " <selenium.webdriver.remote.webelement.WebElement (session=\"d19eb53b113fd3b8fdd1a4a4c883e549\", element=\"8c574b81-c274-4abe-a621-b5a4dcd256ae\")>,\n",
       " <selenium.webdriver.remote.webelement.WebElement (session=\"d19eb53b113fd3b8fdd1a4a4c883e549\", element=\"d39194a9-fd6c-4bd0-ab57-603ef916c314\")>,\n",
       " <selenium.webdriver.remote.webelement.WebElement (session=\"d19eb53b113fd3b8fdd1a4a4c883e549\", element=\"79769054-3cbf-4908-b6a4-47b7c822108e\")>,\n",
       " <selenium.webdriver.remote.webelement.WebElement (session=\"d19eb53b113fd3b8fdd1a4a4c883e549\", element=\"88a4f3be-a405-47c4-b1c4-f1d1207008db\")>,\n",
       " <selenium.webdriver.remote.webelement.WebElement (session=\"d19eb53b113fd3b8fdd1a4a4c883e549\", element=\"998d19e2-b0b7-43cf-96e6-f31d4a7ed0e4\")>,\n",
       " <selenium.webdriver.remote.webelement.WebElement (session=\"d19eb53b113fd3b8fdd1a4a4c883e549\", element=\"588996f0-8175-4a97-a922-f406bbd96e5b\")>,\n",
       " <selenium.webdriver.remote.webelement.WebElement (session=\"d19eb53b113fd3b8fdd1a4a4c883e549\", element=\"e2e0614b-b932-4408-95bd-e29cdbe27817\")>,\n",
       " <selenium.webdriver.remote.webelement.WebElement (session=\"d19eb53b113fd3b8fdd1a4a4c883e549\", element=\"202aa2ea-70b3-4cee-a676-6d7735fbf5ec\")>,\n",
       " <selenium.webdriver.remote.webelement.WebElement (session=\"d19eb53b113fd3b8fdd1a4a4c883e549\", element=\"bbbd3e5c-1b6d-4f71-995f-1f990a8a1d73\")>,\n",
       " <selenium.webdriver.remote.webelement.WebElement (session=\"d19eb53b113fd3b8fdd1a4a4c883e549\", element=\"b513856b-c406-440e-abb0-5e9145eb1b99\")>,\n",
       " <selenium.webdriver.remote.webelement.WebElement (session=\"d19eb53b113fd3b8fdd1a4a4c883e549\", element=\"d5ea11d7-c1d4-4afd-a0a2-cb147c5b7d3b\")>,\n",
       " <selenium.webdriver.remote.webelement.WebElement (session=\"d19eb53b113fd3b8fdd1a4a4c883e549\", element=\"c4b8159b-4857-4e62-983c-c5bdc74ca7b2\")>,\n",
       " <selenium.webdriver.remote.webelement.WebElement (session=\"d19eb53b113fd3b8fdd1a4a4c883e549\", element=\"f6987619-d482-4448-981a-3a7dcccb0888\")>]"
      ]
     },
     "execution_count": 33,
     "metadata": {},
     "output_type": "execute_result"
    }
   ],
   "source": [
    "titles_tags=driver.find_elements_by_xpath(\"//a[@class='title fw500 ellipsis']\")\n",
    "titles_tags"
   ]
  },
  {
   "cell_type": "code",
   "execution_count": 34,
   "metadata": {},
   "outputs": [
    {
     "data": {
      "text/plain": [
       "['Senior Data Analyst',\n",
       " 'Tcs Hiring For Senior Data Analyst (bfsi domain)',\n",
       " 'Business Data Analyst',\n",
       " 'Business Data Analyst',\n",
       " 'Business Data Analyst - Google Data Studio & SQL',\n",
       " 'Senior Data Analyst',\n",
       " 'Tcs Hiring For MDM (master data management) Data Analyst (bfsi domain)',\n",
       " 'Senior Data Analyst IDAM Services',\n",
       " 'Data Analyst/Sr.Data Engineer',\n",
       " 'SENIOR DATA ANALYST',\n",
       " 'Executive Data Analyst',\n",
       " 'Senior Data Analyst IN4',\n",
       " 'Analyst & Designer - Software - Data Analysis',\n",
       " 'Data Analyst - I/II',\n",
       " 'Systems and Data Analyst, Safety and Provisioning',\n",
       " 'Data Analyst',\n",
       " 'Business Data Analyst - MIS & Reporting',\n",
       " 'Sr Data Analyst',\n",
       " 'Senior Data Analyst',\n",
       " 'Senior Data Analyst']"
      ]
     },
     "execution_count": 34,
     "metadata": {},
     "output_type": "execute_result"
    }
   ],
   "source": [
    "job_titles=[]\n",
    "for i in titles_tags:\n",
    "    job_titles.append(i.text)\n",
    "job_titles"
   ]
  },
  {
   "cell_type": "code",
   "execution_count": 35,
   "metadata": {},
   "outputs": [
    {
     "data": {
      "text/plain": [
       "[<selenium.webdriver.remote.webelement.WebElement (session=\"d19eb53b113fd3b8fdd1a4a4c883e549\", element=\"b27448ca-19c6-4f9d-87c5-36796eacd7af\")>,\n",
       " <selenium.webdriver.remote.webelement.WebElement (session=\"d19eb53b113fd3b8fdd1a4a4c883e549\", element=\"2df6c130-37e6-4298-abeb-b8e58f7e3990\")>,\n",
       " <selenium.webdriver.remote.webelement.WebElement (session=\"d19eb53b113fd3b8fdd1a4a4c883e549\", element=\"52833e73-ed5e-4402-bcdd-612457a4c760\")>,\n",
       " <selenium.webdriver.remote.webelement.WebElement (session=\"d19eb53b113fd3b8fdd1a4a4c883e549\", element=\"0c21181f-2914-4ed9-aad6-2c7c742e01f7\")>,\n",
       " <selenium.webdriver.remote.webelement.WebElement (session=\"d19eb53b113fd3b8fdd1a4a4c883e549\", element=\"50d326a6-7379-419a-8226-cdbbcbae79b3\")>,\n",
       " <selenium.webdriver.remote.webelement.WebElement (session=\"d19eb53b113fd3b8fdd1a4a4c883e549\", element=\"8c10d083-a944-49a8-9ee7-e37400cef289\")>,\n",
       " <selenium.webdriver.remote.webelement.WebElement (session=\"d19eb53b113fd3b8fdd1a4a4c883e549\", element=\"aaa7523f-a523-4a0a-89b8-7b54083e4836\")>,\n",
       " <selenium.webdriver.remote.webelement.WebElement (session=\"d19eb53b113fd3b8fdd1a4a4c883e549\", element=\"77645510-e26b-4c61-9749-168d280c7c87\")>,\n",
       " <selenium.webdriver.remote.webelement.WebElement (session=\"d19eb53b113fd3b8fdd1a4a4c883e549\", element=\"3beeb4e8-1866-4484-9735-16fd76fe8f46\")>,\n",
       " <selenium.webdriver.remote.webelement.WebElement (session=\"d19eb53b113fd3b8fdd1a4a4c883e549\", element=\"480b80e3-b6a0-4d26-8a64-0c24e59f9600\")>,\n",
       " <selenium.webdriver.remote.webelement.WebElement (session=\"d19eb53b113fd3b8fdd1a4a4c883e549\", element=\"6666dc88-f824-4554-ac63-6d976318cc40\")>,\n",
       " <selenium.webdriver.remote.webelement.WebElement (session=\"d19eb53b113fd3b8fdd1a4a4c883e549\", element=\"533dea1c-d44f-4c2a-8ebb-d92e2a3d963c\")>,\n",
       " <selenium.webdriver.remote.webelement.WebElement (session=\"d19eb53b113fd3b8fdd1a4a4c883e549\", element=\"9c3ce517-7906-4644-9c56-410ff5566b50\")>,\n",
       " <selenium.webdriver.remote.webelement.WebElement (session=\"d19eb53b113fd3b8fdd1a4a4c883e549\", element=\"5f550e03-9db9-4b71-8fbb-5b6006e1a19a\")>,\n",
       " <selenium.webdriver.remote.webelement.WebElement (session=\"d19eb53b113fd3b8fdd1a4a4c883e549\", element=\"76cf8a1d-8b63-4f00-892d-7ae8ba5e477e\")>,\n",
       " <selenium.webdriver.remote.webelement.WebElement (session=\"d19eb53b113fd3b8fdd1a4a4c883e549\", element=\"76ae2dc5-e96c-4574-8622-bd17777eb450\")>,\n",
       " <selenium.webdriver.remote.webelement.WebElement (session=\"d19eb53b113fd3b8fdd1a4a4c883e549\", element=\"81f9daa4-27f2-4d15-9a69-ae255f1a8356\")>,\n",
       " <selenium.webdriver.remote.webelement.WebElement (session=\"d19eb53b113fd3b8fdd1a4a4c883e549\", element=\"272b3a56-4775-492f-b9ce-c753c0e587af\")>,\n",
       " <selenium.webdriver.remote.webelement.WebElement (session=\"d19eb53b113fd3b8fdd1a4a4c883e549\", element=\"da0f9371-eccc-4403-8b0c-28095f35f695\")>,\n",
       " <selenium.webdriver.remote.webelement.WebElement (session=\"d19eb53b113fd3b8fdd1a4a4c883e549\", element=\"718f6ac0-1bbf-450a-a5c7-ecd3f72fb655\")>]"
      ]
     },
     "execution_count": 35,
     "metadata": {},
     "output_type": "execute_result"
    }
   ],
   "source": [
    "companies_tags=driver.find_elements_by_xpath(\"//a[@class='subTitle ellipsis fleft']\")\n",
    "companies_tags"
   ]
  },
  {
   "cell_type": "code",
   "execution_count": 36,
   "metadata": {},
   "outputs": [
    {
     "data": {
      "text/plain": [
       "['Gaussian Networks Private Limited',\n",
       " 'Tata Consultancy Services Ltd.',\n",
       " 'Trigent Software',\n",
       " 'Trigent Software',\n",
       " 'AVE-Promagne',\n",
       " 'Virtusa Consulting Services Pvt Ltd',\n",
       " 'Tata Consultancy Services Ltd.',\n",
       " 'GlaxoSmithKline Pharmaceuticals Limited',\n",
       " 'SYREN TECHNOLOGIES PRIVATE LIMITED',\n",
       " 'McAfee Software (India) Pvt. Ltd',\n",
       " 'Gokaldas Exports Ltd',\n",
       " 'Walmart Labs',\n",
       " 'HyreFox Consultants Pvt Ltd',\n",
       " 'Philips India Limited',\n",
       " 'AECOM India Private Limited',\n",
       " 'IBM India Pvt. Limited',\n",
       " 'INTERTRUST GROUP',\n",
       " 'Empower Retirement',\n",
       " 'Flipkart',\n",
       " 'Flipkart']"
      ]
     },
     "execution_count": 36,
     "metadata": {},
     "output_type": "execute_result"
    }
   ],
   "source": [
    "company_names=[]\n",
    "for i in companies_tags:\n",
    "    company_names.append(i.text)\n",
    "company_names"
   ]
  },
  {
   "cell_type": "code",
   "execution_count": 37,
   "metadata": {},
   "outputs": [
    {
     "data": {
      "text/plain": [
       "[<selenium.webdriver.remote.webelement.WebElement (session=\"d19eb53b113fd3b8fdd1a4a4c883e549\", element=\"74bbeab8-f861-4b11-8de3-7ada67b7d5f2\")>,\n",
       " <selenium.webdriver.remote.webelement.WebElement (session=\"d19eb53b113fd3b8fdd1a4a4c883e549\", element=\"ab08e1d5-04a7-448b-bd0a-11d609bf8a1b\")>,\n",
       " <selenium.webdriver.remote.webelement.WebElement (session=\"d19eb53b113fd3b8fdd1a4a4c883e549\", element=\"08cc0a8b-c22c-43d2-ba14-2306eb9194d9\")>,\n",
       " <selenium.webdriver.remote.webelement.WebElement (session=\"d19eb53b113fd3b8fdd1a4a4c883e549\", element=\"2b527789-63b2-4a7d-9edd-ca3fe772d661\")>,\n",
       " <selenium.webdriver.remote.webelement.WebElement (session=\"d19eb53b113fd3b8fdd1a4a4c883e549\", element=\"75d1d83a-4bf9-43e7-bc3c-516eb9853e4a\")>,\n",
       " <selenium.webdriver.remote.webelement.WebElement (session=\"d19eb53b113fd3b8fdd1a4a4c883e549\", element=\"1483b96d-6caa-42f3-9202-e5d6f763d569\")>,\n",
       " <selenium.webdriver.remote.webelement.WebElement (session=\"d19eb53b113fd3b8fdd1a4a4c883e549\", element=\"b088e598-a2ff-4dfc-9f59-cf0ae35534e6\")>,\n",
       " <selenium.webdriver.remote.webelement.WebElement (session=\"d19eb53b113fd3b8fdd1a4a4c883e549\", element=\"ff01b973-afba-4295-a27c-13f78254e936\")>,\n",
       " <selenium.webdriver.remote.webelement.WebElement (session=\"d19eb53b113fd3b8fdd1a4a4c883e549\", element=\"10c2af00-4aeb-4de1-a803-2b6b45e5dc73\")>,\n",
       " <selenium.webdriver.remote.webelement.WebElement (session=\"d19eb53b113fd3b8fdd1a4a4c883e549\", element=\"998bd2b5-f5e3-443b-86e8-a048d5505aeb\")>,\n",
       " <selenium.webdriver.remote.webelement.WebElement (session=\"d19eb53b113fd3b8fdd1a4a4c883e549\", element=\"1e266684-3ae9-412a-8d3c-67d6e6bbc5b2\")>,\n",
       " <selenium.webdriver.remote.webelement.WebElement (session=\"d19eb53b113fd3b8fdd1a4a4c883e549\", element=\"7a93afa7-335e-4068-8cd9-04133a8adc06\")>,\n",
       " <selenium.webdriver.remote.webelement.WebElement (session=\"d19eb53b113fd3b8fdd1a4a4c883e549\", element=\"e7aed8b6-b94c-4ad5-8544-e43aebb62481\")>,\n",
       " <selenium.webdriver.remote.webelement.WebElement (session=\"d19eb53b113fd3b8fdd1a4a4c883e549\", element=\"5bb1f520-7bda-4755-9c47-0b5d0f3d3b42\")>,\n",
       " <selenium.webdriver.remote.webelement.WebElement (session=\"d19eb53b113fd3b8fdd1a4a4c883e549\", element=\"e14e19cd-2638-4d0a-b9db-a253b7ae3be1\")>,\n",
       " <selenium.webdriver.remote.webelement.WebElement (session=\"d19eb53b113fd3b8fdd1a4a4c883e549\", element=\"b7c6fcd7-3206-46da-8bd0-f0d1b8a76536\")>,\n",
       " <selenium.webdriver.remote.webelement.WebElement (session=\"d19eb53b113fd3b8fdd1a4a4c883e549\", element=\"d0f94848-ee79-4e97-8665-953f7a7fc61a\")>,\n",
       " <selenium.webdriver.remote.webelement.WebElement (session=\"d19eb53b113fd3b8fdd1a4a4c883e549\", element=\"89388c5f-c72e-4ae9-bd4b-fd1ce01ce8bc\")>,\n",
       " <selenium.webdriver.remote.webelement.WebElement (session=\"d19eb53b113fd3b8fdd1a4a4c883e549\", element=\"da70379d-639f-4fb3-a028-acf7e71c3cfd\")>,\n",
       " <selenium.webdriver.remote.webelement.WebElement (session=\"d19eb53b113fd3b8fdd1a4a4c883e549\", element=\"c576b0ef-c948-4fd7-9a61-8a3a09b7232b\")>]"
      ]
     },
     "execution_count": 37,
     "metadata": {},
     "output_type": "execute_result"
    }
   ],
   "source": [
    "experience_tags=driver.find_elements_by_xpath(\"//li[@class='fleft grey-text br2 placeHolderLi experience']//span\")\n",
    "experience_tags"
   ]
  },
  {
   "cell_type": "code",
   "execution_count": 38,
   "metadata": {},
   "outputs": [
    {
     "data": {
      "text/plain": [
       "['3-5 Yrs',\n",
       " '6-11 Yrs',\n",
       " '5-10 Yrs',\n",
       " '5-10 Yrs',\n",
       " '3-8 Yrs',\n",
       " '8-12 Yrs',\n",
       " '6-11 Yrs',\n",
       " '4-8 Yrs',\n",
       " '4-9 Yrs',\n",
       " '6-8 Yrs',\n",
       " '0-3 Yrs',\n",
       " '8-10 Yrs',\n",
       " '5-7 Yrs',\n",
       " '3-6 Yrs',\n",
       " '2-7 Yrs',\n",
       " '1-4 Yrs',\n",
       " '3-8 Yrs',\n",
       " '5-8 Yrs',\n",
       " '2-3 Yrs',\n",
       " '3-8 Yrs']"
      ]
     },
     "execution_count": 38,
     "metadata": {},
     "output_type": "execute_result"
    }
   ],
   "source": [
    "experience_required=[]\n",
    "for i in experience_tags:\n",
    "    experience_required.append(i.text)\n",
    "experience_required"
   ]
  },
  {
   "cell_type": "code",
   "execution_count": 39,
   "metadata": {},
   "outputs": [
    {
     "data": {
      "text/plain": [
       "[<selenium.webdriver.remote.webelement.WebElement (session=\"d19eb53b113fd3b8fdd1a4a4c883e549\", element=\"35c1c3a6-8d4f-4483-b93d-40ba41a1e098\")>,\n",
       " <selenium.webdriver.remote.webelement.WebElement (session=\"d19eb53b113fd3b8fdd1a4a4c883e549\", element=\"4161000b-e0a1-4e25-84ed-97434420aa5c\")>,\n",
       " <selenium.webdriver.remote.webelement.WebElement (session=\"d19eb53b113fd3b8fdd1a4a4c883e549\", element=\"2f26a536-15d2-480b-ba28-9cef0e767175\")>,\n",
       " <selenium.webdriver.remote.webelement.WebElement (session=\"d19eb53b113fd3b8fdd1a4a4c883e549\", element=\"73091218-1420-4fe5-802d-3e61f60503ea\")>,\n",
       " <selenium.webdriver.remote.webelement.WebElement (session=\"d19eb53b113fd3b8fdd1a4a4c883e549\", element=\"1fd4d0a1-98f1-48cd-b38c-4df32c7d43f0\")>,\n",
       " <selenium.webdriver.remote.webelement.WebElement (session=\"d19eb53b113fd3b8fdd1a4a4c883e549\", element=\"62ed5a73-11ce-4c68-a796-fc31758538be\")>,\n",
       " <selenium.webdriver.remote.webelement.WebElement (session=\"d19eb53b113fd3b8fdd1a4a4c883e549\", element=\"0badccda-d0fd-49c4-b7b8-f8d37307fbda\")>,\n",
       " <selenium.webdriver.remote.webelement.WebElement (session=\"d19eb53b113fd3b8fdd1a4a4c883e549\", element=\"4fb96381-05dd-4ecd-97c5-e8bc4520b380\")>,\n",
       " <selenium.webdriver.remote.webelement.WebElement (session=\"d19eb53b113fd3b8fdd1a4a4c883e549\", element=\"83a71cc4-2e6a-4ec5-aed2-d49e3793bc34\")>,\n",
       " <selenium.webdriver.remote.webelement.WebElement (session=\"d19eb53b113fd3b8fdd1a4a4c883e549\", element=\"bba6ebe5-50b7-46e7-b8e8-48ea4b7caef2\")>,\n",
       " <selenium.webdriver.remote.webelement.WebElement (session=\"d19eb53b113fd3b8fdd1a4a4c883e549\", element=\"97c922fb-3229-4d01-aaa0-1c5930a053db\")>,\n",
       " <selenium.webdriver.remote.webelement.WebElement (session=\"d19eb53b113fd3b8fdd1a4a4c883e549\", element=\"942cc204-925e-4f1b-9929-428014cbe88b\")>,\n",
       " <selenium.webdriver.remote.webelement.WebElement (session=\"d19eb53b113fd3b8fdd1a4a4c883e549\", element=\"a84dbfe5-77d0-4a37-bb14-cb16e5d025e6\")>,\n",
       " <selenium.webdriver.remote.webelement.WebElement (session=\"d19eb53b113fd3b8fdd1a4a4c883e549\", element=\"72d5789e-3d4a-4ac1-babe-4ad506565b43\")>,\n",
       " <selenium.webdriver.remote.webelement.WebElement (session=\"d19eb53b113fd3b8fdd1a4a4c883e549\", element=\"e054046d-203d-4d69-a18a-9e70a894d1d3\")>,\n",
       " <selenium.webdriver.remote.webelement.WebElement (session=\"d19eb53b113fd3b8fdd1a4a4c883e549\", element=\"0b946fcd-f3fc-4d67-a623-9cc18afd10c2\")>,\n",
       " <selenium.webdriver.remote.webelement.WebElement (session=\"d19eb53b113fd3b8fdd1a4a4c883e549\", element=\"b141f16c-9663-4891-a7dc-fbe7ca64956d\")>,\n",
       " <selenium.webdriver.remote.webelement.WebElement (session=\"d19eb53b113fd3b8fdd1a4a4c883e549\", element=\"9c48d5d5-50ca-4d4d-94bc-0b6eea2a78b9\")>,\n",
       " <selenium.webdriver.remote.webelement.WebElement (session=\"d19eb53b113fd3b8fdd1a4a4c883e549\", element=\"25b3848f-3401-4439-9aff-82d9dcae8c9f\")>,\n",
       " <selenium.webdriver.remote.webelement.WebElement (session=\"d19eb53b113fd3b8fdd1a4a4c883e549\", element=\"bd5b43ad-4ee5-4758-8f9f-3fdc6dc18914\")>]"
      ]
     },
     "execution_count": 39,
     "metadata": {},
     "output_type": "execute_result"
    }
   ],
   "source": [
    "locations_tags=driver.find_elements_by_xpath(\"//li[@class='fleft grey-text br2 placeHolderLi location']//span[1]\")\n",
    "locations_tags"
   ]
  },
  {
   "cell_type": "code",
   "execution_count": 40,
   "metadata": {},
   "outputs": [
    {
     "data": {
      "text/plain": [
       "['Gurgaon/Gurugram, Bangalore/Bengaluru',\n",
       " 'Chennai, Bangalore/Bengaluru',\n",
       " 'Bangalore/Bengaluru',\n",
       " 'Bangalore/Bengaluru',\n",
       " 'Bangalore/Bengaluru',\n",
       " 'Hyderabad/Secunderabad, Pune, Gurgaon/Gurugram, Chennai, Bangalore/Bengaluru, Mumbai (All Areas)',\n",
       " 'Chennai, Bangalore/Bengaluru',\n",
       " 'Bangalore/Bengaluru',\n",
       " 'Hyderabad/Secunderabad, Chennai, Bangalore/Bengaluru',\n",
       " 'Bangalore/Bengaluru',\n",
       " 'Bangalore/Bengaluru',\n",
       " 'Bangalore/Bengaluru',\n",
       " 'Bangalore/Bengaluru',\n",
       " 'Bangalore/Bengaluru',\n",
       " 'Bangalore/Bengaluru',\n",
       " 'Bengaluru/Bangalore',\n",
       " 'Mumbai, Bangalore/Bengaluru',\n",
       " 'Bangalore/Bengaluru',\n",
       " 'Bangalore/Bengaluru',\n",
       " 'Bangalore/Bengaluru']"
      ]
     },
     "execution_count": 40,
     "metadata": {},
     "output_type": "execute_result"
    }
   ],
   "source": [
    "job_locations=[]\n",
    "for i in locations_tags:\n",
    "    job_locations.append(i.text)\n",
    "job_locations"
   ]
  },
  {
   "cell_type": "code",
   "execution_count": 41,
   "metadata": {},
   "outputs": [
    {
     "name": "stdout",
     "output_type": "stream",
     "text": [
      "20 20 20 20\n"
     ]
    }
   ],
   "source": [
    "print(len(job_titles),len(company_names),len(experience_required),len(job_locations))"
   ]
  },
  {
   "cell_type": "code",
   "execution_count": 42,
   "metadata": {},
   "outputs": [
    {
     "data": {
      "text/html": [
       "<div>\n",
       "<style scoped>\n",
       "    .dataframe tbody tr th:only-of-type {\n",
       "        vertical-align: middle;\n",
       "    }\n",
       "\n",
       "    .dataframe tbody tr th {\n",
       "        vertical-align: top;\n",
       "    }\n",
       "\n",
       "    .dataframe thead th {\n",
       "        text-align: right;\n",
       "    }\n",
       "</style>\n",
       "<table border=\"1\" class=\"dataframe\">\n",
       "  <thead>\n",
       "    <tr style=\"text-align: right;\">\n",
       "      <th></th>\n",
       "      <th>job_titles</th>\n",
       "      <th>company_names</th>\n",
       "      <th>experience_required</th>\n",
       "      <th>job_locations</th>\n",
       "    </tr>\n",
       "  </thead>\n",
       "  <tbody>\n",
       "    <tr>\n",
       "      <th>0</th>\n",
       "      <td>Senior Data Analyst</td>\n",
       "      <td>Gaussian Networks Private Limited</td>\n",
       "      <td>3-5 Yrs</td>\n",
       "      <td>Gurgaon/Gurugram, Bangalore/Bengaluru</td>\n",
       "    </tr>\n",
       "    <tr>\n",
       "      <th>1</th>\n",
       "      <td>Tcs Hiring For Senior Data Analyst (bfsi domain)</td>\n",
       "      <td>Tata Consultancy Services Ltd.</td>\n",
       "      <td>6-11 Yrs</td>\n",
       "      <td>Chennai, Bangalore/Bengaluru</td>\n",
       "    </tr>\n",
       "    <tr>\n",
       "      <th>2</th>\n",
       "      <td>Business Data Analyst</td>\n",
       "      <td>Trigent Software</td>\n",
       "      <td>5-10 Yrs</td>\n",
       "      <td>Bangalore/Bengaluru</td>\n",
       "    </tr>\n",
       "    <tr>\n",
       "      <th>3</th>\n",
       "      <td>Business Data Analyst</td>\n",
       "      <td>Trigent Software</td>\n",
       "      <td>5-10 Yrs</td>\n",
       "      <td>Bangalore/Bengaluru</td>\n",
       "    </tr>\n",
       "    <tr>\n",
       "      <th>4</th>\n",
       "      <td>Business Data Analyst - Google Data Studio &amp; SQL</td>\n",
       "      <td>AVE-Promagne</td>\n",
       "      <td>3-8 Yrs</td>\n",
       "      <td>Bangalore/Bengaluru</td>\n",
       "    </tr>\n",
       "    <tr>\n",
       "      <th>5</th>\n",
       "      <td>Senior Data Analyst</td>\n",
       "      <td>Virtusa Consulting Services Pvt Ltd</td>\n",
       "      <td>8-12 Yrs</td>\n",
       "      <td>Hyderabad/Secunderabad, Pune, Gurgaon/Gurugram...</td>\n",
       "    </tr>\n",
       "    <tr>\n",
       "      <th>6</th>\n",
       "      <td>Tcs Hiring For MDM (master data management) Da...</td>\n",
       "      <td>Tata Consultancy Services Ltd.</td>\n",
       "      <td>6-11 Yrs</td>\n",
       "      <td>Chennai, Bangalore/Bengaluru</td>\n",
       "    </tr>\n",
       "    <tr>\n",
       "      <th>7</th>\n",
       "      <td>Senior Data Analyst IDAM Services</td>\n",
       "      <td>GlaxoSmithKline Pharmaceuticals Limited</td>\n",
       "      <td>4-8 Yrs</td>\n",
       "      <td>Bangalore/Bengaluru</td>\n",
       "    </tr>\n",
       "    <tr>\n",
       "      <th>8</th>\n",
       "      <td>Data Analyst/Sr.Data Engineer</td>\n",
       "      <td>SYREN TECHNOLOGIES PRIVATE LIMITED</td>\n",
       "      <td>4-9 Yrs</td>\n",
       "      <td>Hyderabad/Secunderabad, Chennai, Bangalore/Ben...</td>\n",
       "    </tr>\n",
       "    <tr>\n",
       "      <th>9</th>\n",
       "      <td>SENIOR DATA ANALYST</td>\n",
       "      <td>McAfee Software (India) Pvt. Ltd</td>\n",
       "      <td>6-8 Yrs</td>\n",
       "      <td>Bangalore/Bengaluru</td>\n",
       "    </tr>\n",
       "  </tbody>\n",
       "</table>\n",
       "</div>"
      ],
      "text/plain": [
       "                                          job_titles  \\\n",
       "0                                Senior Data Analyst   \n",
       "1   Tcs Hiring For Senior Data Analyst (bfsi domain)   \n",
       "2                              Business Data Analyst   \n",
       "3                              Business Data Analyst   \n",
       "4   Business Data Analyst - Google Data Studio & SQL   \n",
       "5                                Senior Data Analyst   \n",
       "6  Tcs Hiring For MDM (master data management) Da...   \n",
       "7                  Senior Data Analyst IDAM Services   \n",
       "8                      Data Analyst/Sr.Data Engineer   \n",
       "9                                SENIOR DATA ANALYST   \n",
       "\n",
       "                             company_names experience_required  \\\n",
       "0        Gaussian Networks Private Limited             3-5 Yrs   \n",
       "1           Tata Consultancy Services Ltd.            6-11 Yrs   \n",
       "2                         Trigent Software            5-10 Yrs   \n",
       "3                         Trigent Software            5-10 Yrs   \n",
       "4                             AVE-Promagne             3-8 Yrs   \n",
       "5      Virtusa Consulting Services Pvt Ltd            8-12 Yrs   \n",
       "6           Tata Consultancy Services Ltd.            6-11 Yrs   \n",
       "7  GlaxoSmithKline Pharmaceuticals Limited             4-8 Yrs   \n",
       "8       SYREN TECHNOLOGIES PRIVATE LIMITED             4-9 Yrs   \n",
       "9         McAfee Software (India) Pvt. Ltd             6-8 Yrs   \n",
       "\n",
       "                                       job_locations  \n",
       "0              Gurgaon/Gurugram, Bangalore/Bengaluru  \n",
       "1                       Chennai, Bangalore/Bengaluru  \n",
       "2                                Bangalore/Bengaluru  \n",
       "3                                Bangalore/Bengaluru  \n",
       "4                                Bangalore/Bengaluru  \n",
       "5  Hyderabad/Secunderabad, Pune, Gurgaon/Gurugram...  \n",
       "6                       Chennai, Bangalore/Bengaluru  \n",
       "7                                Bangalore/Bengaluru  \n",
       "8  Hyderabad/Secunderabad, Chennai, Bangalore/Ben...  \n",
       "9                                Bangalore/Bengaluru  "
      ]
     },
     "execution_count": 42,
     "metadata": {},
     "output_type": "execute_result"
    }
   ],
   "source": [
    "jobs=pd.DataFrame()\n",
    "jobs['job_titles']=job_titles[0:10]\n",
    "jobs['company_names']=company_names[0:10]\n",
    "jobs['experience_required']=experience_required[0:10]\n",
    "jobs['job_locations']=job_locations[0:10]\n",
    "jobs"
   ]
  },
  {
   "cell_type": "markdown",
   "metadata": {},
   "source": [
    "Q2: Write a python program to scrape data for “Data Scientist” Job position in “Bangalore” location. You have to scrape the job-title, job-location, company_name, full job-description."
   ]
  },
  {
   "cell_type": "code",
   "execution_count": 43,
   "metadata": {},
   "outputs": [],
   "source": [
    "driver=uc.Chrome()"
   ]
  },
  {
   "cell_type": "code",
   "execution_count": 44,
   "metadata": {},
   "outputs": [],
   "source": [
    "with driver:\n",
    "    driver.get('https://www.naukri.com/')"
   ]
  },
  {
   "cell_type": "code",
   "execution_count": 45,
   "metadata": {},
   "outputs": [
    {
     "data": {
      "text/plain": [
       "<selenium.webdriver.remote.webelement.WebElement (session=\"f57f3258bc951ecdc8755595f75f77cf\", element=\"0b63b270-cf55-4fc5-8879-dbe0a5c6165b\")>"
      ]
     },
     "execution_count": 45,
     "metadata": {},
     "output_type": "execute_result"
    }
   ],
   "source": [
    "search_job=driver.find_element_by_id('qsb-keyword-sugg')\n",
    "search_job"
   ]
  },
  {
   "cell_type": "code",
   "execution_count": 46,
   "metadata": {},
   "outputs": [],
   "source": [
    "search_job.send_keys('Data Scientist')"
   ]
  },
  {
   "cell_type": "code",
   "execution_count": 47,
   "metadata": {},
   "outputs": [],
   "source": [
    "search_loc=driver.find_element_by_id('qsb-location-sugg')\n",
    "search_loc.send_keys('Bangalore')\n"
   ]
  },
  {
   "cell_type": "code",
   "execution_count": 48,
   "metadata": {},
   "outputs": [
    {
     "data": {
      "text/plain": [
       "<selenium.webdriver.remote.webelement.WebElement (session=\"f57f3258bc951ecdc8755595f75f77cf\", element=\"917acc1d-6ea4-4110-b447-d325cf8ac149\")>"
      ]
     },
     "execution_count": 48,
     "metadata": {},
     "output_type": "execute_result"
    }
   ],
   "source": [
    "search_btn=driver.find_element_by_xpath(\"//button[@class='btn']\")\n",
    "search_btn"
   ]
  },
  {
   "cell_type": "code",
   "execution_count": 49,
   "metadata": {},
   "outputs": [],
   "source": [
    "search_btn.click()"
   ]
  },
  {
   "cell_type": "code",
   "execution_count": 50,
   "metadata": {},
   "outputs": [
    {
     "data": {
      "text/plain": [
       "[<selenium.webdriver.remote.webelement.WebElement (session=\"f57f3258bc951ecdc8755595f75f77cf\", element=\"bd36bcb9-95a0-466f-bc90-d0b1fc6ca6de\")>,\n",
       " <selenium.webdriver.remote.webelement.WebElement (session=\"f57f3258bc951ecdc8755595f75f77cf\", element=\"8c73e2c6-9e92-4154-a429-05e7722c28ca\")>,\n",
       " <selenium.webdriver.remote.webelement.WebElement (session=\"f57f3258bc951ecdc8755595f75f77cf\", element=\"35ed70a5-bea7-4c79-980a-176aa6f4f45c\")>,\n",
       " <selenium.webdriver.remote.webelement.WebElement (session=\"f57f3258bc951ecdc8755595f75f77cf\", element=\"9408d981-2ae8-43ed-9bbc-d93f2e123e8a\")>,\n",
       " <selenium.webdriver.remote.webelement.WebElement (session=\"f57f3258bc951ecdc8755595f75f77cf\", element=\"be13ecb1-0bf9-481b-9aa3-5879dc0e3d12\")>,\n",
       " <selenium.webdriver.remote.webelement.WebElement (session=\"f57f3258bc951ecdc8755595f75f77cf\", element=\"4f487360-7fe1-4162-9a16-704d150d2037\")>,\n",
       " <selenium.webdriver.remote.webelement.WebElement (session=\"f57f3258bc951ecdc8755595f75f77cf\", element=\"3e55ee7e-2914-44de-8510-c30700aa5201\")>,\n",
       " <selenium.webdriver.remote.webelement.WebElement (session=\"f57f3258bc951ecdc8755595f75f77cf\", element=\"f81ae25e-3d99-4f20-bf4b-0c4b030427ee\")>,\n",
       " <selenium.webdriver.remote.webelement.WebElement (session=\"f57f3258bc951ecdc8755595f75f77cf\", element=\"7a125c99-ec7a-425f-9793-43b6539a1858\")>,\n",
       " <selenium.webdriver.remote.webelement.WebElement (session=\"f57f3258bc951ecdc8755595f75f77cf\", element=\"e094af1d-acca-4442-91b7-f4ac44a9204d\")>,\n",
       " <selenium.webdriver.remote.webelement.WebElement (session=\"f57f3258bc951ecdc8755595f75f77cf\", element=\"59b876ff-9791-4a88-8016-b34ef7e3f365\")>,\n",
       " <selenium.webdriver.remote.webelement.WebElement (session=\"f57f3258bc951ecdc8755595f75f77cf\", element=\"50e6a7a2-516c-409a-96d2-edc228494946\")>,\n",
       " <selenium.webdriver.remote.webelement.WebElement (session=\"f57f3258bc951ecdc8755595f75f77cf\", element=\"e8d3567c-f89e-43d2-8cc1-baeb7a29f3e1\")>,\n",
       " <selenium.webdriver.remote.webelement.WebElement (session=\"f57f3258bc951ecdc8755595f75f77cf\", element=\"e0f18952-40dc-4428-bb57-bece2f084e54\")>,\n",
       " <selenium.webdriver.remote.webelement.WebElement (session=\"f57f3258bc951ecdc8755595f75f77cf\", element=\"a8eacbdf-b6e8-48a5-a8e6-4dd46572875b\")>,\n",
       " <selenium.webdriver.remote.webelement.WebElement (session=\"f57f3258bc951ecdc8755595f75f77cf\", element=\"50e9f1f6-26f8-4e7f-bd6c-a985f782703f\")>,\n",
       " <selenium.webdriver.remote.webelement.WebElement (session=\"f57f3258bc951ecdc8755595f75f77cf\", element=\"17536014-1e65-42e5-969c-78e898392cc8\")>,\n",
       " <selenium.webdriver.remote.webelement.WebElement (session=\"f57f3258bc951ecdc8755595f75f77cf\", element=\"efc380d6-59b0-43ed-929b-2dd33a095c77\")>,\n",
       " <selenium.webdriver.remote.webelement.WebElement (session=\"f57f3258bc951ecdc8755595f75f77cf\", element=\"b2f325af-8b88-4a8f-a1d9-713d3fde813b\")>,\n",
       " <selenium.webdriver.remote.webelement.WebElement (session=\"f57f3258bc951ecdc8755595f75f77cf\", element=\"bf0a8e6f-161b-48bb-806e-6d7ab4cd49be\")>]"
      ]
     },
     "execution_count": 50,
     "metadata": {},
     "output_type": "execute_result"
    }
   ],
   "source": [
    "titles_tags=driver.find_elements_by_xpath(\"//a[@class='title fw500 ellipsis']\")\n",
    "titles_tags"
   ]
  },
  {
   "cell_type": "code",
   "execution_count": 51,
   "metadata": {},
   "outputs": [
    {
     "data": {
      "text/plain": [
       "['Hiring For Data Scientist',\n",
       " 'Lead Data Scientist BFSI',\n",
       " 'Associate Data Scientist',\n",
       " 'Data Scientist',\n",
       " 'Data Scientist - I / II',\n",
       " 'Data Scientist',\n",
       " 'Data Scientist',\n",
       " 'Data Scientist: Advanced Analytics',\n",
       " 'Senior Data Scientist',\n",
       " 'Senior Data Scientist',\n",
       " 'Sr Data Scientist',\n",
       " 'Sr Data Scientist',\n",
       " 'SENIOR DATA SCIENTIST',\n",
       " 'Senior Data Scientist IN4',\n",
       " 'Senior Data Scientist (Marketplace)',\n",
       " 'Hiring For Manager and Sr. Manager | Data Scientist',\n",
       " 'Requirement For Data Scientist - Mumbai & Bangalore',\n",
       " 'Data Scientist (Python & SQL)',\n",
       " 'Lead Data Scientist - Machine Learning/ Data Mining',\n",
       " 'Data Scientist- Senior Business Analyst/Lead Analyst']"
      ]
     },
     "execution_count": 51,
     "metadata": {},
     "output_type": "execute_result"
    }
   ],
   "source": [
    "job_titles=[]\n",
    "for i in titles_tags:\n",
    "    job_titles.append(i.text)\n",
    "job_titles"
   ]
  },
  {
   "cell_type": "code",
   "execution_count": 52,
   "metadata": {},
   "outputs": [
    {
     "data": {
      "text/plain": [
       "[<selenium.webdriver.remote.webelement.WebElement (session=\"f57f3258bc951ecdc8755595f75f77cf\", element=\"a48054c3-c460-46eb-8fdd-a23f9ce99f02\")>,\n",
       " <selenium.webdriver.remote.webelement.WebElement (session=\"f57f3258bc951ecdc8755595f75f77cf\", element=\"c6fe2325-0932-46e8-a039-d50932fbbb24\")>,\n",
       " <selenium.webdriver.remote.webelement.WebElement (session=\"f57f3258bc951ecdc8755595f75f77cf\", element=\"51a42ceb-64b4-4602-b9ea-ae434b6d7972\")>,\n",
       " <selenium.webdriver.remote.webelement.WebElement (session=\"f57f3258bc951ecdc8755595f75f77cf\", element=\"83c390e8-1589-4f1c-8131-88e64d9ee096\")>,\n",
       " <selenium.webdriver.remote.webelement.WebElement (session=\"f57f3258bc951ecdc8755595f75f77cf\", element=\"423e4613-a4af-4186-a7af-494de8b9e31f\")>,\n",
       " <selenium.webdriver.remote.webelement.WebElement (session=\"f57f3258bc951ecdc8755595f75f77cf\", element=\"313a03a1-e95a-417b-ad2a-4143fa85951b\")>,\n",
       " <selenium.webdriver.remote.webelement.WebElement (session=\"f57f3258bc951ecdc8755595f75f77cf\", element=\"4c7801b7-f4fa-4b09-9874-3694b5afe87a\")>,\n",
       " <selenium.webdriver.remote.webelement.WebElement (session=\"f57f3258bc951ecdc8755595f75f77cf\", element=\"c7c3ee5b-b062-4b39-8092-dce8cef3fdeb\")>,\n",
       " <selenium.webdriver.remote.webelement.WebElement (session=\"f57f3258bc951ecdc8755595f75f77cf\", element=\"e3055741-aba9-420f-b1bc-5a2ed900020a\")>,\n",
       " <selenium.webdriver.remote.webelement.WebElement (session=\"f57f3258bc951ecdc8755595f75f77cf\", element=\"19b30cdf-4078-4694-9bb0-bcf575fed8c2\")>,\n",
       " <selenium.webdriver.remote.webelement.WebElement (session=\"f57f3258bc951ecdc8755595f75f77cf\", element=\"ab063ec8-7ba6-4b41-9c76-13d84977aedf\")>,\n",
       " <selenium.webdriver.remote.webelement.WebElement (session=\"f57f3258bc951ecdc8755595f75f77cf\", element=\"14e729d6-2bc6-4d97-a46f-aac2573bfff4\")>,\n",
       " <selenium.webdriver.remote.webelement.WebElement (session=\"f57f3258bc951ecdc8755595f75f77cf\", element=\"cee143d4-20e8-4523-ab11-13a4af9832f4\")>,\n",
       " <selenium.webdriver.remote.webelement.WebElement (session=\"f57f3258bc951ecdc8755595f75f77cf\", element=\"6131a29b-aba0-40ba-9aa7-5112803242e6\")>,\n",
       " <selenium.webdriver.remote.webelement.WebElement (session=\"f57f3258bc951ecdc8755595f75f77cf\", element=\"78368900-1187-4de4-b36d-fdf977189183\")>,\n",
       " <selenium.webdriver.remote.webelement.WebElement (session=\"f57f3258bc951ecdc8755595f75f77cf\", element=\"eb570643-4c59-4ab3-9030-6367c7a23029\")>,\n",
       " <selenium.webdriver.remote.webelement.WebElement (session=\"f57f3258bc951ecdc8755595f75f77cf\", element=\"8fadf065-0667-4485-930b-beb465674991\")>,\n",
       " <selenium.webdriver.remote.webelement.WebElement (session=\"f57f3258bc951ecdc8755595f75f77cf\", element=\"44be152d-f199-432e-a8ac-db9d5b21358f\")>,\n",
       " <selenium.webdriver.remote.webelement.WebElement (session=\"f57f3258bc951ecdc8755595f75f77cf\", element=\"f7d2e535-a3b5-4e97-a227-9ff1364bf1e3\")>,\n",
       " <selenium.webdriver.remote.webelement.WebElement (session=\"f57f3258bc951ecdc8755595f75f77cf\", element=\"6dab2499-aedf-4b05-a83f-236fc8b4d799\")>]"
      ]
     },
     "execution_count": 52,
     "metadata": {},
     "output_type": "execute_result"
    }
   ],
   "source": [
    "\n",
    "companies_tags=driver.find_elements_by_xpath(\"//a[@class='subTitle ellipsis fleft']\")\n",
    "companies_tags"
   ]
  },
  {
   "cell_type": "code",
   "execution_count": 53,
   "metadata": {},
   "outputs": [
    {
     "data": {
      "text/plain": [
       "['Tata Consultancy Services Ltd.',\n",
       " 'IBM India Pvt. Limited',\n",
       " 'Philips India Limited',\n",
       " 'Brillio',\n",
       " 'Sharechat',\n",
       " 'Allegis Services India Pvt. Ltd.',\n",
       " 'Allegis Services India Pvt. Ltd.',\n",
       " 'IBM India Pvt. Limited',\n",
       " 'Walmart Labs',\n",
       " 'Airbnb',\n",
       " 'IBM India Pvt. Limited',\n",
       " 'IBM India Pvt. Limited',\n",
       " 'Happiest Minds Technologies Pvt.Ltd',\n",
       " 'Walmart Labs',\n",
       " 'Walmart Labs',\n",
       " 'Vision Beyond Resources India Private Limited',\n",
       " 'CRISIL LIMITED',\n",
       " 'AVE-Promagne',\n",
       " 'Wrackle Technologies Pvt Ltd',\n",
       " 'Evalueserve.com Pvt. Ltd']"
      ]
     },
     "execution_count": 53,
     "metadata": {},
     "output_type": "execute_result"
    }
   ],
   "source": [
    "company_names=[]\n",
    "for i in companies_tags:\n",
    "    company_names.append(i.text)\n",
    "company_names"
   ]
  },
  {
   "cell_type": "code",
   "execution_count": 54,
   "metadata": {},
   "outputs": [
    {
     "data": {
      "text/plain": [
       "[<selenium.webdriver.remote.webelement.WebElement (session=\"f57f3258bc951ecdc8755595f75f77cf\", element=\"f83eb8f1-65f1-4187-ad13-d647e368b77d\")>,\n",
       " <selenium.webdriver.remote.webelement.WebElement (session=\"f57f3258bc951ecdc8755595f75f77cf\", element=\"c1e5ea62-b21a-4af9-9814-8679506f6048\")>,\n",
       " <selenium.webdriver.remote.webelement.WebElement (session=\"f57f3258bc951ecdc8755595f75f77cf\", element=\"cf298dea-2918-4d2b-b2c7-22b3d2be40dd\")>,\n",
       " <selenium.webdriver.remote.webelement.WebElement (session=\"f57f3258bc951ecdc8755595f75f77cf\", element=\"2175076a-0908-434b-ac02-7942539c2307\")>,\n",
       " <selenium.webdriver.remote.webelement.WebElement (session=\"f57f3258bc951ecdc8755595f75f77cf\", element=\"6331e308-67d9-41ad-ab3e-57a08d5c1e2e\")>,\n",
       " <selenium.webdriver.remote.webelement.WebElement (session=\"f57f3258bc951ecdc8755595f75f77cf\", element=\"d6545305-51c0-4f6a-b43b-0d2240276a08\")>,\n",
       " <selenium.webdriver.remote.webelement.WebElement (session=\"f57f3258bc951ecdc8755595f75f77cf\", element=\"9aeb519b-8177-40b4-a5a2-55e9550b70b0\")>,\n",
       " <selenium.webdriver.remote.webelement.WebElement (session=\"f57f3258bc951ecdc8755595f75f77cf\", element=\"82143f0f-1217-4a0d-969a-3268a7e503be\")>,\n",
       " <selenium.webdriver.remote.webelement.WebElement (session=\"f57f3258bc951ecdc8755595f75f77cf\", element=\"191e664e-af17-43e4-89c9-e48601a95fc3\")>,\n",
       " <selenium.webdriver.remote.webelement.WebElement (session=\"f57f3258bc951ecdc8755595f75f77cf\", element=\"587e6f9d-40d4-41ce-aea1-8b91569cb9f4\")>,\n",
       " <selenium.webdriver.remote.webelement.WebElement (session=\"f57f3258bc951ecdc8755595f75f77cf\", element=\"de7cc7a4-d341-45da-b508-86e0d3e07d3a\")>,\n",
       " <selenium.webdriver.remote.webelement.WebElement (session=\"f57f3258bc951ecdc8755595f75f77cf\", element=\"05dc0570-c911-4d82-bc39-2a29d358c566\")>,\n",
       " <selenium.webdriver.remote.webelement.WebElement (session=\"f57f3258bc951ecdc8755595f75f77cf\", element=\"bc15b069-df88-4082-870b-4da2fc690509\")>,\n",
       " <selenium.webdriver.remote.webelement.WebElement (session=\"f57f3258bc951ecdc8755595f75f77cf\", element=\"492dbe1b-ab9b-466a-8c61-dd9ed792d140\")>,\n",
       " <selenium.webdriver.remote.webelement.WebElement (session=\"f57f3258bc951ecdc8755595f75f77cf\", element=\"3092fb49-1e30-4612-b7f6-79ead3a6d63b\")>,\n",
       " <selenium.webdriver.remote.webelement.WebElement (session=\"f57f3258bc951ecdc8755595f75f77cf\", element=\"07fc433f-1ce4-4979-af9b-0e879aaba9ff\")>,\n",
       " <selenium.webdriver.remote.webelement.WebElement (session=\"f57f3258bc951ecdc8755595f75f77cf\", element=\"c44937ab-820b-42cf-8444-6ffd4ae23f87\")>,\n",
       " <selenium.webdriver.remote.webelement.WebElement (session=\"f57f3258bc951ecdc8755595f75f77cf\", element=\"8001a61c-e827-41c2-b065-846e59975d9a\")>,\n",
       " <selenium.webdriver.remote.webelement.WebElement (session=\"f57f3258bc951ecdc8755595f75f77cf\", element=\"557da8ae-f860-4cf1-b017-58c578377919\")>,\n",
       " <selenium.webdriver.remote.webelement.WebElement (session=\"f57f3258bc951ecdc8755595f75f77cf\", element=\"299348c8-0062-4d75-9f3b-0c1d49406bc4\")>]"
      ]
     },
     "execution_count": 54,
     "metadata": {},
     "output_type": "execute_result"
    }
   ],
   "source": [
    "locations_tags=driver.find_elements_by_xpath(\"//li[@class='fleft grey-text br2 placeHolderLi location']//span[1]\")\n",
    "locations_tags"
   ]
  },
  {
   "cell_type": "code",
   "execution_count": 55,
   "metadata": {},
   "outputs": [
    {
     "data": {
      "text/plain": [
       "['Chennai, Bangalore/Bengaluru, Mumbai (All Areas)',\n",
       " 'Bengaluru/Bangalore',\n",
       " 'Bangalore/Bengaluru',\n",
       " 'Bangalore/Bengaluru',\n",
       " 'Bangalore/Bengaluru',\n",
       " 'Bangalore/Bengaluru',\n",
       " 'Bangalore/Bengaluru',\n",
       " 'Bengaluru/Bangalore',\n",
       " 'Bangalore/Bengaluru',\n",
       " 'Bangalore/Bengaluru',\n",
       " 'Bengaluru/Bangalore',\n",
       " 'Bangalore/Bengaluru',\n",
       " 'Bangalore/Bengaluru',\n",
       " 'Bangalore/Bengaluru',\n",
       " 'Bangalore/Bengaluru',\n",
       " 'Noida, Mumbai, New Delhi, Gurgaon/Gurugram, Bangalore/Bengaluru',\n",
       " 'Bangalore/Bengaluru, Mumbai (All Areas)',\n",
       " 'Hyderabad/Secunderabad, Chennai, Bangalore/Bengaluru',\n",
       " 'Bangalore/Bengaluru',\n",
       " 'Gurgaon/Gurugram, Bangalore/Bengaluru']"
      ]
     },
     "execution_count": 55,
     "metadata": {},
     "output_type": "execute_result"
    }
   ],
   "source": [
    "job_locations=[]\n",
    "for i in locations_tags:\n",
    "    job_locations.append(i.text)\n",
    "job_locations"
   ]
  },
  {
   "cell_type": "code",
   "execution_count": 56,
   "metadata": {},
   "outputs": [
    {
     "data": {
      "text/plain": [
       "[<selenium.webdriver.remote.webelement.WebElement (session=\"f57f3258bc951ecdc8755595f75f77cf\", element=\"507a0379-6fab-49b7-a7d9-f914d78579d9\")>,\n",
       " <selenium.webdriver.remote.webelement.WebElement (session=\"f57f3258bc951ecdc8755595f75f77cf\", element=\"dafb1aca-f418-4346-9aa4-c6a869a982f2\")>,\n",
       " <selenium.webdriver.remote.webelement.WebElement (session=\"f57f3258bc951ecdc8755595f75f77cf\", element=\"dbcf4031-75bf-4c29-aaf6-b0d47f0a3ac7\")>,\n",
       " <selenium.webdriver.remote.webelement.WebElement (session=\"f57f3258bc951ecdc8755595f75f77cf\", element=\"bfc4d35d-97ab-4987-83ac-509e7e48ee5a\")>,\n",
       " <selenium.webdriver.remote.webelement.WebElement (session=\"f57f3258bc951ecdc8755595f75f77cf\", element=\"8a9de252-6a9f-4bf1-b777-5d033b4e162e\")>,\n",
       " <selenium.webdriver.remote.webelement.WebElement (session=\"f57f3258bc951ecdc8755595f75f77cf\", element=\"19ab80a4-27c0-4e3b-a0a5-5e8c8652b1e9\")>,\n",
       " <selenium.webdriver.remote.webelement.WebElement (session=\"f57f3258bc951ecdc8755595f75f77cf\", element=\"4b44c7fc-ba4d-40e7-8b78-d0a4b1803b34\")>,\n",
       " <selenium.webdriver.remote.webelement.WebElement (session=\"f57f3258bc951ecdc8755595f75f77cf\", element=\"f378c69b-7df2-4e6d-a8e2-e516b1457c1b\")>,\n",
       " <selenium.webdriver.remote.webelement.WebElement (session=\"f57f3258bc951ecdc8755595f75f77cf\", element=\"e1b6f18e-3074-40e4-9d2b-957c7650a78b\")>,\n",
       " <selenium.webdriver.remote.webelement.WebElement (session=\"f57f3258bc951ecdc8755595f75f77cf\", element=\"30aa25c3-4e9e-4738-b516-d6bcb4edc2d0\")>,\n",
       " <selenium.webdriver.remote.webelement.WebElement (session=\"f57f3258bc951ecdc8755595f75f77cf\", element=\"c58040cf-1b13-4553-9b18-cc1d3a4cd1d7\")>,\n",
       " <selenium.webdriver.remote.webelement.WebElement (session=\"f57f3258bc951ecdc8755595f75f77cf\", element=\"409557cf-d9f2-4837-a1fa-6d487e28b227\")>,\n",
       " <selenium.webdriver.remote.webelement.WebElement (session=\"f57f3258bc951ecdc8755595f75f77cf\", element=\"f8eda94f-e924-4937-8335-0b86cb27a53e\")>,\n",
       " <selenium.webdriver.remote.webelement.WebElement (session=\"f57f3258bc951ecdc8755595f75f77cf\", element=\"a192386b-5fb6-44a7-ac3e-18c2438b23a6\")>,\n",
       " <selenium.webdriver.remote.webelement.WebElement (session=\"f57f3258bc951ecdc8755595f75f77cf\", element=\"7606ed0e-b09f-45c1-9155-84cb7d6caae1\")>,\n",
       " <selenium.webdriver.remote.webelement.WebElement (session=\"f57f3258bc951ecdc8755595f75f77cf\", element=\"410e6302-75c4-4954-a306-80cda76af157\")>,\n",
       " <selenium.webdriver.remote.webelement.WebElement (session=\"f57f3258bc951ecdc8755595f75f77cf\", element=\"b49d3198-da27-485c-9c29-3bd8f7253325\")>,\n",
       " <selenium.webdriver.remote.webelement.WebElement (session=\"f57f3258bc951ecdc8755595f75f77cf\", element=\"a062408a-ffc6-4422-b2db-58e2bd6a241f\")>,\n",
       " <selenium.webdriver.remote.webelement.WebElement (session=\"f57f3258bc951ecdc8755595f75f77cf\", element=\"e95404d2-0a23-41ce-aa01-b6ae5d14ff5b\")>,\n",
       " <selenium.webdriver.remote.webelement.WebElement (session=\"f57f3258bc951ecdc8755595f75f77cf\", element=\"264ab759-b175-487c-8ba1-7fd07267013d\")>]"
      ]
     },
     "execution_count": 56,
     "metadata": {},
     "output_type": "execute_result"
    }
   ],
   "source": [
    "full_job_description=driver.find_elements_by_xpath(\"//div[@class='job-description fs12 grey-text']\")\n",
    "full_job_description"
   ]
  },
  {
   "cell_type": "code",
   "execution_count": 57,
   "metadata": {},
   "outputs": [
    {
     "data": {
      "text/plain": [
       "['Minimum 3 year of experience in being Applied Machine Learning Engineer roleExperience ...',\n",
       " 'IntroductionSoftware Developers at IBM are the backbone of our strategic initiatives to...',\n",
       " 'Use predictive modeling to increase and optimize customer experiences, revenue generati...',\n",
       " 'Experience using statistical computer language Python to manipulate data and draw insig...',\n",
       " 'Experience with multi threaded implementations utilizing computer units like multi core...',\n",
       " 'Proficient in writing optimized query using any one of the DB query language (Hive / Im...',\n",
       " 'Proficient in writing optimized query using any one of the DB query language (Hive / Im...',\n",
       " 'PhD / Masters in STEM-related fields with knowledge in Quantum ComputingRequired Techni...',\n",
       " 'As a Senior Data Scientist for Walmart, you ll have the opportunity to: Drive data-deri...',\n",
       " 'Professional industry experience in a quantitative analysis role (7+ years preferred) C...',\n",
       " 'Demonstrated extensive experience in building and deploying production quality models i...',\n",
       " 'Demonstrated extensive experience in building and deploying production quality models i...',\n",
       " 'Should possess extensive knowledge of and experience in applying data mining and machin...',\n",
       " 'Bachelor s degree in Engineering / Analytics or Master s Degree in Statistics / Compute...',\n",
       " 'o Solid experience working with state-of-the-art supervised and unsupervised machine le...',\n",
       " 'Hello, We are hiring on behalf of one of the largest BPO/ Consulting services.The skill...',\n",
       " 'CRISIL (formerly Credit Rating Information Services of India Limited) is an Indian anal...',\n",
       " 'Required Technical and Professional Expertise• 6+ years of industry work experience in ...',\n",
       " 'BS/ MS/ PhD in Computer Science, Statistics, Applied Math, or related areas from Premie...',\n",
       " 'from a reputed institute Experience with cloud computing infrastructure, such as AWS / ...']"
      ]
     },
     "execution_count": 57,
     "metadata": {},
     "output_type": "execute_result"
    }
   ],
   "source": [
    "Full_job_description=[]\n",
    "for i in full_job_description:\n",
    "    Full_job_description.append(i.text)\n",
    "Full_job_description"
   ]
  },
  {
   "cell_type": "code",
   "execution_count": 58,
   "metadata": {},
   "outputs": [
    {
     "name": "stdout",
     "output_type": "stream",
     "text": [
      "20 20 20 20\n"
     ]
    }
   ],
   "source": [
    "print(len(job_titles),len(company_names),len(job_locations),len(Full_job_description))"
   ]
  },
  {
   "cell_type": "code",
   "execution_count": 59,
   "metadata": {},
   "outputs": [
    {
     "data": {
      "text/html": [
       "<div>\n",
       "<style scoped>\n",
       "    .dataframe tbody tr th:only-of-type {\n",
       "        vertical-align: middle;\n",
       "    }\n",
       "\n",
       "    .dataframe tbody tr th {\n",
       "        vertical-align: top;\n",
       "    }\n",
       "\n",
       "    .dataframe thead th {\n",
       "        text-align: right;\n",
       "    }\n",
       "</style>\n",
       "<table border=\"1\" class=\"dataframe\">\n",
       "  <thead>\n",
       "    <tr style=\"text-align: right;\">\n",
       "      <th></th>\n",
       "      <th>job_titles</th>\n",
       "      <th>company_names</th>\n",
       "      <th>job_locations</th>\n",
       "      <th>Full_job_description</th>\n",
       "    </tr>\n",
       "  </thead>\n",
       "  <tbody>\n",
       "    <tr>\n",
       "      <th>0</th>\n",
       "      <td>Hiring For Data Scientist</td>\n",
       "      <td>Tata Consultancy Services Ltd.</td>\n",
       "      <td>Chennai, Bangalore/Bengaluru, Mumbai (All Areas)</td>\n",
       "      <td>Minimum 3 year of experience in being Applied ...</td>\n",
       "    </tr>\n",
       "    <tr>\n",
       "      <th>1</th>\n",
       "      <td>Lead Data Scientist BFSI</td>\n",
       "      <td>IBM India Pvt. Limited</td>\n",
       "      <td>Bengaluru/Bangalore</td>\n",
       "      <td>IntroductionSoftware Developers at IBM are the...</td>\n",
       "    </tr>\n",
       "    <tr>\n",
       "      <th>2</th>\n",
       "      <td>Associate Data Scientist</td>\n",
       "      <td>Philips India Limited</td>\n",
       "      <td>Bangalore/Bengaluru</td>\n",
       "      <td>Use predictive modeling to increase and optimi...</td>\n",
       "    </tr>\n",
       "    <tr>\n",
       "      <th>3</th>\n",
       "      <td>Data Scientist</td>\n",
       "      <td>Brillio</td>\n",
       "      <td>Bangalore/Bengaluru</td>\n",
       "      <td>Experience using statistical computer language...</td>\n",
       "    </tr>\n",
       "    <tr>\n",
       "      <th>4</th>\n",
       "      <td>Data Scientist - I / II</td>\n",
       "      <td>Sharechat</td>\n",
       "      <td>Bangalore/Bengaluru</td>\n",
       "      <td>Experience with multi threaded implementations...</td>\n",
       "    </tr>\n",
       "    <tr>\n",
       "      <th>5</th>\n",
       "      <td>Data Scientist</td>\n",
       "      <td>Allegis Services India Pvt. Ltd.</td>\n",
       "      <td>Bangalore/Bengaluru</td>\n",
       "      <td>Proficient in writing optimized query using an...</td>\n",
       "    </tr>\n",
       "    <tr>\n",
       "      <th>6</th>\n",
       "      <td>Data Scientist</td>\n",
       "      <td>Allegis Services India Pvt. Ltd.</td>\n",
       "      <td>Bangalore/Bengaluru</td>\n",
       "      <td>Proficient in writing optimized query using an...</td>\n",
       "    </tr>\n",
       "    <tr>\n",
       "      <th>7</th>\n",
       "      <td>Data Scientist: Advanced Analytics</td>\n",
       "      <td>IBM India Pvt. Limited</td>\n",
       "      <td>Bengaluru/Bangalore</td>\n",
       "      <td>PhD / Masters in STEM-related fields with know...</td>\n",
       "    </tr>\n",
       "    <tr>\n",
       "      <th>8</th>\n",
       "      <td>Senior Data Scientist</td>\n",
       "      <td>Walmart Labs</td>\n",
       "      <td>Bangalore/Bengaluru</td>\n",
       "      <td>As a Senior Data Scientist for Walmart, you ll...</td>\n",
       "    </tr>\n",
       "    <tr>\n",
       "      <th>9</th>\n",
       "      <td>Senior Data Scientist</td>\n",
       "      <td>Airbnb</td>\n",
       "      <td>Bangalore/Bengaluru</td>\n",
       "      <td>Professional industry experience in a quantita...</td>\n",
       "    </tr>\n",
       "  </tbody>\n",
       "</table>\n",
       "</div>"
      ],
      "text/plain": [
       "                           job_titles                     company_names  \\\n",
       "0           Hiring For Data Scientist    Tata Consultancy Services Ltd.   \n",
       "1            Lead Data Scientist BFSI            IBM India Pvt. Limited   \n",
       "2            Associate Data Scientist             Philips India Limited   \n",
       "3                      Data Scientist                           Brillio   \n",
       "4             Data Scientist - I / II                         Sharechat   \n",
       "5                      Data Scientist  Allegis Services India Pvt. Ltd.   \n",
       "6                      Data Scientist  Allegis Services India Pvt. Ltd.   \n",
       "7  Data Scientist: Advanced Analytics            IBM India Pvt. Limited   \n",
       "8               Senior Data Scientist                      Walmart Labs   \n",
       "9               Senior Data Scientist                            Airbnb   \n",
       "\n",
       "                                      job_locations  \\\n",
       "0  Chennai, Bangalore/Bengaluru, Mumbai (All Areas)   \n",
       "1                               Bengaluru/Bangalore   \n",
       "2                               Bangalore/Bengaluru   \n",
       "3                               Bangalore/Bengaluru   \n",
       "4                               Bangalore/Bengaluru   \n",
       "5                               Bangalore/Bengaluru   \n",
       "6                               Bangalore/Bengaluru   \n",
       "7                               Bengaluru/Bangalore   \n",
       "8                               Bangalore/Bengaluru   \n",
       "9                               Bangalore/Bengaluru   \n",
       "\n",
       "                                Full_job_description  \n",
       "0  Minimum 3 year of experience in being Applied ...  \n",
       "1  IntroductionSoftware Developers at IBM are the...  \n",
       "2  Use predictive modeling to increase and optimi...  \n",
       "3  Experience using statistical computer language...  \n",
       "4  Experience with multi threaded implementations...  \n",
       "5  Proficient in writing optimized query using an...  \n",
       "6  Proficient in writing optimized query using an...  \n",
       "7  PhD / Masters in STEM-related fields with know...  \n",
       "8  As a Senior Data Scientist for Walmart, you ll...  \n",
       "9  Professional industry experience in a quantita...  "
      ]
     },
     "execution_count": 59,
     "metadata": {},
     "output_type": "execute_result"
    }
   ],
   "source": [
    "jobs=pd.DataFrame()\n",
    "jobs['job_titles']=job_titles[0:10]\n",
    "jobs['company_names']=company_names[0:10]\n",
    "jobs['job_locations']=job_locations[0:10]\n",
    "jobs['Full_job_description']=Full_job_description[0:10]\n",
    "jobs"
   ]
  },
  {
   "cell_type": "markdown",
   "metadata": {},
   "source": [
    "Q3: In this question you have to scrape data using the filters available on the webpage as shown below: You have to use the location and salary filter. You have to scrape data for “Data Scientist” designation for first 10 job results. You have to scrape the job-title, job-location, company_name, experience_required. The location filter to be used is “Delhi/NCR” The salary filter to be used is “3-6” lakhs"
   ]
  },
  {
   "cell_type": "code",
   "execution_count": 60,
   "metadata": {},
   "outputs": [],
   "source": [
    "import time\n",
    "from selenium.common.exceptions import StaleElementReferenceException as e\n",
    "from selenium.common.exceptions import NoSuchElementException\n",
    "from selenium.webdriver.support.ui import WebDriverWait\n",
    "from selenium.webdriver.support import expected_conditions as EC\n",
    "from selenium.webdriver.common.by import By"
   ]
  },
  {
   "cell_type": "code",
   "execution_count": 61,
   "metadata": {},
   "outputs": [],
   "source": [
    "driver=uc.Chrome()"
   ]
  },
  {
   "cell_type": "code",
   "execution_count": 62,
   "metadata": {},
   "outputs": [],
   "source": [
    "with driver:\n",
    "    driver.get('https://www.naukri.com/')"
   ]
  },
  {
   "cell_type": "code",
   "execution_count": 63,
   "metadata": {},
   "outputs": [
    {
     "data": {
      "text/plain": [
       "<selenium.webdriver.remote.webelement.WebElement (session=\"0bb44f1b583a28fa5b3321fdc3ec6129\", element=\"604292af-b1fd-4a49-bafd-1c9d6cdc7ea5\")>"
      ]
     },
     "execution_count": 63,
     "metadata": {},
     "output_type": "execute_result"
    }
   ],
   "source": [
    "search_job=driver.find_element_by_id('qsb-keyword-sugg')\n",
    "search_job"
   ]
  },
  {
   "cell_type": "code",
   "execution_count": 64,
   "metadata": {},
   "outputs": [],
   "source": [
    "search_job.send_keys('Data Scientist')"
   ]
  },
  {
   "cell_type": "code",
   "execution_count": 65,
   "metadata": {},
   "outputs": [],
   "source": [
    "search_loc=driver.find_element_by_id('qsb-location-sugg')\n",
    "search_loc.send_keys('Delhi/NCR')"
   ]
  },
  {
   "cell_type": "code",
   "execution_count": 66,
   "metadata": {},
   "outputs": [
    {
     "data": {
      "text/plain": [
       "<selenium.webdriver.remote.webelement.WebElement (session=\"0bb44f1b583a28fa5b3321fdc3ec6129\", element=\"2bc3ff05-2c4c-4642-b41b-d2a0c4dbfa88\")>"
      ]
     },
     "execution_count": 66,
     "metadata": {},
     "output_type": "execute_result"
    }
   ],
   "source": [
    "search_btn=driver.find_element_by_xpath(\"//button[@class='btn']\")\n",
    "search_btn"
   ]
  },
  {
   "cell_type": "code",
   "execution_count": 67,
   "metadata": {},
   "outputs": [],
   "source": [
    "search_btn.click()"
   ]
  },
  {
   "cell_type": "code",
   "execution_count": 68,
   "metadata": {},
   "outputs": [],
   "source": [
    "driver.find_element_by_xpath(\"//span[@title='3-6 Lakhs']\").click()"
   ]
  },
  {
   "cell_type": "code",
   "execution_count": 69,
   "metadata": {},
   "outputs": [
    {
     "data": {
      "text/plain": [
       "[<selenium.webdriver.remote.webelement.WebElement (session=\"0bb44f1b583a28fa5b3321fdc3ec6129\", element=\"86f400a0-1af3-4ebf-b31a-0359410c0712\")>,\n",
       " <selenium.webdriver.remote.webelement.WebElement (session=\"0bb44f1b583a28fa5b3321fdc3ec6129\", element=\"43d215fb-49cf-404d-8618-920aa35b23ae\")>,\n",
       " <selenium.webdriver.remote.webelement.WebElement (session=\"0bb44f1b583a28fa5b3321fdc3ec6129\", element=\"5f723963-9e5e-4ce4-9068-2b4a4aadb4fc\")>,\n",
       " <selenium.webdriver.remote.webelement.WebElement (session=\"0bb44f1b583a28fa5b3321fdc3ec6129\", element=\"1616bb4f-4998-47f5-8802-5165a3268266\")>,\n",
       " <selenium.webdriver.remote.webelement.WebElement (session=\"0bb44f1b583a28fa5b3321fdc3ec6129\", element=\"420134f6-5427-4662-86c1-ba8d91c0df2b\")>,\n",
       " <selenium.webdriver.remote.webelement.WebElement (session=\"0bb44f1b583a28fa5b3321fdc3ec6129\", element=\"0993bd85-6988-4b7d-972d-3a987b753242\")>,\n",
       " <selenium.webdriver.remote.webelement.WebElement (session=\"0bb44f1b583a28fa5b3321fdc3ec6129\", element=\"1eb6eb00-e2a6-4cfc-8454-a3591626d818\")>,\n",
       " <selenium.webdriver.remote.webelement.WebElement (session=\"0bb44f1b583a28fa5b3321fdc3ec6129\", element=\"857aaedc-1969-4668-80fa-46a1901171cf\")>,\n",
       " <selenium.webdriver.remote.webelement.WebElement (session=\"0bb44f1b583a28fa5b3321fdc3ec6129\", element=\"6b2e968a-fd5c-47c2-8eff-5dc64896ed5f\")>,\n",
       " <selenium.webdriver.remote.webelement.WebElement (session=\"0bb44f1b583a28fa5b3321fdc3ec6129\", element=\"7dd73461-1d17-4714-a95c-90e2312c5546\")>]"
      ]
     },
     "execution_count": 69,
     "metadata": {},
     "output_type": "execute_result"
    }
   ],
   "source": [
    "title= driver.find_elements_by_xpath(\"//a[@class='title fw500 ellipsis']\")[:10]\n",
    "title"
   ]
  },
  {
   "cell_type": "code",
   "execution_count": 70,
   "metadata": {},
   "outputs": [
    {
     "data": {
      "text/plain": [
       "['Data Scientist / Data Analyst / Business Analytics - MNC Jobs Freshers',\n",
       " 'Data Scientist / Data Analyst',\n",
       " 'Data Scientist/ Machine Learning Engineer',\n",
       " 'Data Scientist',\n",
       " 'Data Scientist',\n",
       " 'Data Scientist - Insurance',\n",
       " 'Only Fresher / Data Scientist / Data Analyst / Analytics - MNC Jobs',\n",
       " 'Data Scientist - WFH - MIND Infotech',\n",
       " 'Data Scientist / Data Analyst / Business Analytics - MNC Jobs Freshers',\n",
       " 'Immediate Openings For Data Scientist For Wipro C2H']"
      ]
     },
     "execution_count": 70,
     "metadata": {},
     "output_type": "execute_result"
    }
   ],
   "source": [
    "titles=[]\n",
    "for i in title:\n",
    "    titles.append(i.text)\n",
    "titles"
   ]
  },
  {
   "cell_type": "code",
   "execution_count": 71,
   "metadata": {},
   "outputs": [
    {
     "data": {
      "text/plain": [
       "[<selenium.webdriver.remote.webelement.WebElement (session=\"0bb44f1b583a28fa5b3321fdc3ec6129\", element=\"258a803b-95d1-4995-b193-e00bb0cc2b97\")>,\n",
       " <selenium.webdriver.remote.webelement.WebElement (session=\"0bb44f1b583a28fa5b3321fdc3ec6129\", element=\"0a277a6c-cd43-4d00-a92e-f9fe8dc122c7\")>,\n",
       " <selenium.webdriver.remote.webelement.WebElement (session=\"0bb44f1b583a28fa5b3321fdc3ec6129\", element=\"82423bcc-22bc-4007-8a02-21b7cbf32574\")>,\n",
       " <selenium.webdriver.remote.webelement.WebElement (session=\"0bb44f1b583a28fa5b3321fdc3ec6129\", element=\"0aea3a2d-9555-4414-b388-3bb5230d35e6\")>,\n",
       " <selenium.webdriver.remote.webelement.WebElement (session=\"0bb44f1b583a28fa5b3321fdc3ec6129\", element=\"597c11b5-c4ca-420a-97ee-c13817dfb888\")>,\n",
       " <selenium.webdriver.remote.webelement.WebElement (session=\"0bb44f1b583a28fa5b3321fdc3ec6129\", element=\"d6a7be04-da7e-47f3-bea3-40263dc95c6a\")>,\n",
       " <selenium.webdriver.remote.webelement.WebElement (session=\"0bb44f1b583a28fa5b3321fdc3ec6129\", element=\"2a13f278-8a48-4115-9a9b-9bfaae7e653a\")>,\n",
       " <selenium.webdriver.remote.webelement.WebElement (session=\"0bb44f1b583a28fa5b3321fdc3ec6129\", element=\"17b58267-fd69-4356-b250-f7bc478d9845\")>,\n",
       " <selenium.webdriver.remote.webelement.WebElement (session=\"0bb44f1b583a28fa5b3321fdc3ec6129\", element=\"f0a554fc-a079-47d0-af19-7973514108fa\")>,\n",
       " <selenium.webdriver.remote.webelement.WebElement (session=\"0bb44f1b583a28fa5b3321fdc3ec6129\", element=\"c1c9989a-f7d2-4afc-86aa-21ffc4980752\")>]"
      ]
     },
     "execution_count": 71,
     "metadata": {},
     "output_type": "execute_result"
    }
   ],
   "source": [
    "location= driver.find_elements_by_xpath(\"//li[@class='fleft grey-text br2 placeHolderLi location']//span\")[:10]\n",
    "location"
   ]
  },
  {
   "cell_type": "code",
   "execution_count": 72,
   "metadata": {},
   "outputs": [
    {
     "data": {
      "text/plain": [
       "['Ghaziabad, Faridabad, Delhi / NCR',\n",
       " 'Gurgaon/Gurugram',\n",
       " 'Hyderabad/Secunderabad, Pune, Ahmedabad, Gurgaon/Gurugram, Chennai, Bangalore/Bengaluru',\n",
       " 'Gurgaon/Gurugram',\n",
       " '(WFH during Covid)',\n",
       " 'Noida',\n",
       " '(WFH during Covid)',\n",
       " 'Noida, Gurgaon/Gurugram',\n",
       " 'Noida, Gurgaon/Gurugram, Delhi / NCR',\n",
       " 'Pune, Chennai, Bangalore/Bengaluru, Delhi / NCR, Mumbai (All Areas)']"
      ]
     },
     "execution_count": 72,
     "metadata": {},
     "output_type": "execute_result"
    }
   ],
   "source": [
    "locations=[]\n",
    "for i in location:\n",
    "    locations.append(i.text)\n",
    "locations"
   ]
  },
  {
   "cell_type": "code",
   "execution_count": 76,
   "metadata": {},
   "outputs": [
    {
     "data": {
      "text/plain": [
       "[<selenium.webdriver.remote.webelement.WebElement (session=\"0bb44f1b583a28fa5b3321fdc3ec6129\", element=\"0e29b348-0674-427b-91b9-45ea528ffb3a\")>,\n",
       " <selenium.webdriver.remote.webelement.WebElement (session=\"0bb44f1b583a28fa5b3321fdc3ec6129\", element=\"eb968cb8-8a84-4c5d-8db7-309a4be3e802\")>,\n",
       " <selenium.webdriver.remote.webelement.WebElement (session=\"0bb44f1b583a28fa5b3321fdc3ec6129\", element=\"47533843-9325-4678-8ea2-45d9ef78b753\")>,\n",
       " <selenium.webdriver.remote.webelement.WebElement (session=\"0bb44f1b583a28fa5b3321fdc3ec6129\", element=\"00a67dba-f549-44d4-9629-2737234fc970\")>,\n",
       " <selenium.webdriver.remote.webelement.WebElement (session=\"0bb44f1b583a28fa5b3321fdc3ec6129\", element=\"ff894ea2-74bb-4871-b1ed-c051330f3a85\")>,\n",
       " <selenium.webdriver.remote.webelement.WebElement (session=\"0bb44f1b583a28fa5b3321fdc3ec6129\", element=\"40383e78-3b67-469d-ba9f-9f44c1b9fb51\")>,\n",
       " <selenium.webdriver.remote.webelement.WebElement (session=\"0bb44f1b583a28fa5b3321fdc3ec6129\", element=\"e61c9f2a-ab91-4509-9612-d1d6f815db11\")>,\n",
       " <selenium.webdriver.remote.webelement.WebElement (session=\"0bb44f1b583a28fa5b3321fdc3ec6129\", element=\"9037689c-4087-472d-96f0-ee556f559908\")>,\n",
       " <selenium.webdriver.remote.webelement.WebElement (session=\"0bb44f1b583a28fa5b3321fdc3ec6129\", element=\"6579623e-0343-4445-a3cb-7f5846ba1e70\")>,\n",
       " <selenium.webdriver.remote.webelement.WebElement (session=\"0bb44f1b583a28fa5b3321fdc3ec6129\", element=\"bffeec96-998b-4dc6-948a-7c985c514c75\")>]"
      ]
     },
     "execution_count": 76,
     "metadata": {},
     "output_type": "execute_result"
    }
   ],
   "source": [
    "company_name=driver.find_elements_by_xpath(\"//a[@class='subTitle ellipsis fleft']\")[:10]\n",
    "company_name"
   ]
  },
  {
   "cell_type": "code",
   "execution_count": 77,
   "metadata": {},
   "outputs": [
    {
     "data": {
      "text/plain": [
       "['GABA Consultancy services',\n",
       " 'CARS24',\n",
       " 'Creative Hands HR Consultancy',\n",
       " 'PROCESS NINE TECHNOLOGIES PVT.LTD.',\n",
       " 'R Systems International Ltd.',\n",
       " 'Huquo Consulting Pvt. Ltd',\n",
       " 'GABA Consultancy services',\n",
       " 'MOTHERSONSUMI INFOTECH & DESIGNS LIMITED',\n",
       " 'GABA Consultancy services',\n",
       " 'IDESLABS PRIVATE LIMITED']"
      ]
     },
     "execution_count": 77,
     "metadata": {},
     "output_type": "execute_result"
    }
   ],
   "source": [
    "company_names=[]\n",
    "for i in company_name:\n",
    "    company_names.append(i.text)\n",
    "company_names"
   ]
  },
  {
   "cell_type": "code",
   "execution_count": 78,
   "metadata": {},
   "outputs": [
    {
     "data": {
      "text/plain": [
       "[<selenium.webdriver.remote.webelement.WebElement (session=\"0bb44f1b583a28fa5b3321fdc3ec6129\", element=\"01cd3354-9f64-4b76-976c-fe1ae6c54868\")>,\n",
       " <selenium.webdriver.remote.webelement.WebElement (session=\"0bb44f1b583a28fa5b3321fdc3ec6129\", element=\"b68801bf-8c5e-4d00-b4ec-0c21425354e1\")>,\n",
       " <selenium.webdriver.remote.webelement.WebElement (session=\"0bb44f1b583a28fa5b3321fdc3ec6129\", element=\"7cbd6b58-186c-466a-8167-f3ff16409d0d\")>,\n",
       " <selenium.webdriver.remote.webelement.WebElement (session=\"0bb44f1b583a28fa5b3321fdc3ec6129\", element=\"e4491acc-f046-4d72-ac2a-83039fd6720b\")>,\n",
       " <selenium.webdriver.remote.webelement.WebElement (session=\"0bb44f1b583a28fa5b3321fdc3ec6129\", element=\"e8df4e84-1051-47c7-8ea3-62cb740e7857\")>,\n",
       " <selenium.webdriver.remote.webelement.WebElement (session=\"0bb44f1b583a28fa5b3321fdc3ec6129\", element=\"beb68def-6fc4-4df2-a1ea-a237c29b080c\")>,\n",
       " <selenium.webdriver.remote.webelement.WebElement (session=\"0bb44f1b583a28fa5b3321fdc3ec6129\", element=\"c6e7b017-7feb-409e-8049-b47f68c37690\")>,\n",
       " <selenium.webdriver.remote.webelement.WebElement (session=\"0bb44f1b583a28fa5b3321fdc3ec6129\", element=\"3cd907bb-2e54-416d-8fda-d513b48feddb\")>,\n",
       " <selenium.webdriver.remote.webelement.WebElement (session=\"0bb44f1b583a28fa5b3321fdc3ec6129\", element=\"1f48e7a8-581c-4835-92cc-e8fa7d5ebb80\")>,\n",
       " <selenium.webdriver.remote.webelement.WebElement (session=\"0bb44f1b583a28fa5b3321fdc3ec6129\", element=\"3ecd65d6-487f-4a9e-962f-13aa7443dd4d\")>]"
      ]
     },
     "execution_count": 78,
     "metadata": {},
     "output_type": "execute_result"
    }
   ],
   "source": [
    "experience_req=driver.find_elements_by_xpath(\"//li[@class='fleft grey-text br2 placeHolderLi experience']//span\")[:10]\n",
    "experience_req"
   ]
  },
  {
   "cell_type": "code",
   "execution_count": 79,
   "metadata": {},
   "outputs": [
    {
     "data": {
      "text/plain": [
       "['0-0 Yrs',\n",
       " '1-5 Yrs',\n",
       " '0-0 Yrs',\n",
       " '1-3 Yrs',\n",
       " '3-6 Yrs',\n",
       " '2-7 Yrs',\n",
       " '0-0 Yrs',\n",
       " '3-7 Yrs',\n",
       " '0-0 Yrs',\n",
       " '5-10 Yrs']"
      ]
     },
     "execution_count": 79,
     "metadata": {},
     "output_type": "execute_result"
    }
   ],
   "source": [
    "experience_required=[]\n",
    "for i in experience_req:\n",
    "    experience_required.append(i.text)\n",
    "experience_required"
   ]
  },
  {
   "cell_type": "code",
   "execution_count": 80,
   "metadata": {},
   "outputs": [
    {
     "name": "stdout",
     "output_type": "stream",
     "text": [
      "20 20 10 10\n"
     ]
    }
   ],
   "source": [
    "print(len(job_titles),len(job_locations),len(company_names),len(experience_required))"
   ]
  },
  {
   "cell_type": "code",
   "execution_count": 81,
   "metadata": {},
   "outputs": [
    {
     "data": {
      "text/html": [
       "<div>\n",
       "<style scoped>\n",
       "    .dataframe tbody tr th:only-of-type {\n",
       "        vertical-align: middle;\n",
       "    }\n",
       "\n",
       "    .dataframe tbody tr th {\n",
       "        vertical-align: top;\n",
       "    }\n",
       "\n",
       "    .dataframe thead th {\n",
       "        text-align: right;\n",
       "    }\n",
       "</style>\n",
       "<table border=\"1\" class=\"dataframe\">\n",
       "  <thead>\n",
       "    <tr style=\"text-align: right;\">\n",
       "      <th></th>\n",
       "      <th>company_names</th>\n",
       "      <th>titles</th>\n",
       "      <th>locations</th>\n",
       "      <th>experience_required</th>\n",
       "    </tr>\n",
       "  </thead>\n",
       "  <tbody>\n",
       "    <tr>\n",
       "      <th>0</th>\n",
       "      <td>GABA Consultancy services</td>\n",
       "      <td>Data Scientist / Data Analyst / Business Analy...</td>\n",
       "      <td>Ghaziabad, Faridabad, Delhi / NCR</td>\n",
       "      <td>0-0 Yrs</td>\n",
       "    </tr>\n",
       "    <tr>\n",
       "      <th>1</th>\n",
       "      <td>CARS24</td>\n",
       "      <td>Data Scientist / Data Analyst</td>\n",
       "      <td>Gurgaon/Gurugram</td>\n",
       "      <td>1-5 Yrs</td>\n",
       "    </tr>\n",
       "    <tr>\n",
       "      <th>2</th>\n",
       "      <td>Creative Hands HR Consultancy</td>\n",
       "      <td>Data Scientist/ Machine Learning Engineer</td>\n",
       "      <td>Hyderabad/Secunderabad, Pune, Ahmedabad, Gurga...</td>\n",
       "      <td>0-0 Yrs</td>\n",
       "    </tr>\n",
       "    <tr>\n",
       "      <th>3</th>\n",
       "      <td>PROCESS NINE TECHNOLOGIES PVT.LTD.</td>\n",
       "      <td>Data Scientist</td>\n",
       "      <td>Gurgaon/Gurugram</td>\n",
       "      <td>1-3 Yrs</td>\n",
       "    </tr>\n",
       "    <tr>\n",
       "      <th>4</th>\n",
       "      <td>R Systems International Ltd.</td>\n",
       "      <td>Data Scientist</td>\n",
       "      <td>(WFH during Covid)</td>\n",
       "      <td>3-6 Yrs</td>\n",
       "    </tr>\n",
       "    <tr>\n",
       "      <th>5</th>\n",
       "      <td>Huquo Consulting Pvt. Ltd</td>\n",
       "      <td>Data Scientist - Insurance</td>\n",
       "      <td>Noida</td>\n",
       "      <td>2-7 Yrs</td>\n",
       "    </tr>\n",
       "    <tr>\n",
       "      <th>6</th>\n",
       "      <td>GABA Consultancy services</td>\n",
       "      <td>Only Fresher / Data Scientist / Data Analyst /...</td>\n",
       "      <td>(WFH during Covid)</td>\n",
       "      <td>0-0 Yrs</td>\n",
       "    </tr>\n",
       "    <tr>\n",
       "      <th>7</th>\n",
       "      <td>MOTHERSONSUMI INFOTECH &amp; DESIGNS LIMITED</td>\n",
       "      <td>Data Scientist - WFH - MIND Infotech</td>\n",
       "      <td>Noida, Gurgaon/Gurugram</td>\n",
       "      <td>3-7 Yrs</td>\n",
       "    </tr>\n",
       "    <tr>\n",
       "      <th>8</th>\n",
       "      <td>GABA Consultancy services</td>\n",
       "      <td>Data Scientist / Data Analyst / Business Analy...</td>\n",
       "      <td>Noida, Gurgaon/Gurugram, Delhi / NCR</td>\n",
       "      <td>0-0 Yrs</td>\n",
       "    </tr>\n",
       "    <tr>\n",
       "      <th>9</th>\n",
       "      <td>IDESLABS PRIVATE LIMITED</td>\n",
       "      <td>Immediate Openings For Data Scientist For Wipr...</td>\n",
       "      <td>Pune, Chennai, Bangalore/Bengaluru, Delhi / NC...</td>\n",
       "      <td>5-10 Yrs</td>\n",
       "    </tr>\n",
       "  </tbody>\n",
       "</table>\n",
       "</div>"
      ],
      "text/plain": [
       "                              company_names  \\\n",
       "0                 GABA Consultancy services   \n",
       "1                                    CARS24   \n",
       "2             Creative Hands HR Consultancy   \n",
       "3        PROCESS NINE TECHNOLOGIES PVT.LTD.   \n",
       "4              R Systems International Ltd.   \n",
       "5                 Huquo Consulting Pvt. Ltd   \n",
       "6                 GABA Consultancy services   \n",
       "7  MOTHERSONSUMI INFOTECH & DESIGNS LIMITED   \n",
       "8                 GABA Consultancy services   \n",
       "9                  IDESLABS PRIVATE LIMITED   \n",
       "\n",
       "                                              titles  \\\n",
       "0  Data Scientist / Data Analyst / Business Analy...   \n",
       "1                      Data Scientist / Data Analyst   \n",
       "2          Data Scientist/ Machine Learning Engineer   \n",
       "3                                     Data Scientist   \n",
       "4                                     Data Scientist   \n",
       "5                         Data Scientist - Insurance   \n",
       "6  Only Fresher / Data Scientist / Data Analyst /...   \n",
       "7               Data Scientist - WFH - MIND Infotech   \n",
       "8  Data Scientist / Data Analyst / Business Analy...   \n",
       "9  Immediate Openings For Data Scientist For Wipr...   \n",
       "\n",
       "                                           locations experience_required  \n",
       "0                  Ghaziabad, Faridabad, Delhi / NCR             0-0 Yrs  \n",
       "1                                   Gurgaon/Gurugram             1-5 Yrs  \n",
       "2  Hyderabad/Secunderabad, Pune, Ahmedabad, Gurga...             0-0 Yrs  \n",
       "3                                   Gurgaon/Gurugram             1-3 Yrs  \n",
       "4                                 (WFH during Covid)             3-6 Yrs  \n",
       "5                                              Noida             2-7 Yrs  \n",
       "6                                 (WFH during Covid)             0-0 Yrs  \n",
       "7                            Noida, Gurgaon/Gurugram             3-7 Yrs  \n",
       "8               Noida, Gurgaon/Gurugram, Delhi / NCR             0-0 Yrs  \n",
       "9  Pune, Chennai, Bangalore/Bengaluru, Delhi / NC...            5-10 Yrs  "
      ]
     },
     "execution_count": 81,
     "metadata": {},
     "output_type": "execute_result"
    }
   ],
   "source": [
    "df=pd.DataFrame({})\n",
    "df['company_names']=company_names\n",
    "df['titles']=titles\n",
    "df['locations']=locations\n",
    "df['experience_required']=experience_required\n",
    "df"
   ]
  },
  {
   "cell_type": "markdown",
   "metadata": {},
   "source": [
    "Q6 : Scrape data of first 100 sunglasses listings on flipkart.com. You have to scrape four attributes."
   ]
  },
  {
   "cell_type": "code",
   "execution_count": 100,
   "metadata": {},
   "outputs": [],
   "source": [
    "driver = webdriver.Chrome(\"Chromedriver.exe\")"
   ]
  },
  {
   "cell_type": "code",
   "execution_count": 101,
   "metadata": {},
   "outputs": [],
   "source": [
    "url='https://www.flipkart.com/'\n",
    "driver.get(url)"
   ]
  },
  {
   "cell_type": "code",
   "execution_count": 102,
   "metadata": {},
   "outputs": [],
   "source": [
    "search=driver.find_element_by_xpath(\"//div[@class='_3OO5Xc']//input\")\n",
    "search.send_keys(\"Sunglasses\")"
   ]
  },
  {
   "cell_type": "code",
   "execution_count": 106,
   "metadata": {},
   "outputs": [],
   "source": [
    "search_btn=driver.find_element_by_xpath(\"//button[@class='L0Z3Pu']\")\n",
    "search_btn.click()"
   ]
  },
  {
   "cell_type": "code",
   "execution_count": 108,
   "metadata": {},
   "outputs": [
    {
     "data": {
      "text/plain": [
       "['https://www.flipkart.com/search?q=sunglasses+&otracker=search&otracker1=search&marketplace=FLIPKART&as-show=on&as=off&page=1',\n",
       " 'https://www.flipkart.com/search?q=sunglasses+&otracker=search&otracker1=search&marketplace=FLIPKART&as-show=on&as=off&page=2',\n",
       " 'https://www.flipkart.com/search?q=sunglasses+&otracker=search&otracker1=search&marketplace=FLIPKART&as-show=on&as=off&page=3']"
      ]
     },
     "execution_count": 108,
     "metadata": {},
     "output_type": "execute_result"
    }
   ],
   "source": [
    "page_url=[]\n",
    "url = driver.find_elements_by_xpath(\"//nav[@class='yFHi8N']//a\")[:3]\n",
    "for i in url:\n",
    "    page_url.append(i.get_attribute('href'))\n",
    "page_url"
   ]
  },
  {
   "cell_type": "code",
   "execution_count": 109,
   "metadata": {},
   "outputs": [
    {
     "data": {
      "text/plain": [
       "['PIRASO',\n",
       " 'Elligator',\n",
       " 'kingsunglasses',\n",
       " 'VOYAGE',\n",
       " 'Fastrack',\n",
       " 'SHAAH COLLECTIONS',\n",
       " 'ROZZETTA CRAFT',\n",
       " 'AISLIN',\n",
       " 'SUNBEE',\n",
       " 'Silver Kartz',\n",
       " 'DEIXELS',\n",
       " 'AISLIN',\n",
       " 'ROYAL SON',\n",
       " 'PHENOMENAL',\n",
       " 'Rich Club',\n",
       " 'AISLIN',\n",
       " 'OCCARIO',\n",
       " 'povty',\n",
       " 'New Specs',\n",
       " 'AISLIN',\n",
       " 'Singco India',\n",
       " 'GANSTA',\n",
       " 'HIPPON',\n",
       " 'AISLIN',\n",
       " 'hipe',\n",
       " 'Singco',\n",
       " 'WROGN',\n",
       " 'AISLIN',\n",
       " 'NuVew',\n",
       " 'Cruze',\n",
       " 'Badfella',\n",
       " 'AISLIN',\n",
       " 'AISLIN',\n",
       " 'Fravy',\n",
       " 'IRUS by IDEE',\n",
       " 'AISLIN',\n",
       " 'Fastrack',\n",
       " 'PIRASO',\n",
       " 'ROZZETTA CRAFT',\n",
       " 'AISLIN',\n",
       " 'hipe',\n",
       " 'Rich Club',\n",
       " 'NuVew',\n",
       " 'VOYAGE',\n",
       " 'AISLIN',\n",
       " 'IRUS by IDEE',\n",
       " 'PIRASO',\n",
       " 'AISLIN',\n",
       " 'ROZZETTA CRAFT',\n",
       " 'Fastrack',\n",
       " 'SHAAH COLLECTIONS',\n",
       " 'AISLIN',\n",
       " 'kingsunglasses',\n",
       " 'Elligator',\n",
       " 'ROYAL SON',\n",
       " 'AISLIN',\n",
       " 'PHENOMENAL',\n",
       " 'GANSTA',\n",
       " 'Singco India',\n",
       " 'NuVew',\n",
       " 'SUNBEE',\n",
       " 'hipe',\n",
       " 'NuVew',\n",
       " 'AISLIN',\n",
       " 'IRUS by IDEE',\n",
       " 'AISLIN',\n",
       " 'Fastrack',\n",
       " 'AISLIN',\n",
       " 'ROZZETTA CRAFT',\n",
       " 'PIRASO',\n",
       " 'kingsunglasses',\n",
       " 'AISLIN',\n",
       " 'ROYAL SON',\n",
       " 'PHENOMENAL',\n",
       " 'Elligator',\n",
       " 'AISLIN',\n",
       " 'GANSTA',\n",
       " 'SUNBEE',\n",
       " 'Singco India',\n",
       " 'AISLIN',\n",
       " 'PHENOMENAL',\n",
       " 'Fastrack',\n",
       " 'kingsunglasses',\n",
       " 'VOYAGE',\n",
       " 'PIRASO',\n",
       " 'Elligator',\n",
       " 'ROYAL SON',\n",
       " 'AISLIN',\n",
       " 'GANSTA',\n",
       " 'SUNBEE',\n",
       " 'ROZZETTA CRAFT',\n",
       " 'AISLIN',\n",
       " 'Fastrack',\n",
       " 'kingsunglasses',\n",
       " 'PIRASO',\n",
       " 'AISLIN',\n",
       " 'ROYAL SON',\n",
       " 'GANSTA',\n",
       " 'ROZZETTA CRAFT',\n",
       " 'NuVew',\n",
       " 'SUNBEE',\n",
       " 'kingsunglasses',\n",
       " 'Fastrack',\n",
       " 'AISLIN',\n",
       " 'ROYAL SON',\n",
       " 'PIRASO',\n",
       " 'Fastrack',\n",
       " 'AISLIN',\n",
       " 'kingsunglasses',\n",
       " 'ROYAL SON',\n",
       " 'Fastrack',\n",
       " 'AISLIN',\n",
       " 'kingsunglasses',\n",
       " 'ROYAL SON',\n",
       " 'Fastrack',\n",
       " 'AISLIN',\n",
       " 'kingsunglasses',\n",
       " 'ROYAL SON',\n",
       " 'Fastrack',\n",
       " 'Singco India']"
      ]
     },
     "execution_count": 109,
     "metadata": {},
     "output_type": "execute_result"
    }
   ],
   "source": [
    "brands=[]\n",
    "for i in page_url:\n",
    "    driver.get(i)\n",
    "    brand=driver.find_elements_by_xpath(\"//div[@class='_2WkVRV']\")[:100]\n",
    "    for i in brand:\n",
    "        brands.append(i.text)\n",
    "brands"
   ]
  },
  {
   "cell_type": "code",
   "execution_count": 110,
   "metadata": {},
   "outputs": [
    {
     "data": {
      "text/plain": [
       "['UV Protection Aviator Sunglasses (54)',\n",
       " 'UV Protection Round Sunglasses (54)',\n",
       " 'Mirrored, UV Protection Wayfarer Sunglasses (Free Size)',\n",
       " 'Gradient Wayfarer Sunglasses (59)',\n",
       " 'UV Protection Wayfarer Sunglasses (56)',\n",
       " 'UV Protection, Polarized, Mirrored Rectangular Sunglass...',\n",
       " 'UV Protection Retro Square Sunglasses (Free Size)',\n",
       " 'UV Protection, Gradient Cat-eye Sunglasses (58)',\n",
       " 'UV Protection, Polarized, Mirrored Wayfarer Sunglasses ...',\n",
       " 'UV Protection Wayfarer Sunglasses (Free Size)',\n",
       " 'UV Protection Aviator, Wayfarer Sunglasses (Free Size)',\n",
       " 'Polarized, UV Protection, Mirrored Wayfarer, Rectangula...',\n",
       " 'UV Protection Rectangular Sunglasses (58)',\n",
       " 'UV Protection Retro Square Sunglasses (Free Size)',\n",
       " 'UV Protection, Mirrored, Gradient Round Sunglasses (51)',\n",
       " 'UV Protection, Gradient Cat-eye Sunglasses (61)',\n",
       " 'Others Round Sunglasses (52)',\n",
       " 'UV Protection Wayfarer Sunglasses (Free Size)',\n",
       " 'Mirrored, UV Protection, Riding Glasses, Others Round S...',\n",
       " 'UV Protection, Mirrored, Gradient Wayfarer Sunglasses (...',\n",
       " 'UV Protection Aviator Sunglasses (Free Size)',\n",
       " 'UV Protection Aviator Sunglasses (57)',\n",
       " 'UV Protection Wayfarer Sunglasses (55)',\n",
       " 'UV Protection, Gradient Oval Sunglasses (58)',\n",
       " 'UV Protection, Gradient, Mirrored, Riding Glasses Aviat...',\n",
       " 'Mirrored Aviator Sunglasses (53)',\n",
       " 'Mirrored Round Sunglasses (52)',\n",
       " 'UV Protection, Gradient Cat-eye Sunglasses (59)',\n",
       " 'UV Protection Aviator Sunglasses (58)',\n",
       " 'UV Protection Aviator Sunglasses (Free Size)',\n",
       " 'Polarized, UV Protection Retro Square Sunglasses (53)',\n",
       " 'UV Protection, Gradient Cat-eye, Wayfarer Sunglasses (6...',\n",
       " 'UV Protection, Gradient Butterfly, Retro Square Sunglas...',\n",
       " 'UV Protection Retro Square Sunglasses (Free Size)',\n",
       " 'Gradient Rectangular Sunglasses (53)',\n",
       " 'UV Protection, Gradient Butterfly, Over-sized Sunglasse...',\n",
       " 'Gradient, UV Protection Wayfarer Sunglasses (Free Size)',\n",
       " 'UV Protection Aviator Sunglasses (54)',\n",
       " 'UV Protection, Gradient Rectangular Sunglasses (Free Si...',\n",
       " 'Mirrored, UV Protection, Riding Glasses, Others Wrap-ar...',\n",
       " 'UV Protection, Night Vision, Gradient, Mirrored Round, ...',\n",
       " 'UV Protection, Others Round Sunglasses (48)',\n",
       " 'UV Protection Sports Sunglasses (62)',\n",
       " 'Gradient Wayfarer Sunglasses (59)',\n",
       " 'UV Protection, Gradient Cat-eye Sunglasses (61)',\n",
       " 'Gradient Rectangular Sunglasses (53)',\n",
       " 'UV Protection Aviator Sunglasses (54)',\n",
       " 'UV Protection, Gradient Cat-eye Sunglasses (58)',\n",
       " 'UV Protection, Gradient Round Sunglasses (Free Size)',\n",
       " 'UV Protection Aviator Sunglasses (Free Size)',\n",
       " 'UV Protection Round Sunglasses (Free Size)',\n",
       " 'Polarized, UV Protection, Mirrored Wayfarer, Rectangula...',\n",
       " 'UV Protection Round Sunglasses (Free Size)',\n",
       " 'UV Protection Round Sunglasses (55)',\n",
       " 'Mirrored Aviator Sunglasses (55)',\n",
       " 'UV Protection, Mirrored, Gradient Wayfarer Sunglasses (...',\n",
       " 'UV Protection Round Sunglasses (53)',\n",
       " 'UV Protection, Gradient Aviator Sunglasses (55)',\n",
       " 'UV Protection, Riding Glasses, Others Aviator, Wayfarer...',\n",
       " 'UV Protection, Gradient Oval Sunglasses (58)',\n",
       " 'UV Protection, Polarized, Mirrored Wayfarer Sunglasses ...',\n",
       " 'UV Protection, Night Vision, Riding Glasses, Gradient, ...',\n",
       " 'UV Protection, Mirrored, Night Vision, Riding Glasses S...',\n",
       " 'UV Protection, Gradient Cat-eye Sunglasses (59)',\n",
       " 'Gradient Rectangular Sunglasses (56)',\n",
       " 'UV Protection, Gradient Butterfly, Retro Square Sunglas...',\n",
       " 'UV Protection Wayfarer Sunglasses (55)',\n",
       " 'UV Protection, Gradient Cat-eye, Wayfarer Sunglasses (6...',\n",
       " 'UV Protection, Riding Glasses Rectangular Sunglasses (F...',\n",
       " 'UV Protection Aviator Sunglasses (58)',\n",
       " 'Mirrored, UV Protection Wayfarer Sunglasses (Free Size)',\n",
       " 'UV Protection, Gradient Butterfly, Over-sized Sunglasse...',\n",
       " 'Polarized Rectangular Sunglasses (65)',\n",
       " 'UV Protection Clubmaster Sunglasses (Free Size)',\n",
       " 'UV Protection, Riding Glasses Rectangular, Retro Square...',\n",
       " 'UV Protection Cat-eye Sunglasses (60)',\n",
       " 'UV Protection, Mirrored Wayfarer Sunglasses (53)',\n",
       " 'UV Protection, Polarized, Mirrored Wayfarer Sunglasses ...',\n",
       " 'Mirrored, UV Protection, Riding Glasses, Others Wrap-ar...',\n",
       " 'UV Protection, Gradient Over-sized Sunglasses (63)',\n",
       " 'UV Protection, Mirrored, Gradient Retro Square Sunglass...',\n",
       " 'UV Protection Aviator Sunglasses (58)',\n",
       " 'UV Protection, Mirrored Round Sunglasses (54)',\n",
       " 'Gradient Wayfarer Sunglasses (59)',\n",
       " 'UV Protection Butterfly Sunglasses (65)',\n",
       " 'UV Protection Retro Square, Aviator Sunglasses (54)',\n",
       " 'UV Protection, Gradient Wayfarer Sunglasses (55)',\n",
       " 'UV Protection, Gradient Cat-eye Sunglasses (58)',\n",
       " 'UV Protection, Gradient Aviator Sunglasses (57)',\n",
       " 'UV Protection, Polarized, Mirrored Round Sunglasses (Fr...',\n",
       " 'UV Protection, Gradient Retro Square Sunglasses (Free S...',\n",
       " 'Polarized, UV Protection, Mirrored Wayfarer, Rectangula...',\n",
       " 'UV Protection Wayfarer Sunglasses (57)',\n",
       " 'UV Protection, Mirrored Round Sunglasses (Free Size)',\n",
       " 'UV Protection Wayfarer Sunglasses (32)',\n",
       " 'UV Protection, Gradient Cat-eye Sunglasses (61)',\n",
       " 'Polarized Rectangular Sunglasses (65)',\n",
       " 'UV Protection Aviator Sunglasses (57)',\n",
       " 'Gradient, UV Protection Round Sunglasses (Free Size)',\n",
       " 'UV Protection, Mirrored, Gradient Wayfarer Sunglasses (...',\n",
       " 'UV Protection, Polarized, Mirrored Wayfarer Sunglasses ...',\n",
       " 'UV Protection, Riding Glasses, Mirrored Wayfarer Sungla...',\n",
       " 'UV Protection Rectangular Sunglasses (55)',\n",
       " 'UV Protection, Gradient Oval Sunglasses (58)',\n",
       " 'UV Protection Retro Square Sunglasses (88)',\n",
       " 'UV Protection, Polarized Aviator Sunglasses (32)',\n",
       " 'UV Protection Shield Sunglasses (Free Size)',\n",
       " 'UV Protection, Gradient Cat-eye Sunglasses (59)',\n",
       " 'UV Protection Rectangular Sunglasses (Free Size)',\n",
       " 'UV Protection Retro Square Sunglasses (88)',\n",
       " 'UV Protection Wayfarer Sunglasses (Free Size)',\n",
       " 'UV Protection, Gradient Cat-eye, Wayfarer Sunglasses (6...',\n",
       " 'Mirrored, UV Protection Wayfarer, Wayfarer, Wayfarer, W...',\n",
       " 'UV Protection, Gradient Butterfly Sunglasses (57)',\n",
       " 'UV Protection Aviator Sunglasses (58)',\n",
       " 'UV Protection Aviator Sunglasses (60)',\n",
       " 'Mirrored, UV Protection Wayfarer Sunglasses (53)',\n",
       " 'UV Protection Wayfarer Sunglasses (55)',\n",
       " 'UV Protection Wrap-around Sunglasses (63)',\n",
       " 'UV Protection Cat-eye Sunglasses (60)']"
      ]
     },
     "execution_count": 110,
     "metadata": {},
     "output_type": "execute_result"
    }
   ],
   "source": [
    "product_description=[]\n",
    "for i in page_url:\n",
    "    driver.get(i)\n",
    "    product_discrip=driver.find_elements_by_xpath(\"//a[@class='IRpwTa']\")[:100]\n",
    "    for i in product_discrip:\n",
    "        product_description.append(i.text)\n",
    "product_description"
   ]
  },
  {
   "cell_type": "code",
   "execution_count": 111,
   "metadata": {},
   "outputs": [
    {
     "data": {
      "text/plain": [
       "['₹237',\n",
       " '₹295',\n",
       " '₹284',\n",
       " '₹649',\n",
       " '₹633',\n",
       " '₹198',\n",
       " '₹499',\n",
       " '₹498',\n",
       " '₹265',\n",
       " '₹246',\n",
       " '₹202',\n",
       " '₹485',\n",
       " '₹474',\n",
       " '₹399',\n",
       " '₹215',\n",
       " '₹1,125',\n",
       " '₹179',\n",
       " '₹349',\n",
       " '₹299',\n",
       " '₹498',\n",
       " '₹334',\n",
       " '₹284',\n",
       " '₹257',\n",
       " '₹398',\n",
       " '₹209',\n",
       " '₹239',\n",
       " '₹708',\n",
       " '₹975',\n",
       " '₹202',\n",
       " '₹499',\n",
       " '₹269',\n",
       " '₹469',\n",
       " '₹498',\n",
       " '₹299',\n",
       " '₹947',\n",
       " '₹545',\n",
       " '₹509',\n",
       " '₹237',\n",
       " '₹404',\n",
       " '₹785',\n",
       " '₹210',\n",
       " '₹299',\n",
       " '₹345',\n",
       " '₹649',\n",
       " '₹498',\n",
       " '₹900',\n",
       " '₹237',\n",
       " '₹485',\n",
       " '₹449',\n",
       " '₹546',\n",
       " '₹331',\n",
       " '₹1,125',\n",
       " '₹331',\n",
       " '₹266',\n",
       " '₹379',\n",
       " '₹498',\n",
       " '₹295',\n",
       " '₹289',\n",
       " '₹225',\n",
       " '₹975',\n",
       " '₹284',\n",
       " '₹210',\n",
       " '₹345',\n",
       " '₹785',\n",
       " '₹540',\n",
       " '₹516',\n",
       " '₹610',\n",
       " '₹598',\n",
       " '₹449',\n",
       " '₹399',\n",
       " '₹284',\n",
       " '₹403',\n",
       " '₹664',\n",
       " '₹319',\n",
       " '₹398',\n",
       " '₹1,025',\n",
       " '₹221',\n",
       " '₹314',\n",
       " '₹331',\n",
       " '₹469',\n",
       " '₹259',\n",
       " '₹1,085',\n",
       " '₹236',\n",
       " '₹649',\n",
       " '₹426',\n",
       " '₹312',\n",
       " '₹203',\n",
       " '₹485',\n",
       " '₹230',\n",
       " '₹331',\n",
       " '₹449',\n",
       " '₹1,125',\n",
       " '₹503',\n",
       " '₹260',\n",
       " '₹237',\n",
       " '₹498',\n",
       " '₹664',\n",
       " '₹230',\n",
       " '₹449',\n",
       " '₹398',\n",
       " '₹314',\n",
       " '₹217',\n",
       " '₹631',\n",
       " '₹498',\n",
       " '₹569',\n",
       " '₹208',\n",
       " '₹853',\n",
       " '₹975',\n",
       " '₹197',\n",
       " '₹569',\n",
       " '₹689',\n",
       " '₹785',\n",
       " '₹284',\n",
       " '₹664',\n",
       " '₹1,059',\n",
       " '₹403',\n",
       " '₹314',\n",
       " '₹248',\n",
       " '₹862',\n",
       " '₹598']"
      ]
     },
     "execution_count": 111,
     "metadata": {},
     "output_type": "execute_result"
    }
   ],
   "source": [
    "price=[]\n",
    "for i in page_url:\n",
    "    driver.get(i)\n",
    "    pri=driver.find_elements_by_xpath(\"//div[@class='_30jeq3']\")[:100]\n",
    "    for i in pri:\n",
    "        price.append(i.text)\n",
    "price"
   ]
  },
  {
   "cell_type": "code",
   "execution_count": 112,
   "metadata": {},
   "outputs": [
    {
     "data": {
      "text/plain": [
       "['85% off',\n",
       " '88% off',\n",
       " '89% off',\n",
       " '63% off',\n",
       " '29% off',\n",
       " '88% off',\n",
       " '77% off',\n",
       " '67% off',\n",
       " '73% off',\n",
       " '83% off',\n",
       " '83% off',\n",
       " '68% off',\n",
       " '68% off',\n",
       " '80% off',\n",
       " '73% off',\n",
       " '73% off',\n",
       " '69% off',\n",
       " '65% off',\n",
       " '81% off',\n",
       " '70% off',\n",
       " '72% off',\n",
       " '85% off',\n",
       " '78% off',\n",
       " '74% off',\n",
       " '79% off',\n",
       " '76% off',\n",
       " '72% off',\n",
       " '71% off',\n",
       " '74% off',\n",
       " '61% off',\n",
       " '73% off',\n",
       " '75% off',\n",
       " '67% off',\n",
       " '80% off',\n",
       " '33% off',\n",
       " '72% off',\n",
       " '36% off',\n",
       " '85% off',\n",
       " '79% off',\n",
       " '72% off',\n",
       " '78% off',\n",
       " '62% off',\n",
       " '72% off',\n",
       " '63% off',\n",
       " '70% off',\n",
       " '37% off',\n",
       " '85% off',\n",
       " '68% off',\n",
       " '77% off',\n",
       " '31% off',\n",
       " '80% off',\n",
       " '73% off',\n",
       " '79% off',\n",
       " '86% off',\n",
       " '74% off',\n",
       " '67% off',\n",
       " '87% off',\n",
       " '85% off',\n",
       " '67% off',\n",
       " '71% off',\n",
       " '71% off',\n",
       " '83% off',\n",
       " '62% off',\n",
       " '67% off',\n",
       " '52% off',\n",
       " '66% off',\n",
       " '23% off',\n",
       " '75% off',\n",
       " '79% off',\n",
       " '84% off',\n",
       " '89% off',\n",
       " '72% off',\n",
       " '66% off',\n",
       " '84% off',\n",
       " '73% off',\n",
       " '72% off',\n",
       " '77% off',\n",
       " '75% off',\n",
       " '83% off',\n",
       " '72% off',\n",
       " '87% off',\n",
       " '16% off',\n",
       " '80% off',\n",
       " '63% off',\n",
       " '83% off',\n",
       " '84% off',\n",
       " '79% off',\n",
       " '68% off',\n",
       " '76% off',\n",
       " '80% off',\n",
       " '77% off',\n",
       " '73% off',\n",
       " '37% off',\n",
       " '84% off',\n",
       " '85% off',\n",
       " '70% off',\n",
       " '66% off',\n",
       " '78% off',\n",
       " '77% off',\n",
       " '67% off',\n",
       " '75% off',\n",
       " '81% off',\n",
       " '29% off',\n",
       " '71% off',\n",
       " '71% off',\n",
       " '86% off',\n",
       " '5% off',\n",
       " '75% off',\n",
       " '83% off',\n",
       " '71% off',\n",
       " '23% off',\n",
       " '72% off',\n",
       " '81% off',\n",
       " '66% off',\n",
       " '18% off',\n",
       " '83% off',\n",
       " '84% off',\n",
       " '80% off',\n",
       " '4% off',\n",
       " '72% off']"
      ]
     },
     "execution_count": 112,
     "metadata": {},
     "output_type": "execute_result"
    }
   ],
   "source": [
    "discount=[]\n",
    "for i in page_url:\n",
    "    driver.get(i)\n",
    "    disc=driver.find_elements_by_xpath(\"//div[@class='_3Ay6Sb']//span\")[:100]\n",
    "    for i in disc:\n",
    "        discount.append(i.text)\n",
    "discount"
   ]
  },
  {
   "cell_type": "code",
   "execution_count": 113,
   "metadata": {},
   "outputs": [
    {
     "data": {
      "text/html": [
       "<div>\n",
       "<style scoped>\n",
       "    .dataframe tbody tr th:only-of-type {\n",
       "        vertical-align: middle;\n",
       "    }\n",
       "\n",
       "    .dataframe tbody tr th {\n",
       "        vertical-align: top;\n",
       "    }\n",
       "\n",
       "    .dataframe thead th {\n",
       "        text-align: right;\n",
       "    }\n",
       "</style>\n",
       "<table border=\"1\" class=\"dataframe\">\n",
       "  <thead>\n",
       "    <tr style=\"text-align: right;\">\n",
       "      <th></th>\n",
       "      <th>brands</th>\n",
       "      <th>product_description</th>\n",
       "      <th>price</th>\n",
       "      <th>discount</th>\n",
       "    </tr>\n",
       "  </thead>\n",
       "  <tbody>\n",
       "    <tr>\n",
       "      <th>0</th>\n",
       "      <td>PIRASO</td>\n",
       "      <td>UV Protection Aviator Sunglasses (54)</td>\n",
       "      <td>₹237</td>\n",
       "      <td>85% off</td>\n",
       "    </tr>\n",
       "    <tr>\n",
       "      <th>1</th>\n",
       "      <td>Elligator</td>\n",
       "      <td>UV Protection Round Sunglasses (54)</td>\n",
       "      <td>₹295</td>\n",
       "      <td>88% off</td>\n",
       "    </tr>\n",
       "    <tr>\n",
       "      <th>2</th>\n",
       "      <td>kingsunglasses</td>\n",
       "      <td>Mirrored, UV Protection Wayfarer Sunglasses (F...</td>\n",
       "      <td>₹284</td>\n",
       "      <td>89% off</td>\n",
       "    </tr>\n",
       "    <tr>\n",
       "      <th>3</th>\n",
       "      <td>VOYAGE</td>\n",
       "      <td>Gradient Wayfarer Sunglasses (59)</td>\n",
       "      <td>₹649</td>\n",
       "      <td>63% off</td>\n",
       "    </tr>\n",
       "    <tr>\n",
       "      <th>4</th>\n",
       "      <td>Fastrack</td>\n",
       "      <td>UV Protection Wayfarer Sunglasses (56)</td>\n",
       "      <td>₹633</td>\n",
       "      <td>29% off</td>\n",
       "    </tr>\n",
       "    <tr>\n",
       "      <th>...</th>\n",
       "      <td>...</td>\n",
       "      <td>...</td>\n",
       "      <td>...</td>\n",
       "      <td>...</td>\n",
       "    </tr>\n",
       "    <tr>\n",
       "      <th>95</th>\n",
       "      <td>AISLIN</td>\n",
       "      <td>UV Protection, Gradient Cat-eye Sunglasses (61)</td>\n",
       "      <td>₹498</td>\n",
       "      <td>70% off</td>\n",
       "    </tr>\n",
       "    <tr>\n",
       "      <th>96</th>\n",
       "      <td>ROYAL SON</td>\n",
       "      <td>Polarized Rectangular Sunglasses (65)</td>\n",
       "      <td>₹664</td>\n",
       "      <td>66% off</td>\n",
       "    </tr>\n",
       "    <tr>\n",
       "      <th>97</th>\n",
       "      <td>GANSTA</td>\n",
       "      <td>UV Protection Aviator Sunglasses (57)</td>\n",
       "      <td>₹230</td>\n",
       "      <td>78% off</td>\n",
       "    </tr>\n",
       "    <tr>\n",
       "      <th>98</th>\n",
       "      <td>ROZZETTA CRAFT</td>\n",
       "      <td>Gradient, UV Protection Round Sunglasses (Free...</td>\n",
       "      <td>₹449</td>\n",
       "      <td>77% off</td>\n",
       "    </tr>\n",
       "    <tr>\n",
       "      <th>99</th>\n",
       "      <td>NuVew</td>\n",
       "      <td>UV Protection, Mirrored, Gradient Wayfarer Sun...</td>\n",
       "      <td>₹398</td>\n",
       "      <td>67% off</td>\n",
       "    </tr>\n",
       "  </tbody>\n",
       "</table>\n",
       "<p>100 rows × 4 columns</p>\n",
       "</div>"
      ],
      "text/plain": [
       "            brands                                product_description price  \\\n",
       "0           PIRASO              UV Protection Aviator Sunglasses (54)  ₹237   \n",
       "1        Elligator                UV Protection Round Sunglasses (54)  ₹295   \n",
       "2   kingsunglasses  Mirrored, UV Protection Wayfarer Sunglasses (F...  ₹284   \n",
       "3           VOYAGE                  Gradient Wayfarer Sunglasses (59)  ₹649   \n",
       "4         Fastrack             UV Protection Wayfarer Sunglasses (56)  ₹633   \n",
       "..             ...                                                ...   ...   \n",
       "95          AISLIN    UV Protection, Gradient Cat-eye Sunglasses (61)  ₹498   \n",
       "96       ROYAL SON              Polarized Rectangular Sunglasses (65)  ₹664   \n",
       "97          GANSTA              UV Protection Aviator Sunglasses (57)  ₹230   \n",
       "98  ROZZETTA CRAFT  Gradient, UV Protection Round Sunglasses (Free...  ₹449   \n",
       "99           NuVew  UV Protection, Mirrored, Gradient Wayfarer Sun...  ₹398   \n",
       "\n",
       "   discount  \n",
       "0   85% off  \n",
       "1   88% off  \n",
       "2   89% off  \n",
       "3   63% off  \n",
       "4   29% off  \n",
       "..      ...  \n",
       "95  70% off  \n",
       "96  66% off  \n",
       "97  78% off  \n",
       "98  77% off  \n",
       "99  67% off  \n",
       "\n",
       "[100 rows x 4 columns]"
      ]
     },
     "execution_count": 113,
     "metadata": {},
     "output_type": "execute_result"
    }
   ],
   "source": [
    "df=pd.DataFrame()\n",
    "df['brands']=brands[0:100]\n",
    "df['product_description']=product_description[0:100]\n",
    "df['price']=price[0:100]\n",
    "df['discount']=discount[0:100]\n",
    "df"
   ]
  },
  {
   "cell_type": "markdown",
   "metadata": {},
   "source": [
    "Q7: Scrape 100 reviews data from flipkart.com for iphone11 phone."
   ]
  },
  {
   "cell_type": "code",
   "execution_count": 114,
   "metadata": {},
   "outputs": [],
   "source": [
    "driver=webdriver.Chrome(\"Chromedriver.exe\")"
   ]
  },
  {
   "cell_type": "code",
   "execution_count": 115,
   "metadata": {},
   "outputs": [],
   "source": [
    "url='https://www.flipkart.com/apple-iphone-11-black-64-gb-includesearpods-poweradapter/p/itm0f37c2240b217?pid=MOBFKCTSVZAXUHGR&lid=LSTMOBFKCTSVZAXUHGREPBFGI&marketplace'\n",
    "driver.get(url)"
   ]
  },
  {
   "cell_type": "code",
   "execution_count": 116,
   "metadata": {},
   "outputs": [],
   "source": [
    "All_reviews=driver.find_element_by_xpath(\"//div[@class='_3UAT2v _16PBlm']//span\")\n",
    "All_reviews.click()"
   ]
  },
  {
   "cell_type": "code",
   "execution_count": 117,
   "metadata": {},
   "outputs": [
    {
     "data": {
      "text/plain": [
       "['https://www.flipkart.com/apple-iphone-11-black-64-gb-includes-earpods-power-adapter/product-reviews/itm0f37c2240b217?pid=MOBFKCTSVZAXUHGR&lid=LSTMOBFKCTSVZAXUHGREPBFGI&marketplace=FLIPKART&page=1',\n",
       " 'https://www.flipkart.com/apple-iphone-11-black-64-gb-includes-earpods-power-adapter/product-reviews/itm0f37c2240b217?pid=MOBFKCTSVZAXUHGR&lid=LSTMOBFKCTSVZAXUHGREPBFGI&marketplace=FLIPKART&page=2',\n",
       " 'https://www.flipkart.com/apple-iphone-11-black-64-gb-includes-earpods-power-adapter/product-reviews/itm0f37c2240b217?pid=MOBFKCTSVZAXUHGR&lid=LSTMOBFKCTSVZAXUHGREPBFGI&marketplace=FLIPKART&page=3',\n",
       " 'https://www.flipkart.com/apple-iphone-11-black-64-gb-includes-earpods-power-adapter/product-reviews/itm0f37c2240b217?pid=MOBFKCTSVZAXUHGR&lid=LSTMOBFKCTSVZAXUHGREPBFGI&marketplace=FLIPKART&page=4',\n",
       " 'https://www.flipkart.com/apple-iphone-11-black-64-gb-includes-earpods-power-adapter/product-reviews/itm0f37c2240b217?pid=MOBFKCTSVZAXUHGR&lid=LSTMOBFKCTSVZAXUHGREPBFGI&marketplace=FLIPKART&page=5',\n",
       " 'https://www.flipkart.com/apple-iphone-11-black-64-gb-includes-earpods-power-adapter/product-reviews/itm0f37c2240b217?pid=MOBFKCTSVZAXUHGR&lid=LSTMOBFKCTSVZAXUHGREPBFGI&marketplace=FLIPKART&page=6',\n",
       " 'https://www.flipkart.com/apple-iphone-11-black-64-gb-includes-earpods-power-adapter/product-reviews/itm0f37c2240b217?pid=MOBFKCTSVZAXUHGR&lid=LSTMOBFKCTSVZAXUHGREPBFGI&marketplace=FLIPKART&page=7',\n",
       " 'https://www.flipkart.com/apple-iphone-11-black-64-gb-includes-earpods-power-adapter/product-reviews/itm0f37c2240b217?pid=MOBFKCTSVZAXUHGR&lid=LSTMOBFKCTSVZAXUHGREPBFGI&marketplace=FLIPKART&page=8',\n",
       " 'https://www.flipkart.com/apple-iphone-11-black-64-gb-includes-earpods-power-adapter/product-reviews/itm0f37c2240b217?pid=MOBFKCTSVZAXUHGR&lid=LSTMOBFKCTSVZAXUHGREPBFGI&marketplace=FLIPKART&page=9',\n",
       " 'https://www.flipkart.com/apple-iphone-11-black-64-gb-includes-earpods-power-adapter/product-reviews/itm0f37c2240b217?pid=MOBFKCTSVZAXUHGR&lid=LSTMOBFKCTSVZAXUHGREPBFGI&marketplace=FLIPKART&page=10']"
      ]
     },
     "execution_count": 117,
     "metadata": {},
     "output_type": "execute_result"
    }
   ],
   "source": [
    "page_url=[]\n",
    "url = driver.find_elements_by_xpath(\"//nav[@class='yFHi8N']//a\")[:10]\n",
    "for i in url:\n",
    "    page_url.append(i.get_attribute('href'))\n",
    "page_url"
   ]
  },
  {
   "cell_type": "code",
   "execution_count": 118,
   "metadata": {},
   "outputs": [
    {
     "data": {
      "text/plain": [
       "['5',\n",
       " '5',\n",
       " '5',\n",
       " '5',\n",
       " '5',\n",
       " '5',\n",
       " '5',\n",
       " '4',\n",
       " '5',\n",
       " '5',\n",
       " '5',\n",
       " '5',\n",
       " '5',\n",
       " '5',\n",
       " '5',\n",
       " '5',\n",
       " '5',\n",
       " '5',\n",
       " '5',\n",
       " '5',\n",
       " '5',\n",
       " '5',\n",
       " '4',\n",
       " '5',\n",
       " '5',\n",
       " '5',\n",
       " '5',\n",
       " '4',\n",
       " '5',\n",
       " '5',\n",
       " '5',\n",
       " '5',\n",
       " '5',\n",
       " '5',\n",
       " '5',\n",
       " '5',\n",
       " '5',\n",
       " '4',\n",
       " '5',\n",
       " '5',\n",
       " '5',\n",
       " '5',\n",
       " '5',\n",
       " '5',\n",
       " '5',\n",
       " '5',\n",
       " '4',\n",
       " '5',\n",
       " '5',\n",
       " '5',\n",
       " '5',\n",
       " '5',\n",
       " '4',\n",
       " '5',\n",
       " '5',\n",
       " '5',\n",
       " '5',\n",
       " '5',\n",
       " '5',\n",
       " '5',\n",
       " '5',\n",
       " '5',\n",
       " '5',\n",
       " '5',\n",
       " '4',\n",
       " '5',\n",
       " '5',\n",
       " '5',\n",
       " '4',\n",
       " '5',\n",
       " '5',\n",
       " '5',\n",
       " '4',\n",
       " '5',\n",
       " '5',\n",
       " '5',\n",
       " '5',\n",
       " '5',\n",
       " '5',\n",
       " '5',\n",
       " '5',\n",
       " '5',\n",
       " '4',\n",
       " '5',\n",
       " '5',\n",
       " '4',\n",
       " '5',\n",
       " '5',\n",
       " '5',\n",
       " '5',\n",
       " '5',\n",
       " '5',\n",
       " '5',\n",
       " '5',\n",
       " '5',\n",
       " '5',\n",
       " '3',\n",
       " '5']"
      ]
     },
     "execution_count": 118,
     "metadata": {},
     "output_type": "execute_result"
    }
   ],
   "source": [
    "ratings=[]\n",
    "for i in page_url:\n",
    "    driver.get(i)\n",
    "    rate=driver.find_elements_by_xpath(\"//div[@class='_3LWZlK _1BLPMq']\")\n",
    "    for i in rate:\n",
    "        ratings.append(i.text)\n",
    "ratings"
   ]
  },
  {
   "cell_type": "code",
   "execution_count": 119,
   "metadata": {},
   "outputs": [
    {
     "data": {
      "text/plain": [
       "['Brilliant',\n",
       " 'Simply awesome',\n",
       " 'Best in the market!',\n",
       " 'Perfect product!',\n",
       " 'Fabulous!',\n",
       " 'Worth every penny',\n",
       " 'Great product',\n",
       " 'Good choice',\n",
       " 'Worth every penny',\n",
       " 'Highly recommended',\n",
       " 'Highly recommended',\n",
       " 'Perfect product!',\n",
       " 'Perfect product!',\n",
       " 'Classy product',\n",
       " 'Highly recommended',\n",
       " 'Worth every penny',\n",
       " 'Perfect product!',\n",
       " 'Simply awesome',\n",
       " 'Worth every penny',\n",
       " 'Terrific',\n",
       " 'Worth every penny',\n",
       " 'Wonderful',\n",
       " 'Nice product',\n",
       " 'Classy product',\n",
       " 'Perfect product!',\n",
       " 'Brilliant',\n",
       " 'Must buy!',\n",
       " 'Good choice',\n",
       " 'Wonderful',\n",
       " 'Perfect product!',\n",
       " 'Terrific purchase',\n",
       " 'Simply awesome',\n",
       " 'Great product',\n",
       " 'Mind-blowing purchase',\n",
       " 'Terrific purchase',\n",
       " 'Excellent',\n",
       " 'Simply awesome',\n",
       " 'Good quality product',\n",
       " 'Very poor',\n",
       " 'Classy product',\n",
       " 'Perfect product!',\n",
       " 'Must buy!',\n",
       " 'Fabulous!',\n",
       " 'Mind-blowing purchase',\n",
       " 'Mind-blowing purchase',\n",
       " 'Wonderful',\n",
       " 'Great product',\n",
       " 'Very Good',\n",
       " 'Classy product',\n",
       " 'Perfect product!',\n",
       " 'Just wow!',\n",
       " 'Awesome',\n",
       " 'Terrific',\n",
       " 'Pretty good',\n",
       " 'Terrific purchase',\n",
       " 'Awesome',\n",
       " 'Classy product',\n",
       " 'Brilliant',\n",
       " 'Terrific',\n",
       " 'Perfect product!',\n",
       " 'Awesome',\n",
       " 'Perfect product!',\n",
       " 'Very poor',\n",
       " 'Fabulous!',\n",
       " 'Excellent',\n",
       " 'Must buy!',\n",
       " 'Value-for-money',\n",
       " 'Best in the market!',\n",
       " 'Brilliant',\n",
       " 'Terrific purchase',\n",
       " 'Good quality product',\n",
       " 'Best in the market!',\n",
       " 'Perfect product!',\n",
       " 'Awesome',\n",
       " 'Value-for-money',\n",
       " 'Just wow!',\n",
       " 'Super!',\n",
       " 'Classy product',\n",
       " 'Must buy!',\n",
       " 'Mind-blowing purchase',\n",
       " 'Terrific',\n",
       " 'Wonderful',\n",
       " 'Excellent',\n",
       " 'Excellent',\n",
       " 'Nice product',\n",
       " 'Mind-blowing purchase',\n",
       " 'Highly recommended',\n",
       " 'Pretty good',\n",
       " 'Wonderful',\n",
       " 'Worth every penny',\n",
       " 'Fabulous!',\n",
       " 'Mind-blowing purchase',\n",
       " 'Excellent',\n",
       " 'Super!',\n",
       " 'Fabulous!',\n",
       " 'Just wow!',\n",
       " 'Terrific purchase',\n",
       " 'Awesome',\n",
       " 'Decent product',\n",
       " 'Awesome']"
      ]
     },
     "execution_count": 119,
     "metadata": {},
     "output_type": "execute_result"
    }
   ],
   "source": [
    "review_summary=[]\n",
    "for i in page_url:\n",
    "    driver.get(i)\n",
    "    review_summ=driver.find_elements_by_xpath(\"//p[@class='_2-N8zT']\")[:100]\n",
    "    for i in review_summ:\n",
    "        review_summary.append(i.text)\n",
    "review_summary"
   ]
  },
  {
   "cell_type": "code",
   "execution_count": 120,
   "metadata": {},
   "outputs": [
    {
     "data": {
      "text/plain": [
       "['The Best Phone for the Money\\n\\nThe iPhone 11 offers superb cameras, a more durable design and excellent battery life for an affordable price.\\n\\nCompelling ultra-wide camera\\nNew Night mode is excellent\\nLong battery life',\n",
       " 'Really satisfied with the Product I received... It’s totally genuine and the packaging was also really good so if ur planning to buy just go for it.',\n",
       " 'Great iPhone very snappy experience as apple kind. Upgraded from iPhone 7.\\nPros\\n-Camera top class\\n- Battery top performed\\n-Chipset no need to say as apple kind\\n-Security as you expect from apple\\n- Display super bright industry leading colour\\naccuracy and super responsive\\n-Build quality as expect from apple sturdy\\npremium durable beautiful stylish.\\n-Os most stable os in smartphone industry\\n\\nCons\\n-No 5G\\n-Display is not based on OLED technology\\n-Charger headphones and 1 apple stic...\\nREAD MORE',\n",
       " 'Amazing phone with great cameras and better battery which gives you the best performance. I just love the camera .',\n",
       " 'This is my first iOS phone. I am very happy with this product. Very much satisfied with this. I love this phone.',\n",
       " 'Previously I was using one plus 3t it was a great phone\\nAnd then I decided to upgrade I am stuck between Samsung s10 plus or iPhone 11\\nI have seen the specs and everything were good except the display it’s somewhere between 720-1080 and it’s not even an amoled it’s an LCD display\\nBut I decided to go with iPhone because I have never used an IOS device I have Been an android user from the past 9 years I ordered IPhone 11 (128gb) product red\\nMy experience after using 3 weeks\\n1. The delivery ...\\nREAD MORE',\n",
       " 'Amazing Powerful and Durable Gadget.\\n\\nI’m am very happy with the camera picture quality, Amazing face id unlocked in dark room, Strong battery with perfect screen size as you can carry easily in pocket. This is my third iPhone.\\n\\nI shifted from android Samsung Note series to iPhone because of the strong build quality and peace of mind for next 3-4 years.\\n\\nDon’t think to much just go for it and I suggest you to go for minimum 128gb variant or more 256gb.\\n\\nI’ve attached my puppy pics and no fi...\\nREAD MORE',\n",
       " 'So far it’s been an AMAZING experience coming back to iOS after nearly a decade but it’s not as versatile as android though phone is sturdy dropped it accidentally a couple of times and nothing happened fortunately camera is awesome',\n",
       " 'i11 is worthy to buy, too much happy with the product. Thank u flipkart I received the item on time..loved it..',\n",
       " 'iphone 11 is a very good phone to buy only if you can compromise for the display. The display on this is device is pretty good but you can get other options with better displays in this price segment.\\nIf you can survive with an HD+ LCD panel with thicker bezels and a notch up top then this is a very good phone for you.\\nCameras are awesome, battery backup excellent, great performance and a decent premium look. Good job Apple !',\n",
       " 'What a camera .....just awesome ..you can feel this iPhone just awesome . Good for gaming also ...try pubg in hd it’s just wow',\n",
       " 'It’s a must buy who is looking for an upgrade from previous generation of iPhones. If you are using XR then still you can hold on for sometime and upgrade to 2020 model else this phone is a must buy . Camera quality is amazing and wide angle is something to count upon. Performance wise it’s amazing and feels premium while holding in hand. So a big YES for this device. Go for 128 GB variant as the 4K videos will occupy lots of space and the storage can get over very quickly. Try to buy it with...\\nREAD MORE',\n",
       " 'Value for money❤️❤️\\nIts awesome mobile phone in the world ...\\nDisplay was very good and bright ..\\nTrust me freinds you r never regret after Buying..\\nJust go for it....\\nI love this phone and i switch to iphone x to 11',\n",
       " 'Totally in love with this ❤ the camera quality is amazing just love it 😘😘😘 itsss dammnnnnnn amazing... Must buy iPhone 11 this is my best experience ever ☀👌👌🧡🧡🧡🧡🧡 thanku apple ❤',\n",
       " \"It's my first time to use iOS phone and I am loving my upgradation 😍😍 I love the color, I love the assebility of the phone....I need to learn more about its functionality, but as far as I have seen, it's quite easy and it has a lot of functions to work on, specially if you are a content writer or a blogger you get a lot of content creation platforms and they are really amazing.\\n\\nThis phone not only for good quality photography but a lot of other task too.😍💯\",\n",
       " 'Best budget Iphone till date ❤️ go for it guys without second thought. Let me explain you guys about Camera, Display, battery, and performance.\\n\\nCamera: at this price range there is no comparison of camera, you’ll love the picture quality as well as video quality. I am a Vlogger I wanted an iPhone with 4k video by front camera and I got this phone and I am more than happy 😃\\n\\nBattery: I use this phone roughly as I am active social media person and I have a youtube channel. so the battery ba...\\nREAD MORE',\n",
       " \"Iphone is just awesome.. battery backup is very very nice.. continuously for 10 hours we can use it.camera is just awesome.. display is just fab.i love it alot..i had to wait 15 days for it as i pre ordered it..overalll it's worth the price..these all images are clicked by my iPhone..and i love it.\",\n",
       " 'Excellent camera, good performance, no lag. The lcd display is also good.. but difference come when we watch movie in prime and Netflix, the colours are not vibrant.. as we see in amoled display.. and the charger in box is of 5 watts.. takes more than 3 hours to charge from 0 to 100.. so guys be prepare to buy 18 watts charger . Finally I am an android user, it was my first Iapple phone, I promise u guys the iOS is so smooth.. overall the phone is damn good.... close eyes to buy it.. thanks t...\\nREAD MORE',\n",
       " 'It’s been almost a month since I have been using this phone. I upgraded from an iPhone 8. The main issue with my 8 was battery and this phone is just awesome when it comes to battery. It lasts a day and a half for me with my regular use , internet connected always with 4g\\nCan’t move forward without saying this. Battery of this phone is a life saver when I am traveling or at work when I don’t get the option to charge\\nCamera is superb. Front cam selfies and back cam photos are just awesome.\\n...\\nREAD MORE',\n",
       " 'Really worth of money. i just love it. It is the best phone ever.',\n",
       " 'Smooth like butter, camera like fantabulous, sound is crystal clear & its red color is damn attractive, i am just loving it. Must buy if you love photography.\\n\\nLucky to get it in sale, thank you Flipkart.',\n",
       " 'This is my first ever I phone. Before this I was using my google nexus 5. But moving from android to iOS is a great experience. It’s worth at this price. I will highly recommend it if you want to move to iOS. The best part of this phone is it’s camera and it’s battery life. This two things have won my heart. I loved it. Happy to have it in my hand. Still exploring its features. And can’t forget to mention Flipkart service. Very prompt service and fast delivery.',\n",
       " 'Awesome Phone. Slightly high price but worth. Better than iPhone XR.\\nCamera is superb and wide angle camera is very clear.\\n12MP selfie camera is also very good.\\nA13 Chip gives a very good and smooth performance.',\n",
       " 'Superb Product !!!\\nA big and worthy upgrade from mi 3S to iphone 11 .\\nTotally loved it !',\n",
       " 'Battery backup is extraordinary, camera is decent & performance offered by A13 bionic is awsome. The display is good in practical usage like the visibility of display is very good in direct sun light compare to pro models. Iam extremely satisfied for the money I spent.',\n",
       " 'I have migrated from OP 7pro... and trust me, iPhone 11 is totally worth it.. following are the reasons:-\\n1)there is ABSOLUTELY NO ISSUE WITH THE DISPLAY... its crisp, sharp and I found it to be much much better than OP7 pro. Netflix, Prime video all run crisply... you won’t miss a thing. True Tone works flawlessly...the display brightness is perfect. OP have not calibrated their screens properly.\\n2) iPhone 11 series have really good cameras... others have spoken in depth about them.\\n3) bat...\\nREAD MORE',\n",
       " 'It’s an amazing product from apple and the camera is simply superb. Phone is faster.Night shot is simply superb and detailing and colour differentiation from camera is an added advantage\\n\\nThis review I have written from iPhone 11 only and I am glad to say outside.\\n\\nCons wise if we see HD+ display only, no battery percentage indicator as in older iPhone 8.\\nNo assistive touch control button in it\\nNo oleophobic coating on back panel glass and finger prints are visible but since I bought mint gr...\\nREAD MORE',\n",
       " 'Looking so good 👍 😍 super 👌 stylish 😎 phone\\nClean box 📦 good 👍 delivery 👌 fast delivery\\nOriginal box Original iphone 📱 👌 😍😍😍',\n",
       " 'I just directly switch from iphone 6s to iphone 11 .The best premium smartphone I recommend to everyone. Excellent quality and colors the iphone have in 11 series.\\nCamera quality is just awesome and the major feel when we hold in our hands. The sound quality and volume is also higher then the previous models.\\nI will recommend to buy iphone 11 instead of pro models , there is nothing much difference as this model contains everything which fulfill our needs.\\n\\nOnly one thing that I dislike abo...\\nREAD MORE',\n",
       " 'After 1 month use I found camera quality best compared to my previous Samsung note 10+.Display not good as note 10 also charging too slow.Apple should add fast charger like 11 plus and pro.Best phone for daily use',\n",
       " 'Upgraded from iphone 6 to 11 best phone for iphone users battery is much better than other iphones camera is awesome love to use it.camera is so clear in night.',\n",
       " \"It's very high performances devise i am like the service of flipkart delevary very fast and packing very nice perfect phone\",\n",
       " 'Well you all know the specifications . One of a kind. Best iPhone till date. Many enhancements to the camera app with many options. Love the glass body with matte finish in the lens area on the back. Lovely colours to choose from. Best battery in an iPhone till date, enough to last more than a day in normal usage. I tested my iPhone 11 battery and lasted for than 24 hours after full charge still with 30% battery charge left. Watched movies for some time. Normal usage on calls, browsing, musi...\\nREAD MORE',\n",
       " 'This will help you more. See if you are planning to buy iPhone 11. I will say. Yes. But there are some plans I just want to disclose before you buy. 1) If you are an existing iPhone X/XS/XS Max/ XR user, better you guys do not think it to buy. You guys have more or less better gadget. 2) If you are an android user and planning to buy premium phone. I will suggest them to please buy iPhone instead of buying an Android. I bet you will never go back to android after using IOS. Now I want to shar...\\nREAD MORE',\n",
       " 'The built quality is not very premium.\\nThe battery back is great .\\nThe LCD panel is not so sharp but the brightness level is very High .\\nCamera is super duper awesome.\\nThe red colour which people think is bright is actually very soothing and excellent colour to choose from .\\nThe A13 Bionic chip is really a flagship processor and can beat any phone which even has 12 gb ram .\\nCamera module is very great and looks very stylish.',\n",
       " 'Amazing camera and feel super machine I am not describe my feeling but this is amazing Phone I am so lucky I have this',\n",
       " 'Really good actually this is my first apple product am using its really awesome performance wise excellent. Am really happy with this iphone11',\n",
       " 'it is very good at performance. Camera is best like before and very smooth response even in water. Don’t buy 12 mini buy iPhone 11 , it is far better than 12 mini believe me ! Have a nice day \\uf8ff ☺️',\n",
       " 'Reviewing again after 5 months. At the beginning the battery and performance was good but it degraded soon. Also I was facing heating issues. The mobile will heat up like a stove sometimes. You cannot even play Pubg even in low settings properly, performance is not a problem but heating is. Also if you play that game for 10 mins the brightness will be automatically down due to over heating even when the auto brightness is set to off. This will not be solved even if u manually increase the bri...\\nREAD MORE',\n",
       " 'We are on apple ecosystem for almost eight years now with couple of iPads and iPhones, including Xr.\\n\\nBought iPhone 11 as a gift to my daughter who loves it. We chose for a purple coloured one. Believe me it is gorgeous and towards the lighter shade. Dazzling and brilliant!\\n\\nThe phone is great and does excellent RAM management like any other Apple device.\\n\\nThe screen, though a LCD and lesser ppi as compared to other flagship phones of competitor brands, is a delight to watch with perfect re...\\nREAD MORE',\n",
       " 'It is just awesome mobile for this price from Apple,\\n\\nAfter 10 days review\\n\\nBattery enough for 1 day even 24*7 Internet will be on and mostly internet usage\\n\\nCamera is just awesome cool , android 64 MP is equal to this just 12 MP\\n\\nA13 Bionic chip will give more high performance without hanging\\n\\nAudio stereo speakers will give Dolby atoms sound with crystal clear\\n\\nVideo recording is like cinematic shots of every sec can be a 4K 60fps. Just awesome this phone\\niPhone 11 loved one',\n",
       " 'Best Apple iPhone that i have bought at a very reasonable price, camera quality is next level just awesome n of superior quality android phones not even close(RIP) to that and also battery is really good but packaging by Flipkart of iPhone was very poor of such a expensive product, firstly im bit worried about the quality of product if i purchased it through online how was the product but i think now this was mine best decision to bought it through Flipkart online because i got genuine Apple...\\nREAD MORE',\n",
       " \"I can say I'm damn impressed with iPhone 11. As they says iPhone 11 have the toughest glass ever in the smartphone which you'll find on the front and back and it's totally smooth. The fit and finish is full apple quality - there's no sense that any cheaping out has happened in the construction. Without saying it's camera features this review won't complete. The iPhone 11 has a dual camera system, consisting of a wide angle len's that's pretty much same as found on the iPhone XR last year, but...\\nREAD MORE\",\n",
       " 'Best Quality Product OF iPhone Series , Sound Quality & Camera quality is very awesome, Battery Life is very Sufficient for 24 hr Backup With Full Internet Access , I love this this Product too much , It is very fast & making me Very fast in all my daily Routine\\nHighlights;\\n1.Camera: 5 STAR\\n2.Video Recording: 5 star\\n3.Night mODE sHOOTING & Camera:4 star\\n4. Audio Quality: Awesome\\n5. Battery : 5 Star\\n6. Touch:5 Star\\n7. Processor: Very Fast\\nThe M...\\nREAD MORE',\n",
       " 'First thanks to Flipkart for this amazing deal and phone is outstanding. I upgraded from iPhone 7 and this is like very big upgrade. But the packaging was very basic I expected a good packaging as they only wrapped one layer of bubble wrap which I don’t think is enough to protect this expensive phone. And I recommend this phone and seller as well.\\n\\nAnd I’m posting this review after using it for 4 days.',\n",
       " 'Superfast delivery by Flipkart. Thanks.\\n\\n1. iPhone 11 is a pretty solid phone for the money you are paying.\\n2. All the bad reviews about the display is confusing. It’s not that bad.\\n3. I switched from a Oneplus 7t. I have no complaints about the display quality of iPhone. Yes, it’s not OLED, so, we are missing on the deep blacks. But that’s it. It is a very colour accurate display. Gets adequately bright and I could not find any pixelation.\\n4. Performance is one of the best, if not best, in ...\\nREAD MORE',\n",
       " \"Again back to apple iphone after a gap of 2-3 years. It's pleasure to use iOS and the quality product by Apple. Iphone 11 still works like a beast in 2021 also. It really capable of doing day to day usage as well as hard core gaming. Battery is awesome. I'm really too much satisfied with it. Apart fto the very gorgious IPS LCD (AMOLED will be better) everything is mind boggling. Iphone💕.\",\n",
       " 'impressive super phone and best in class camera ,sound and face unlock is super fast just see and phone is unlock and fast in daily apps use',\n",
       " 'Well while switching from android to iOS the first thing you need to be careful about is that you will loose all your whatsapp chat backups as both are different operating systems. Camera clarity is awesome and though being an lcd screen clarity and resolution is good. Battery backup is also good unlike previous gen iPhone. So far the experience is good will Padre after a few months of usage.\\n\\nP.S the black is more of a dark grey shade and not jet black',\n",
       " 'In love with this iphone great performance,camera ,battery everything. Go for it have a uncompareble battery backup, no doubts in iPhone camera here You can see the picture which is shot on my iPhone In love with this iphone great performance,camera ,battery everything. Go for it have a uncompareble battery backup, no doubts in iPhone camera here You can see the picture which is shot on my iPhone In love with this iphone great performance,camera ,battery everything. Go for it have a uncompare...\\nREAD MORE',\n",
       " 'Best in class. Battery backup is good especially when you play games like Pubg COD. But it is sort of heavy when you hold in hands. Portrait mode is best to click pictures. Stage light effect is awesome. Try to click photos outside in nature because photos inside home or room will not give you the quality in any phone even in DSLR.',\n",
       " 'Very excited to have this phone. This phone has the real power unlike the android phones having SD 855 . The battery life is very good and the camera quality is excellent as comapred to redmi and other phones except google pixel. I M enjoying every single bit of it. Would recommed only if you have the budget.',\n",
       " \"I upgraded (downgraded?) from my iPhone X since the phone fell down and I didn't want to repair the screen. The box that the phone came in was super slim and I was worried that there'd be no 5W charger with it and my fears were confirmed. However, thankfully I had the 18W USB-C PD charger from Apple which I bought for my iPhone X and it worked perfectly. The charging time is as lethargic as ever though and it takes about 1:30 mins or even 2 hours depending on charge remaining. I'll list some ...\\nREAD MORE\",\n",
       " 'I was using Iphone 6s and also Oneplus 6t. Both mobiles were perfectly alright in Photos, gaming, and smooth interface . My 6s mobile getting battery issue. thought upgrade to 11. Really like this mobile of its Internal storage (compare to 6s) , camera and its touch feeling. Its a worth buying mobile for me.',\n",
       " 'Its Very awesome product working and good camera quality and all about best product and also flipkart is very great deal and offer nice price',\n",
       " 'I am using this phone for 5 days and its one of the best camera out there ❤️ the screen is not oled and i am coming from iphone xs so its little bit not up to the mark i would say\\nBut overall value for money💕😍the battery back up is far better than my iphone xs and its worth in my apple ecosystem💫❤️if u are an apple User and have the eco system then go for it❤️though i will be getting the new iphone but its pretty good💫',\n",
       " 'Best and amazing product.....phone looks so premium.... battary is also good as expected .... Wide angle camera is so addictive ...if you are a IOS lover....then this phone will be the best choice for you all!!💯🔥',\n",
       " 'Excellent camera and display touching very nice and smooth very improvement against iPhone XR and new processor is very fast',\n",
       " \"I got this beast today. And I must say the picture quality of its camera is awesome. Both the cameras works fine.\\n\\nAs for as the processing is concerned, it runs without any lag. You can play and do whatever you want without a glitch.\\n\\nThe battery runs for a day with medium and high workload.\\n\\nThe display is good and the speakers are working fine.\\n\\nThe earphones doesn't have any base and you can use it for calling mostly.\\n\\nThe charging time is approximately for 90 minutes for full charging...\\nREAD MORE\",\n",
       " 'Awesome purchase. Amazing phone with good battery backup. It’s a top notch device. White colour looks amazing. Phone has a few extra feature than iPhone XR. Overall, this is value for money',\n",
       " 'Always love the apple products, upgraded from old iPhone 6S plus to this after having my first baby. I just love to click baby’s photos with it. Overall I just love this phone. Battery back up is okay, sound quality is good. Haven’t tested yet waterproof yet. Only one thing I hate is apple could have given charger & headphones in box.',\n",
       " 'Value for money\\n5 star rating\\nExcellent camera\\nBattery backup full day in single charge.\\n\\nTougher and water resistant design, glossy back.\\nThe screen has excellent brightness and contrast.\\nApple A13 Bionic is the fastest smartphone chip on the planet.\\nExcellent battery life, fast charging support.\\nStereo speakers with great quality.',\n",
       " 'Please DONT buy from here,\\n\\nI purchased Apple iPhone 11. with an exchange of IPhone 7, the exchange did not go well, iPhone 7 had a small scratch out side screen which i could never identify till date, but the FLIPKART person could, so he reduced 50% from exchange rate. I decided not to trade in, but paid money.\\n\\niPhone 11 Detail Below\\n---------------------------------------------\\nIt came with no charging, then i have put for charging, it took lot of time for charging, the phone also showe...\\nREAD MORE',\n",
       " 'awesome phone to have. it has got many smart features apart from mind blowing looks, camera, display, battery and sound. have fallen in love with this phone. must buy phone if you have got enough money. thanks to flipkart and apple of course..',\n",
       " 'Its a fabulous mobile look awesome performance unbeaten camera like dslr battery good i think this is a beast of mobile',\n",
       " 'Dear friends... I want to share my experience with you about this amazing I phone 11....this is my first iPhone and special things about this mobile is it has great camera, battery backup and awesome display.... I mean everything is perfect.loved it 👍👍👍',\n",
       " \"Just got this iphone 11\\nAnd it is most powerful mobile phone I have used ever\\n\\nSo,go for it if you want a phone with best specification like camera,battery backup,display, A13 bionic chip\\n\\nThat's my review about this phone but yours can be differ from me....\",\n",
       " \"The best all rounder iphone. Flipkart is doing a great job. They're delivery services are blazing fast. I got delivery on the same day. Genuine Apple Product. Working great. Talking about review There's no need of review for iphones. They're simply the best.\",\n",
       " 'Amazing phone and on great deal I received with super fast delivery by Flipkart...',\n",
       " 'finally an iPhone with very nice battery backup. update from iPhone 7 and happy to have it. camera is not up to the mark in low light but overall a recommended phone if your budget allows 😀',\n",
       " \"I'm switching this phone to oppo reno 10x zoom\\nIt's really impressive\\nRarely I'm missing smooth display touch response like oppo reno but\\nI really loved it.\\nCamera really impressive\",\n",
       " 'Damn this phone is a blast . Upgraded from android to ios and is a duperb experience. Battery backup is top notch and display also pretty good',\n",
       " 'Worth the money’ starting first from its performance it beats out all phones , second the smoothness of camera is awesome, contrast ratio is much than expected. Price will not matter if u r a quality person, if not other phones are available with better discount',\n",
       " 'I dreamt about this day from a long time.... Getting an iPhone with my own money.... Super happy and worth spending every penny',\n",
       " \"I'm Really happy with the product\\nDelivery was fast as well\\n..it was a gift for my sister and she loved it so much.\",\n",
       " 'Great iphone.\\nI am writing this review after 2 months of usage.\\nCamera is excellent, especially the nightmode\\nDisplay perfect\\nBattery backup awesome\\nSound quality very good\\nOverall Apple gives you a perfect iphone in this range.\\nReally in love with iPhone 11',\n",
       " 'Did an upgrade from 6s plus to iphone 11.\\nAo far the experience is well and good. Felt smoother than 6s plus. The camera quality is superb. Battery backup is descent. Not a heavy user, and gets power more than a day. Go for it if you need an alrounder iphone in a competitve price.',\n",
       " 'Gifted my man on his 30th birthday 🎂 He loves it.. Him happy so i am more than happy 😍😘❤️🥰',\n",
       " 'I rate this product 5* as it has got amazing user experience with the best performing A13 bionic processor. The screen responds and graphics rendering is top notch. With casual gaming and internet browsing, the battery lasts for approx. 1 day. Camera is very good. You will fall in love with the portrait mode. You can call me a loyal Apple customer or whatever but I won’t stop praising the products and overall experience. That user experience matters and is worth every penny you pay.\\n\\nBelow ar...\\nREAD MORE',\n",
       " 'awesome Phone Smooth Touch Too good Sexyy looks one word Awesome',\n",
       " 'I bought iPhone 11 On March 2021, And I am Writing this review after using the phone for 4 Months. I would Say Everything is fine, Top Performance, Nice Camera as Anyone would Expect from any series of iPhone but when the Question comes to Battery it is complicated. The Battery is fully optimised and it comes 3110 mAh capacity but the problem is with the charger. Honestly Apple Removed charger from in Box items in the name of Environment and they are also forcing us to buy any 20W PD 3rd part...\\nREAD MORE',\n",
       " 'Super and marvellous phone look very cute and nice sound. I love this phone i think white is good colur.Excellent camer 5*😍😘♥️♥️',\n",
       " \"It was amazing experience for me. Honestly i am using iPhone first time so I don't have that much past experience about that. But after using 7 days this mobile i want to give some honest feedback.\\n1- Display 9 out of 10\\n2- Camera 9.5 out of 10\\n3- Battery 7 out of 10\\n4- Performance 9.5 out of 10\\n5- Features & Functions 10 out of 10\\n6- Outer looks and colour 10 out of 10\\nRest i think i will understand after using this for few months.\\nI will highly recommend you guys if you have budget then you...\\nREAD MORE\",\n",
       " \"Just go for it.\\nThis phone is really amazing. I ordered it for my wife and we click photos on this thing which are better than dslr. I own OnePlus 6t but it's camera sucks. iPhone is really amazing when it comes to camera. It's worth spending 50k on this. Cons- only display is lcd. While using u don't feel it but if u compare with other phone then u can see difference quite easily.\\nChanging from Android to iphone is bit difficult coz most of things u don't know but I liked it. Some of the a...\\nREAD MORE\",\n",
       " \"If you are looking for a premium phone under 55k, this is the one for you.Got the iPhone 11 during the Republic day sale. Performance is top notch in this price range. Camera's do a perfect job in taking good quality photos and videos. Battery backup too is satisfactory. Writing this review after using for a week. Any further observations would be updated.\",\n",
       " 'Absolutely powerful gadget. Loved it’s look! Soo glassy and classy. I would definitely recommend this model of Apple. Only disappointed with the 5W charger, one should purchase an 18W adapter for fast charging. Though battery backup is great. Bought it in September 2020, reviewing after so long so I’m gonna put the genuine review here.✅',\n",
       " 'Thanks Flipkart For this amazing deal! I had a dream of owning a iphone since i had known about.\\nIm very happy with my purchase & it is totally worth it.\\nAmazing experience all over !!\\n\\nAnyone who’s thinking of buying it in 2021, i would simply say go for it without any second thoughts ❤️',\n",
       " \"I've used this phone for over a month now and here are my takeaways.\\nI would like to first talk about the best things about this phone and then the cons of it.\\n\\nPros:\\nThis phone is a performance beast. It handles large games and applications effortlessly and you won't find any stutters or lags while playing graphic intensive games like pubg, cod , mortal kombat and asphalt.\\n\\nThis phone has only 4gb ram and yet the ram management is amazing, it can keep 3 heavy games in memory without reload...\\nREAD MORE\",\n",
       " 'Nice value for money good and best price I phone mind blowing camera processor very fast other android mobile I am happy India top selling phone 2020',\n",
       " 'Undoubtedly Iphone 11 is the most successful model till now and its performance is extraordinary and the security features are very impressive, display is more vibrant sound quality Camera Quality 5*****, but Iphone should add accessories too and act like scrooge.',\n",
       " 'I purchased the iPhone 11 a month back. I must say Apple has impressed me yet again . I have been an Apple user for past 5 years . The phone is power packed with amazing features . What impressed me the most was the battery backup the phone offers . Battery can easily run upto 1.5 days in single charge with moderate to\\nHeavy usage . If you’re looking for a value for money device , I don’t see any other phone in the price range which can match the iPhone 11 .\\nOne thing I didn’t like was that ...\\nREAD MORE',\n",
       " 'Excellent camera 📸 And Display touching very Nice And Smooth and very improvement against\\nI phone 11 and new processor is very fast',\n",
       " 'A perfect phone and a good battery super camera and the sound is dynamic overall the phone is perfect for upgrading from lower iPhone model to iPhone 11',\n",
       " 'This is my first ever iPhone.\\nAnd I truly don’t regret switching to IOS from my Android.\\n\\nIt is easily an alternative to a DSLR camera.\\nIf you’re obsessed with photos and videos, just don’t think twice or don’t compare to other androids(Samsung S10 lite or OnePlus 8/8T), as it’s far better from them in every field.\\nComparing will only make you confused.\\n\\nI am getting an average Screen on Time of around 10 hours with 30 percent left. I haven’t let my device discharged below 30 % as it aff...\\nREAD MORE',\n",
       " 'Everything is perfect pictures come out so clearly and at first I wasn’t sure when I got it then when I started to use it and get the hang of it it was amazing!! I can’t wait to see what the next future phones will be like. The screen display on this bad boy are unbelievable they are so clear and never fail me. The performance is super cool there is a lot of cool features as well I like this phone because I feel that it is easy to use and one of my favorite things about this phone is the Face...\\nREAD MORE',\n",
       " 'The ultimate performance\\nCamera is superb\\nThe battery backup also very good i never saw iphone gives this much of battery backup\\nIf any one wana buy iphone 11 definitely i will recommend this mobile\\nIt has the better battery and powerfull processer peak performance glorious camera and the display also 100% high quality lcd display if u had money for for 12 if u dont wana invest much money on that then go for iphone 11 it has maximum same specs only main difference between the 12 and 11 is...\\nREAD MORE',\n",
       " 'I use a Note10+ and have been using both iOS and Android devices.\\n\\nCamera has really good features and portraits are super good, better than Samsung flagship. Overall camera setup can still be enhanced and hopeful for better upgrades on software in next release\\n\\nOperating system is quite a breeze and user experience of daily usage is very high as compared to Android. I moved to iOS very swiftly in 2 days for all my office work from Note10+\\n\\nBattery holds up quite well with 4 hrs of call and ...\\nREAD MORE',\n",
       " 'The phone is completely good\\nAs far as camera Apple is king of it\\nAnd its a beast in performance\\nAnd the battery is pretty good too',\n",
       " 'Everything u ll like it when u use this iPhone. Simple changes only not many to lower models but it’s nice to use. Little heavy compared to previous models like 7,8',\n",
       " 'Can’t beat the software and hardware integration of apple.\\nPerforms like a beast. Great quality camera\\n6-7 hours screen on time which is good. Nothing much to complaint about the screen. Good connectivity speeds.\\nGreat buy and Flipkart’s delivery top notch as usual']"
      ]
     },
     "execution_count": 120,
     "metadata": {},
     "output_type": "execute_result"
    }
   ],
   "source": [
    "full_review=[]\n",
    "for i in page_url:\n",
    "    driver.get(i)\n",
    "    full_summ=driver.find_elements_by_xpath(\"//div[@class='t-ZTKy']\")[:100]\n",
    "    for i in full_summ:\n",
    "        full_review.append(i.text)\n",
    "full_review"
   ]
  },
  {
   "cell_type": "code",
   "execution_count": 121,
   "metadata": {},
   "outputs": [
    {
     "name": "stdout",
     "output_type": "stream",
     "text": [
      "100 100\n"
     ]
    }
   ],
   "source": [
    "print(len(review_summary),len(full_review))"
   ]
  },
  {
   "cell_type": "code",
   "execution_count": 122,
   "metadata": {},
   "outputs": [
    {
     "data": {
      "text/html": [
       "<div>\n",
       "<style scoped>\n",
       "    .dataframe tbody tr th:only-of-type {\n",
       "        vertical-align: middle;\n",
       "    }\n",
       "\n",
       "    .dataframe tbody tr th {\n",
       "        vertical-align: top;\n",
       "    }\n",
       "\n",
       "    .dataframe thead th {\n",
       "        text-align: right;\n",
       "    }\n",
       "</style>\n",
       "<table border=\"1\" class=\"dataframe\">\n",
       "  <thead>\n",
       "    <tr style=\"text-align: right;\">\n",
       "      <th></th>\n",
       "      <th>review_summary</th>\n",
       "      <th>full_review</th>\n",
       "    </tr>\n",
       "  </thead>\n",
       "  <tbody>\n",
       "    <tr>\n",
       "      <th>0</th>\n",
       "      <td>Brilliant</td>\n",
       "      <td>The Best Phone for the Money\\n\\nThe iPhone 11 ...</td>\n",
       "    </tr>\n",
       "    <tr>\n",
       "      <th>1</th>\n",
       "      <td>Simply awesome</td>\n",
       "      <td>Really satisfied with the Product I received.....</td>\n",
       "    </tr>\n",
       "    <tr>\n",
       "      <th>2</th>\n",
       "      <td>Best in the market!</td>\n",
       "      <td>Great iPhone very snappy experience as apple k...</td>\n",
       "    </tr>\n",
       "    <tr>\n",
       "      <th>3</th>\n",
       "      <td>Perfect product!</td>\n",
       "      <td>Amazing phone with great cameras and better ba...</td>\n",
       "    </tr>\n",
       "    <tr>\n",
       "      <th>4</th>\n",
       "      <td>Fabulous!</td>\n",
       "      <td>This is my first iOS phone. I am very happy wi...</td>\n",
       "    </tr>\n",
       "    <tr>\n",
       "      <th>...</th>\n",
       "      <td>...</td>\n",
       "      <td>...</td>\n",
       "    </tr>\n",
       "    <tr>\n",
       "      <th>95</th>\n",
       "      <td>Just wow!</td>\n",
       "      <td>The ultimate performance\\nCamera is superb\\nTh...</td>\n",
       "    </tr>\n",
       "    <tr>\n",
       "      <th>96</th>\n",
       "      <td>Terrific purchase</td>\n",
       "      <td>I use a Note10+ and have been using both iOS a...</td>\n",
       "    </tr>\n",
       "    <tr>\n",
       "      <th>97</th>\n",
       "      <td>Awesome</td>\n",
       "      <td>The phone is completely good\\nAs far as camera...</td>\n",
       "    </tr>\n",
       "    <tr>\n",
       "      <th>98</th>\n",
       "      <td>Decent product</td>\n",
       "      <td>Everything u ll like it when u use this iPhone...</td>\n",
       "    </tr>\n",
       "    <tr>\n",
       "      <th>99</th>\n",
       "      <td>Awesome</td>\n",
       "      <td>Can’t beat the software and hardware integrati...</td>\n",
       "    </tr>\n",
       "  </tbody>\n",
       "</table>\n",
       "<p>100 rows × 2 columns</p>\n",
       "</div>"
      ],
      "text/plain": [
       "         review_summary                                        full_review\n",
       "0             Brilliant  The Best Phone for the Money\\n\\nThe iPhone 11 ...\n",
       "1        Simply awesome  Really satisfied with the Product I received.....\n",
       "2   Best in the market!  Great iPhone very snappy experience as apple k...\n",
       "3      Perfect product!  Amazing phone with great cameras and better ba...\n",
       "4             Fabulous!  This is my first iOS phone. I am very happy wi...\n",
       "..                  ...                                                ...\n",
       "95            Just wow!  The ultimate performance\\nCamera is superb\\nTh...\n",
       "96    Terrific purchase  I use a Note10+ and have been using both iOS a...\n",
       "97              Awesome  The phone is completely good\\nAs far as camera...\n",
       "98       Decent product  Everything u ll like it when u use this iPhone...\n",
       "99              Awesome  Can’t beat the software and hardware integrati...\n",
       "\n",
       "[100 rows x 2 columns]"
      ]
     },
     "execution_count": 122,
     "metadata": {},
     "output_type": "execute_result"
    }
   ],
   "source": [
    "df=pd.DataFrame()\n",
    "df['review_summary']=review_summary\n",
    "df['full_review']=full_review\n",
    "df"
   ]
  },
  {
   "cell_type": "markdown",
   "metadata": {},
   "source": [
    "Q8: Scrape data for first 100 sneakers you find when you visit flipkart.com and search for “sneakers” in the search field."
   ]
  },
  {
   "cell_type": "code",
   "execution_count": 133,
   "metadata": {},
   "outputs": [],
   "source": [
    "url='https://www.flipkart.com/'\n",
    "driver.get(url)"
   ]
  },
  {
   "cell_type": "code",
   "execution_count": 134,
   "metadata": {},
   "outputs": [],
   "source": [
    "search=driver.find_element_by_xpath(\"//div[@class='_3OO5Xc']//input\")\n",
    "search.send_keys(\"sneakers\")"
   ]
  },
  {
   "cell_type": "code",
   "execution_count": 135,
   "metadata": {},
   "outputs": [],
   "source": [
    "search_btn=driver.find_element_by_xpath(\"//button[@class='L0Z3Pu']\")\n",
    "search_btn.click()"
   ]
  },
  {
   "cell_type": "code",
   "execution_count": 136,
   "metadata": {},
   "outputs": [
    {
     "data": {
      "text/plain": [
       "['https://www.flipkart.com/search?q=sneakers&otracker=search&otracker1=search&marketplace=FLIPKART&as-show=on&as=off&page=1',\n",
       " 'https://www.flipkart.com/search?q=sneakers&otracker=search&otracker1=search&marketplace=FLIPKART&as-show=on&as=off&page=2',\n",
       " 'https://www.flipkart.com/search?q=sneakers&otracker=search&otracker1=search&marketplace=FLIPKART&as-show=on&as=off&page=3']"
      ]
     },
     "execution_count": 136,
     "metadata": {},
     "output_type": "execute_result"
    }
   ],
   "source": [
    "page_url2=[]\n",
    "url = driver.find_elements_by_xpath(\"//nav[@class='yFHi8N']//a\")[:3]\n",
    "for i in url:\n",
    "    page_url2.append(i.get_attribute('href'))\n",
    "page_url2"
   ]
  },
  {
   "cell_type": "code",
   "execution_count": 137,
   "metadata": {},
   "outputs": [
    {
     "data": {
      "text/plain": [
       "['DUCATI',\n",
       " 'Brandward',\n",
       " 'Longwalk',\n",
       " 'BRUTON',\n",
       " 'Magnolia',\n",
       " 'Chevit',\n",
       " 'ASTEROID',\n",
       " 'ALICON',\n",
       " 'luxury fashion',\n",
       " 'Numenzo',\n",
       " 'Numenzo',\n",
       " 'Echor',\n",
       " 'Numenzo',\n",
       " 'ASTEROID',\n",
       " 'BIRDE',\n",
       " 'PROVOGUE',\n",
       " 'Creer',\n",
       " 'HOC',\n",
       " 'RODDICK SHOES',\n",
       " 'Echor',\n",
       " 'believe',\n",
       " 'SCATCHITE',\n",
       " 'Kraasa',\n",
       " 'BRUTON',\n",
       " 'Shoes Bank',\n",
       " 'bluemaker',\n",
       " 'World Wear Footwear',\n",
       " 'tigonis',\n",
       " 'Airland',\n",
       " 'VIPSJAZZY',\n",
       " 'Jack Diamond',\n",
       " 'Baogi',\n",
       " 'Numenzo',\n",
       " 'Arohi',\n",
       " 'Robbie jones',\n",
       " 'LIBERTY',\n",
       " 'bluemaker',\n",
       " 'SPARX',\n",
       " 'Absolute comfort',\n",
       " 'PROVOGUE',\n",
       " 'SPARX',\n",
       " 'India hub',\n",
       " 'bluemaker',\n",
       " 'DUCATI',\n",
       " 'Chevit',\n",
       " 'Jack Diamond',\n",
       " 'SHOEFLY',\n",
       " 'Brandward',\n",
       " 'BIRDE',\n",
       " 'BIRDE',\n",
       " 'Rising Wolf',\n",
       " 'ALICON',\n",
       " 'SPARX',\n",
       " 'Robbie jones',\n",
       " 'Zsyto',\n",
       " 'Echor',\n",
       " 'D-SNEAKERZ',\n",
       " 'BIRDE',\n",
       " 'BRUTON',\n",
       " 'PROVOGUE',\n",
       " 'SPARX',\n",
       " 'Labbin',\n",
       " 'PUMA',\n",
       " 'Echor',\n",
       " 'Zorth',\n",
       " 'Numenzo',\n",
       " 'SPARX',\n",
       " 'BRUTON',\n",
       " 'SHOEFLY',\n",
       " 'SPARX',\n",
       " 'Robbie jones',\n",
       " 'tigonis',\n",
       " 'Extoes',\n",
       " 'SPARX',\n",
       " 'WRIZT',\n",
       " 'LIBERTY',\n",
       " 'BRUTON',\n",
       " 'U.S. POLO ASSN.',\n",
       " 'World Wear Footwear',\n",
       " 'believe',\n",
       " 'KANEGGYE',\n",
       " 'TR',\n",
       " 'BIRDE',\n",
       " 'DUCATI',\n",
       " 'T-ROCK',\n",
       " 'Edoeviv',\n",
       " 'PUMA',\n",
       " 'Brandward',\n",
       " 'BIRDE',\n",
       " 'Magnolia',\n",
       " 'SPADE CLUB',\n",
       " 'ALICON',\n",
       " 'Desi Saga',\n",
       " 'PUMA',\n",
       " 'HOC',\n",
       " 'Echor',\n",
       " 'SPARX',\n",
       " 'Englewood',\n",
       " 'Jokatoo',\n",
       " 'PROVOGUE',\n",
       " 'Stefano Rads',\n",
       " 'RED TAPE',\n",
       " 'Robbie jones',\n",
       " 'Echor',\n",
       " 'SPARX',\n",
       " 'SPARX',\n",
       " 'PUMA',\n",
       " 'tigonis',\n",
       " 'Afreet',\n",
       " 'PUMA',\n",
       " 'SPARX',\n",
       " 'BRUTON',\n",
       " 'Bata',\n",
       " 'BRUTON',\n",
       " 'PUMA',\n",
       " 'Baogi',\n",
       " 'tigonis',\n",
       " 'PUMA',\n",
       " 'PUMA',\n",
       " 'LIBERTY']"
      ]
     },
     "execution_count": 137,
     "metadata": {},
     "output_type": "execute_result"
    }
   ],
   "source": [
    "brands=[]\n",
    "for i in page_url2:\n",
    "    driver.get(i)\n",
    "    brand=driver.find_elements_by_xpath(\"//div[@class='_2WkVRV']\")[:100]\n",
    "    for i in brand:\n",
    "        brands.append(i.text)\n",
    "brands"
   ]
  },
  {
   "cell_type": "code",
   "execution_count": 138,
   "metadata": {},
   "outputs": [
    {
     "data": {
      "text/plain": [
       "['Sneakers For Men',\n",
       " 'Men Boxer Sneakers For Men',\n",
       " 'Combo Pack Of 4 Casual Shoes Loafer Shoes Sneakers For ...',\n",
       " 'Sneakers For Men',\n",
       " 'Perfect & Affordable Combo Pack of 02 Pairs Sneakers Ou...',\n",
       " \"Original Luxury Branded Fashionable Men's Casual Walkin...\",\n",
       " 'Sneakers For Men',\n",
       " 'Luxury Fashionable casual sneaker shoes Sneakers For Me...',\n",
       " 'White Sneaker For Men Sneakers For Men',\n",
       " \"Men's Sneakers Walking Shoes - Lightweight Classic Whit...\",\n",
       " 'Sneakers For Men',\n",
       " \"Original Luxury Branded Fashionable Men's Casual Walkin...\",\n",
       " 'Birde Trendy Casual Shoes Sneakers For Men',\n",
       " 'Sneakers For Men',\n",
       " 'Luxury Fashionable Breathable Casual Sneakers Shoes For...',\n",
       " 'Fashion Outdoor Canvas Casual Light Weight Lace-up Even...',\n",
       " 'Mens Walking Running Shoes - Lightweight Breathable Mes...',\n",
       " 'Sneakers for men(black_6) Sneakers For Men',\n",
       " 'Sneakers Sneakers For Men',\n",
       " 'Series 7 Sneakers For Men',\n",
       " 'Combo Pack Of 3 Latest Casual Shoes Sneakers For Men',\n",
       " \"White Sneaker For Men's/Boy's Sneakers For Men\",\n",
       " 'casual for men (blue 10) Sneakers For Men',\n",
       " '5011-Latest Collection Stylish Casual Loafer Sneakers S...',\n",
       " 'shoe Sneakers For Men',\n",
       " 'Sneakers For Men',\n",
       " 'Sneakers For Men',\n",
       " 'Sneakers For Men',\n",
       " 'casual for men (beige 06) Sneakers For Men',\n",
       " 'SM-322 Sneakers For Men',\n",
       " 'Sneakers For Men',\n",
       " 'Men White Sneakers Sneakers For Men',\n",
       " 'Fashionable sneaker casual shoes Sneakers For Men',\n",
       " 'casual shoe for men Sneakers For Men',\n",
       " 'Sneakers For Men',\n",
       " 'Smart Casuals Canvas Shoes Combo pack of 2 Sneakers For...',\n",
       " 'Combo Men Pack of 2 Loafers Shoes Sneakers For Men',\n",
       " 'Birde Trendy Casual Shoes Sneakers For Men',\n",
       " 'Combo Pack of 2 Casual Shoes Sneakers For Men',\n",
       " 'Sneakers For Men',\n",
       " 'Sneakers For Men',\n",
       " 'SM-675 Sneakers For Men',\n",
       " 'Casual Sneakers Shoes For Men Sneakers For Men',\n",
       " \"Men's Sneakers Walking Shoes - Lightweight Classic Whit...\",\n",
       " \"Casual , Partywear Sneakers Shoes For Men's And Boys Wh...\",\n",
       " \"Men's Stylish Casual Shoes Sneakers For Men\",\n",
       " 'Sneakers For Men',\n",
       " 'SM-162 Sneakers For Men',\n",
       " 'Casual Sneakers White Shoes For Men And Boys Sneakers F...',\n",
       " 'Kor Sneakers For Men',\n",
       " 'Mens Walking Running Shoes - Lightweight Breathable Mes...',\n",
       " 'New Fashion Outdoor Trendy Lightweight Casual,Canvas St...',\n",
       " 'Sneakers For Men',\n",
       " 'Combo Pack Of 3 Latest Casual Shoes Sneakers For Men',\n",
       " 'Combo Men Pack of 2 Loafers Shoes Sneakers For Men',\n",
       " 'Casual Sneakers Sneakers For Men',\n",
       " 'Sneakers For Men',\n",
       " 'Modern Trendy Shoes Combo pack of 4 Sneakers For Men',\n",
       " 'SD-323 Sneakers For Men',\n",
       " 'Combo Pack Of 2 Latest Stylish Casual Shoes for Men Lac...',\n",
       " 'Sneakers For Men',\n",
       " 'Sneakers For Men',\n",
       " 'Sneakers For Men',\n",
       " 'Sneakers For Men',\n",
       " 'Trendy Casual Shoes Sneakers For Men',\n",
       " 'Sneakers For Men',\n",
       " 'Synthetic Leather Casual Partywear Wedding Sneakers Sho...',\n",
       " \"Luxury Branded Fashionable Men's Casual Walking Partywe...\",\n",
       " 'Anzarun Sneakers For Men',\n",
       " 'Birde Trendy Casual Shoes Sneakers For Men',\n",
       " 'White Sneakers Sneakers For Men',\n",
       " 'Sneakers For Men',\n",
       " \"Stylish Sports & Running Walking Shoes For Men's & Boys...\",\n",
       " 'Smash Vulc Sneakers For Men',\n",
       " 'Luxury Fashionable Breathable Casual Sneakers Shoes For...',\n",
       " \"Men's Sneakers Walking Shoes - Lightweight Classic Whit...\",\n",
       " 'SM-322 Sneakers For Men',\n",
       " 'White Sneakers | Top Rated Shoes | Gym Shoes | Running ...',\n",
       " 'Sneakers For Men',\n",
       " 'Sneakers For Men',\n",
       " 'Casual Sneakers Shoes For Men And Boys Sneakers For Men',\n",
       " 'Mens Walking Running Shoes - Lightweight Breathable Mes...',\n",
       " 'Casual Sneakers Sneakers For Men',\n",
       " 'Droge IDP Sneakers For Men',\n",
       " 'Rebound JOY Sneakers For Men',\n",
       " 'Canvas Casual Partywear Outdoor Sneakers Shoes For Mens...',\n",
       " 'Combo Pack Of 3 Latest Casual Shoes Sneakers For Men',\n",
       " 'Puma Flex Renew Sneakers For Men',\n",
       " 'Sneakers For Men',\n",
       " 'Serve Pro Sneakers For Men',\n",
       " 'Puma Rebound LayUp SL Sneakers For Men',\n",
       " 'Sneakers for men(black_9) Sneakers For Men']"
      ]
     },
     "execution_count": 138,
     "metadata": {},
     "output_type": "execute_result"
    }
   ],
   "source": [
    "product_description=[]\n",
    "for i in page_url2:\n",
    "    driver.get(i)\n",
    "    product_discrip=driver.find_elements_by_xpath(\"//a[@class='IRpwTa']\")[:100]\n",
    "    for i in product_discrip:\n",
    "        product_description.append(i.text)\n",
    "product_description"
   ]
  },
  {
   "cell_type": "code",
   "execution_count": 139,
   "metadata": {},
   "outputs": [
    {
     "data": {
      "text/plain": [
       "['₹1,439',\n",
       " '₹438',\n",
       " '₹236',\n",
       " '₹474',\n",
       " '₹356',\n",
       " '₹599',\n",
       " '₹499',\n",
       " '₹472',\n",
       " '₹379',\n",
       " '₹429',\n",
       " '₹449',\n",
       " '₹429',\n",
       " '₹449',\n",
       " '₹499',\n",
       " '₹359',\n",
       " '₹794',\n",
       " '₹398',\n",
       " '₹378',\n",
       " '₹474',\n",
       " '₹399',\n",
       " '₹449',\n",
       " '₹398',\n",
       " '₹444',\n",
       " '₹526',\n",
       " '₹349',\n",
       " '₹449',\n",
       " '₹240',\n",
       " '₹396',\n",
       " '₹264',\n",
       " '₹379',\n",
       " '₹630',\n",
       " '₹419',\n",
       " '₹398',\n",
       " '₹460',\n",
       " '₹499',\n",
       " '₹794',\n",
       " '₹449',\n",
       " '₹769',\n",
       " '₹198',\n",
       " '₹449',\n",
       " '₹623',\n",
       " '₹379',\n",
       " '₹449',\n",
       " '₹1,439',\n",
       " '₹399',\n",
       " '₹627',\n",
       " '₹362',\n",
       " '₹438',\n",
       " '₹283',\n",
       " '₹472',\n",
       " '₹569',\n",
       " '₹472',\n",
       " '₹745',\n",
       " '₹399',\n",
       " '₹398',\n",
       " '₹429',\n",
       " '₹348',\n",
       " '₹283',\n",
       " '₹168',\n",
       " '₹794',\n",
       " '₹730',\n",
       " '₹399',\n",
       " '₹1,824',\n",
       " '₹399',\n",
       " '₹435',\n",
       " '₹449',\n",
       " '₹660',\n",
       " '₹526',\n",
       " '₹362',\n",
       " '₹1,000',\n",
       " '₹499',\n",
       " '₹396',\n",
       " '₹789',\n",
       " '₹576',\n",
       " '₹445',\n",
       " '₹378',\n",
       " '₹499',\n",
       " '₹1,989',\n",
       " '₹240',\n",
       " '₹419',\n",
       " '₹499',\n",
       " '₹399',\n",
       " '₹379',\n",
       " '₹1,439',\n",
       " '₹499',\n",
       " '₹2,258',\n",
       " '₹283',\n",
       " '₹438',\n",
       " '₹283',\n",
       " '₹311',\n",
       " '₹3,079',\n",
       " '₹472',\n",
       " '₹678',\n",
       " '₹398',\n",
       " '₹295',\n",
       " '₹429',\n",
       " '₹719',\n",
       " '₹475',\n",
       " '₹2,883',\n",
       " '₹794',\n",
       " '₹1,379',\n",
       " '₹445',\n",
       " '₹242',\n",
       " '₹399',\n",
       " '₹474',\n",
       " '₹1,234',\n",
       " '₹935',\n",
       " '₹396',\n",
       " '₹650',\n",
       " '₹636',\n",
       " '₹1,840',\n",
       " '₹526',\n",
       " '₹449',\n",
       " '₹944',\n",
       " '₹215',\n",
       " '₹378',\n",
       " '₹1,498',\n",
       " '₹1,907',\n",
       " '₹1,847',\n",
       " '₹419']"
      ]
     },
     "execution_count": 139,
     "metadata": {},
     "output_type": "execute_result"
    }
   ],
   "source": [
    "price=[]\n",
    "for i in page_url2:\n",
    "    driver.get(i)\n",
    "    pri=driver.find_elements_by_xpath(\"//div[@class='_30jeq3']\")[:100]\n",
    "    for i in pri:\n",
    "        price.append(i.text)\n",
    "price"
   ]
  },
  {
   "cell_type": "code",
   "execution_count": 140,
   "metadata": {},
   "outputs": [
    {
     "data": {
      "text/plain": [
       "['61% off',\n",
       " '66% off',\n",
       " '64% off',\n",
       " '86% off',\n",
       " '52% off',\n",
       " '66% off',\n",
       " '75% off',\n",
       " '68% off',\n",
       " '70% off',\n",
       " '66% off',\n",
       " '77% off',\n",
       " '57% off',\n",
       " '65% off',\n",
       " '50% off',\n",
       " '28% off',\n",
       " '63% off',\n",
       " '60% off',\n",
       " '81% off',\n",
       " '55% off',\n",
       " '60% off',\n",
       " '52% off',\n",
       " '60% off',\n",
       " '55% off',\n",
       " '82% off',\n",
       " '55% off',\n",
       " '65% off',\n",
       " '47% off',\n",
       " '60% off',\n",
       " '51% off',\n",
       " '36% off',\n",
       " '62% off',\n",
       " '30% off',\n",
       " '60% off',\n",
       " '53% off',\n",
       " '50% off',\n",
       " '63% off',\n",
       " '23% off',\n",
       " '60% off',\n",
       " '55% off',\n",
       " '55% off',\n",
       " '81% off',\n",
       " '16% off',\n",
       " '55% off',\n",
       " '61% off',\n",
       " '60% off',\n",
       " '37% off',\n",
       " '72% off',\n",
       " '66% off',\n",
       " '43% off',\n",
       " '52% off',\n",
       " '64% off',\n",
       " '68% off',\n",
       " '17% off',\n",
       " '60% off',\n",
       " '71% off',\n",
       " '57% off',\n",
       " '47% off',\n",
       " '69% off',\n",
       " '43% off',\n",
       " '63% off',\n",
       " '23% off',\n",
       " '60% off',\n",
       " '54% off',\n",
       " '60% off',\n",
       " '56% off',\n",
       " '77% off',\n",
       " '17% off',\n",
       " '82% off',\n",
       " '50% off',\n",
       " '23% off',\n",
       " '23% off',\n",
       " '60% off',\n",
       " '80% off',\n",
       " '55% off',\n",
       " '63% off',\n",
       " '30% off',\n",
       " '47% off',\n",
       " '51% off',\n",
       " '33% off',\n",
       " '55% off',\n",
       " '75% off',\n",
       " '20% off',\n",
       " '62% off',\n",
       " '61% off',\n",
       " '37% off',\n",
       " '62% off',\n",
       " '43% off',\n",
       " '66% off',\n",
       " '43% off',\n",
       " '68% off',\n",
       " '44% off',\n",
       " '68% off',\n",
       " '32% off',\n",
       " '80% off',\n",
       " '70% off',\n",
       " '57% off',\n",
       " '23% off',\n",
       " '74% off',\n",
       " '42% off',\n",
       " '63% off',\n",
       " '70% off',\n",
       " '69% off',\n",
       " '65% off',\n",
       " '60% off',\n",
       " '52% off',\n",
       " '58% off',\n",
       " '23% off',\n",
       " '60% off',\n",
       " '7% off',\n",
       " '15% off',\n",
       " '53% off',\n",
       " '82% off',\n",
       " '55% off',\n",
       " '10% off',\n",
       " '64% off',\n",
       " '62% off',\n",
       " '57% off',\n",
       " '52% off',\n",
       " '44% off',\n",
       " '30% off']"
      ]
     },
     "execution_count": 140,
     "metadata": {},
     "output_type": "execute_result"
    }
   ],
   "source": [
    "discount=[]\n",
    "for i in page_url2:\n",
    "    driver.get(i)\n",
    "    disc=driver.find_elements_by_xpath(\"//div[@class='_3Ay6Sb']//span\")[:100]\n",
    "    for i in disc:\n",
    "        discount.append(i.text)\n",
    "discount"
   ]
  },
  {
   "cell_type": "markdown",
   "metadata": {},
   "source": [
    "Q9: Go to the link - https://www.myntra.com/shoes"
   ]
  },
  {
   "cell_type": "code",
   "execution_count": 141,
   "metadata": {},
   "outputs": [],
   "source": [
    "url=' https://www.myntra.com/shoes'\n",
    "driver.get(url)"
   ]
  },
  {
   "cell_type": "code",
   "execution_count": 142,
   "metadata": {},
   "outputs": [],
   "source": [
    "price_filter = driver.find_element_by_xpath('/html/body/div[2]/div/div[1]/main/div[3]/div[1]/section/div/div[5]/ul/li[2]')\n",
    "price_filter.click()"
   ]
  },
  {
   "cell_type": "code",
   "execution_count": 143,
   "metadata": {},
   "outputs": [],
   "source": [
    "colour_filter=driver.find_element_by_xpath('/html/body/div[2]/div/div[1]/main/div[3]/div[1]/section/div/div[6]/ul/li[1]/label')\n",
    "colour_filter.click()"
   ]
  },
  {
   "cell_type": "code",
   "execution_count": 144,
   "metadata": {},
   "outputs": [
    {
     "data": {
      "text/plain": [
       "['https://www.myntra.com/shoes?f=Color%3ABlack_36454f&plaEnabled=false&rf=Price%3A6897.0_13595.0_6897.0%20TO%2013595.0&p=2',\n",
       " 'https://www.myntra.com/shoes?f=Color%3ABlack_36454f&plaEnabled=false&rf=Price%3A6897.0_13595.0_6897.0%20TO%2013595.0&p=3']"
      ]
     },
     "execution_count": 144,
     "metadata": {},
     "output_type": "execute_result"
    }
   ],
   "source": [
    "page_url3=[]\n",
    "url = driver.find_elements_by_xpath(\"//li[@class='pagination-number']//a\")[:2]\n",
    "for i in url:\n",
    "    page_url3.append(i.get_attribute('href'))\n",
    "page_url3"
   ]
  },
  {
   "cell_type": "code",
   "execution_count": 145,
   "metadata": {},
   "outputs": [
    {
     "data": {
      "text/plain": [
       "['PUMA Motorsport',\n",
       " 'J.FONTINI',\n",
       " 'Puma',\n",
       " 'PUMA Motorsport',\n",
       " 'Geox',\n",
       " 'Geox',\n",
       " 'Geox',\n",
       " 'Saint G',\n",
       " 'ROSSO BRUNELLO',\n",
       " 'ASICS',\n",
       " 'J.FONTINI',\n",
       " 'ROSSO BRUNELLO',\n",
       " 'Heel & Buckle London',\n",
       " 'UNDER ARMOUR',\n",
       " 'KIPRUN By Decathlon',\n",
       " 'Puma',\n",
       " 'PUMA Motorsport',\n",
       " 'Puma',\n",
       " 'Puma',\n",
       " 'Heel & Buckle London',\n",
       " 'Cole Haan',\n",
       " 'Cole Haan',\n",
       " 'Cole Haan',\n",
       " 'VIONIC',\n",
       " 'J.FONTINI',\n",
       " 'J.FONTINI',\n",
       " 'Kalenji By Decathlon',\n",
       " 'Puma',\n",
       " 'PUMA Motorsport',\n",
       " 'Nike',\n",
       " 'Geox',\n",
       " 'Puma',\n",
       " 'ASICS',\n",
       " 'ASICS',\n",
       " 'Heel & Buckle London',\n",
       " 'ASICS',\n",
       " 'Bugatti',\n",
       " 'Bugatti',\n",
       " 'Heel & Buckle London',\n",
       " 'Saint G',\n",
       " 'Saint G',\n",
       " 'Saint G',\n",
       " 'Kenneth Cole',\n",
       " 'Geox',\n",
       " 'J.FONTINI',\n",
       " 'Geox',\n",
       " 'Ruosh',\n",
       " 'Cole Haan',\n",
       " 'Geox',\n",
       " 'Geox',\n",
       " 'Tommy Hilfiger',\n",
       " 'Ruosh',\n",
       " 'Heel & Buckle London',\n",
       " 'Heel & Buckle London',\n",
       " 'PUMA Motorsport',\n",
       " 'Puma',\n",
       " 'Puma',\n",
       " 'Puma',\n",
       " 'ASICS',\n",
       " 'J.FONTINI',\n",
       " 'Nike',\n",
       " 'J.FONTINI',\n",
       " 'J.FONTINI',\n",
       " 'Nike',\n",
       " 'Heel & Buckle London',\n",
       " 'Kenneth Cole',\n",
       " 'J.FONTINI',\n",
       " 'Kenneth Cole',\n",
       " 'Nike',\n",
       " 'Saint G',\n",
       " 'Nike',\n",
       " 'Nike',\n",
       " 'Nike',\n",
       " 'Geox',\n",
       " 'Geox',\n",
       " 'Geox',\n",
       " 'ASICS',\n",
       " 'DAVINCHI',\n",
       " 'Sole To Soul',\n",
       " 'DAVINCHI',\n",
       " 'Sole To Soul',\n",
       " 'Sole To Soul',\n",
       " 'Saint G',\n",
       " 'Geox',\n",
       " 'DAVINCHI',\n",
       " 'Tommy Hilfiger',\n",
       " 'J.FONTINI',\n",
       " 'DAVINCHI',\n",
       " 'PUMA Motorsport',\n",
       " 'DAVINCHI',\n",
       " 'DAVINCHI',\n",
       " 'Cole Haan',\n",
       " 'UNDER ARMOUR',\n",
       " 'Clarks',\n",
       " 'Puma',\n",
       " 'ADIDAS',\n",
       " 'Florsheim',\n",
       " 'Puma',\n",
       " 'Puma',\n",
       " 'ADIDAS']"
      ]
     },
     "execution_count": 145,
     "metadata": {},
     "output_type": "execute_result"
    }
   ],
   "source": [
    "product_brands=[]\n",
    "for i in page_url3:\n",
    "    driver.get(i)\n",
    "    brand=driver.find_elements_by_xpath(\"//h3[@class='product-brand']\")[:100]\n",
    "    for i in brand:\n",
    "        product_brands.append(i.text)\n",
    "product_brands"
   ]
  },
  {
   "cell_type": "code",
   "execution_count": 146,
   "metadata": {},
   "outputs": [
    {
     "data": {
      "text/plain": [
       "['Men Lightweight Sneakers',\n",
       " 'Women Provoke XT FTR Shoes',\n",
       " 'Women Charged Bandit 6 Running',\n",
       " 'Unisex Leather Trainers',\n",
       " 'Men Leather Flat Boots',\n",
       " 'Scuderia Ferrari A3ROCAT Shoes',\n",
       " 'Unisex Colourblocked Sneakers',\n",
       " 'Mercedes F1 Drift Cat Shoes',\n",
       " 'Leather Block Sandals',\n",
       " 'Women GlideRide Running Shoes',\n",
       " 'Men Solid Leather Formal Monk Shoes',\n",
       " 'Men Solid Leather Formal Derbys',\n",
       " 'Women Solid Leather Gladiators',\n",
       " 'Women Charged Breathe CLR SFT',\n",
       " 'Women Running Shoes',\n",
       " 'Women RS-Curve City Sneakers',\n",
       " 'Women BMW M Motorsport Shoes',\n",
       " 'Women Liberate NITRO Running',\n",
       " 'Women Fuse Moto Training Shoes',\n",
       " 'Men Leather Sneakers',\n",
       " 'Men Wingtip Oxford Sneakers',\n",
       " 'Men GENERATION ZEROGRAND STITCHLITE',\n",
       " 'Leather Sneakers',\n",
       " 'Men Textured Sneakers',\n",
       " 'Men Textured Leather Loafers',\n",
       " 'Men Textured Leather Loafers',\n",
       " 'Men KD500 Running Shoe',\n",
       " 'Men Running Shoes',\n",
       " 'Unisex BMW MMS RS-FastSneakers',\n",
       " 'Women Air Zoom Running Shoes',\n",
       " 'Men Leather Formal Slip-Ons',\n",
       " 'Men Jamming 2.0 Running Shoes',\n",
       " 'Men Tennis Shoes',\n",
       " 'Men Black Running Sports Shoes',\n",
       " 'Men Tassel Leather Loafer',\n",
       " 'Men GEL-GLYDE 3 MX Running',\n",
       " 'Men Black Walking Shoes',\n",
       " 'Men Walking Shoes',\n",
       " 'Women Solid Leather Heels',\n",
       " 'Women Heeled Boots',\n",
       " 'Women Leather Heeled Boots',\n",
       " 'Women Leather Heeled Boots',\n",
       " 'Women Leather Pumps',\n",
       " 'Men Leather Formal Slip-Ons',\n",
       " 'Men Textured Leather Loafers',\n",
       " 'Men Solid Sneakers',\n",
       " 'Women Open Toe Flats',\n",
       " 'Men Leather Flat Boots',\n",
       " 'Men Leather Driving Shoes',\n",
       " 'Men Solid Leather Formal Derbys',\n",
       " 'Men Suede Sneakers',\n",
       " 'Men Solid Leather Formal Monks',\n",
       " 'Men Leather Formal Loafers',\n",
       " 'Women Leather Pumps',\n",
       " 'Unisex Mercedes F1 Sneakers',\n",
       " 'Unisex Mirage Sport Trainers',\n",
       " 'Unisex KING Pro Football Shoes',\n",
       " 'Unisex Pacer Future Sneakers',\n",
       " 'Men Gel-Excite Trail Running',\n",
       " 'Men Solid Leather Formal Slip-Ons',\n",
       " 'Men ZOOM SPAN 3 Running Shoes',\n",
       " 'Men Solid Leather Formal Slip-Ons',\n",
       " 'Men Leather Formal Loafers',\n",
       " 'Men Vomero 16 Running Shoes',\n",
       " 'Men Solid Leather Formal Penny Loafers',\n",
       " 'Women LeatherSneakers',\n",
       " 'Men Leather Formal Loafers',\n",
       " 'Women Solid Flat Boots',\n",
       " 'Men Zoom Winflo 8 Shoes',\n",
       " 'Leather Block Peep Toes',\n",
       " 'Men AIR MAX INFINITY Sneakers',\n",
       " 'Men Air Max Infinity 2 Shoes',\n",
       " 'Men Air Max Infinity 2 Sneaker',\n",
       " 'Leather Heeled Boots',\n",
       " 'Leather Heeled Boots',\n",
       " 'Leather Heeled Boots',\n",
       " 'Men Gel-Pulse13 G-TX Running',\n",
       " 'Ustraa black',\n",
       " 'Women Block Heeled Boots',\n",
       " 'Men Formal Leather Slip-Ons',\n",
       " 'Platform Peep Toes with Buckles',\n",
       " 'Block Heeled Boots with Laser Cuts',\n",
       " 'Women Embellished Sandals',\n",
       " 'Women Mid-Top Flat Boots',\n",
       " 'Men Textured Formal Leather Loafers',\n",
       " 'Women Hybrid Leather Sneakers',\n",
       " 'Men Textured Leather Formal Loafers',\n",
       " 'Men Textured Formal Leather Loafers',\n",
       " 'Women F1 Ridge Cat Sneakers',\n",
       " 'Men Solid Formal Leather Slip-On Shoes',\n",
       " 'Men Solid Leather Formal Derbys',\n",
       " 'Women Leather Sneakers',\n",
       " 'HOVR Infinite 2 Running Shoes',\n",
       " 'Men Leather Loafers',\n",
       " 'Unisex Colourblocked Sneakers',\n",
       " 'Men Kaptir Super Sneakers',\n",
       " 'Men Solid Leather Formal Brogues',\n",
       " 'Unisex Rebound Future Trainers',\n",
       " 'Unisex OP-1 PWRFrame Trainers',\n",
       " 'Men X9000L3 Running Shoes']"
      ]
     },
     "execution_count": 146,
     "metadata": {},
     "output_type": "execute_result"
    }
   ],
   "source": [
    "shoe_description=[]\n",
    "for i in page_url3:\n",
    "    driver.get(i)\n",
    "    shoe_descrip=driver.find_elements_by_xpath(\"//h4[@class='product-product']\")[:100]\n",
    "    for i in shoe_descrip:\n",
    "        shoe_description.append(i.text)\n",
    "shoe_description"
   ]
  },
  {
   "cell_type": "code",
   "execution_count": 147,
   "metadata": {},
   "outputs": [
    {
     "data": {
      "text/plain": [
       "['Rs. 7499',\n",
       " 'Rs. 11999',\n",
       " 'Rs. 8999',\n",
       " 'Rs. 9999',\n",
       " 'Rs. 12999',\n",
       " 'Rs. 7999',\n",
       " 'Rs. 6999',\n",
       " 'Rs. 7999',\n",
       " 'Rs. 10999',\n",
       " 'Rs. 10355Rs. 10900(5% OFF)',\n",
       " 'Rs. 11199Rs. 13999(20% OFF)',\n",
       " 'Rs. 6990',\n",
       " 'Rs. 6993Rs. 9990(30% OFF)',\n",
       " 'Rs. 7999',\n",
       " 'Rs. 7006Rs. 7149(2% OFF)',\n",
       " 'Rs. 6999',\n",
       " 'Rs. 6999',\n",
       " 'Rs. 9999',\n",
       " 'Rs. 7999',\n",
       " 'Rs. 7693Rs. 10990(30% OFF)',\n",
       " 'Rs. 12999',\n",
       " 'Rs. 11999',\n",
       " 'Rs. 10999',\n",
       " 'Rs. 7039Rs. 10999(36% OFF)',\n",
       " 'Rs. 7990',\n",
       " 'Rs. 7990',\n",
       " 'Rs. 7773Rs. 8449(8% OFF)',\n",
       " 'Rs. 12999',\n",
       " 'Rs. 7999Rs. 9999(20% OFF)',\n",
       " 'Rs. 10295',\n",
       " 'Rs. 8999',\n",
       " 'Rs. 12999',\n",
       " 'Rs. 9999',\n",
       " 'Rs. 7999',\n",
       " 'Rs. 9093Rs. 12990(30% OFF)',\n",
       " 'Rs. 8999',\n",
       " 'Rs. 8999',\n",
       " 'Rs. 8999',\n",
       " 'Rs. 6993Rs. 9990(30% OFF)',\n",
       " 'Rs. 8000',\n",
       " 'Rs. 8500',\n",
       " 'Rs. 8900',\n",
       " 'Rs. 10493Rs. 14990(30% OFF)',\n",
       " 'Rs. 11242Rs. 14990(25% OFF)',\n",
       " 'Rs. 6990',\n",
       " 'Rs. 10999',\n",
       " 'Rs. 11999',\n",
       " 'Rs. 11999',\n",
       " 'Rs. 9999',\n",
       " 'Rs. 6995',\n",
       " 'Rs. 7599',\n",
       " 'Rs. 8990',\n",
       " 'Rs. 7992Rs. 9990(20% OFF)',\n",
       " 'Rs. 7192Rs. 8990(20% OFF)',\n",
       " 'Rs. 7999',\n",
       " 'Rs. 8999',\n",
       " 'Rs. 8499Rs. 9999(15% OFF)',\n",
       " 'Rs. 6999',\n",
       " 'Rs. 6999',\n",
       " 'Rs. 7990',\n",
       " 'Rs. 7195',\n",
       " 'Rs. 7990',\n",
       " 'Rs. 6990',\n",
       " 'Rs. 13495',\n",
       " 'Rs. 8792Rs. 10990(20% OFF)',\n",
       " 'Rs. 6990',\n",
       " 'Rs. 7343Rs. 10490(30% OFF)',\n",
       " 'Rs. 9513Rs. 13590(30% OFF)',\n",
       " 'Rs. 8295',\n",
       " 'Rs. 9975Rs. 10500(5% OFF)',\n",
       " 'Rs. 8295',\n",
       " 'Rs. 8295',\n",
       " 'Rs. 8295',\n",
       " 'Rs. 11999',\n",
       " 'Rs. 12999',\n",
       " 'Rs. 10999',\n",
       " 'Rs. 9999',\n",
       " 'Rs. 8990',\n",
       " 'Rs. 7990',\n",
       " 'Rs. 8990',\n",
       " 'Rs. 7690',\n",
       " 'Rs. 7990',\n",
       " 'Rs. 7000',\n",
       " 'Rs. 10999',\n",
       " 'Rs. 8990',\n",
       " 'Rs. 8990',\n",
       " 'Rs. 7999',\n",
       " 'Rs. 8990',\n",
       " 'Rs. 6990',\n",
       " 'Rs. 6999',\n",
       " 'Rs. 8990',\n",
       " 'Rs. 10999',\n",
       " 'Rs. 11999',\n",
       " 'Rs. 6999',\n",
       " 'Rs. 7999',\n",
       " 'Rs. 8999',\n",
       " 'Rs. 7495',\n",
       " 'Rs. 6999',\n",
       " 'Rs. 8799Rs. 10999(20% OFF)',\n",
       " 'Rs. 11999']"
      ]
     },
     "execution_count": 147,
     "metadata": {},
     "output_type": "execute_result"
    }
   ],
   "source": [
    "price=[]\n",
    "for i in page_url3:\n",
    "    driver.get(i)\n",
    "    pri=driver.find_elements_by_xpath(\"//div[@class='product-price']\")[:100]\n",
    "    for i in pri:\n",
    "        price.append(i.text)\n",
    "price"
   ]
  },
  {
   "cell_type": "code",
   "execution_count": 148,
   "metadata": {},
   "outputs": [
    {
     "name": "stdout",
     "output_type": "stream",
     "text": [
      "100 100 100\n"
     ]
    }
   ],
   "source": [
    "print(len(product_brands),len(shoe_description),len(price))"
   ]
  },
  {
   "cell_type": "code",
   "execution_count": 149,
   "metadata": {},
   "outputs": [
    {
     "data": {
      "text/html": [
       "<div>\n",
       "<style scoped>\n",
       "    .dataframe tbody tr th:only-of-type {\n",
       "        vertical-align: middle;\n",
       "    }\n",
       "\n",
       "    .dataframe tbody tr th {\n",
       "        vertical-align: top;\n",
       "    }\n",
       "\n",
       "    .dataframe thead th {\n",
       "        text-align: right;\n",
       "    }\n",
       "</style>\n",
       "<table border=\"1\" class=\"dataframe\">\n",
       "  <thead>\n",
       "    <tr style=\"text-align: right;\">\n",
       "      <th></th>\n",
       "      <th>Brands</th>\n",
       "      <th>Shoe Description</th>\n",
       "      <th>Price</th>\n",
       "    </tr>\n",
       "  </thead>\n",
       "  <tbody>\n",
       "    <tr>\n",
       "      <th>0</th>\n",
       "      <td>PUMA Motorsport</td>\n",
       "      <td>Men Lightweight Sneakers</td>\n",
       "      <td>Rs. 7499</td>\n",
       "    </tr>\n",
       "    <tr>\n",
       "      <th>1</th>\n",
       "      <td>J.FONTINI</td>\n",
       "      <td>Women Provoke XT FTR Shoes</td>\n",
       "      <td>Rs. 11999</td>\n",
       "    </tr>\n",
       "    <tr>\n",
       "      <th>2</th>\n",
       "      <td>Puma</td>\n",
       "      <td>Women Charged Bandit 6 Running</td>\n",
       "      <td>Rs. 8999</td>\n",
       "    </tr>\n",
       "    <tr>\n",
       "      <th>3</th>\n",
       "      <td>PUMA Motorsport</td>\n",
       "      <td>Unisex Leather Trainers</td>\n",
       "      <td>Rs. 9999</td>\n",
       "    </tr>\n",
       "    <tr>\n",
       "      <th>4</th>\n",
       "      <td>Geox</td>\n",
       "      <td>Men Leather Flat Boots</td>\n",
       "      <td>Rs. 12999</td>\n",
       "    </tr>\n",
       "    <tr>\n",
       "      <th>...</th>\n",
       "      <td>...</td>\n",
       "      <td>...</td>\n",
       "      <td>...</td>\n",
       "    </tr>\n",
       "    <tr>\n",
       "      <th>95</th>\n",
       "      <td>ADIDAS</td>\n",
       "      <td>Men Kaptir Super Sneakers</td>\n",
       "      <td>Rs. 8999</td>\n",
       "    </tr>\n",
       "    <tr>\n",
       "      <th>96</th>\n",
       "      <td>Florsheim</td>\n",
       "      <td>Men Solid Leather Formal Brogues</td>\n",
       "      <td>Rs. 7495</td>\n",
       "    </tr>\n",
       "    <tr>\n",
       "      <th>97</th>\n",
       "      <td>Puma</td>\n",
       "      <td>Unisex Rebound Future Trainers</td>\n",
       "      <td>Rs. 6999</td>\n",
       "    </tr>\n",
       "    <tr>\n",
       "      <th>98</th>\n",
       "      <td>Puma</td>\n",
       "      <td>Unisex OP-1 PWRFrame Trainers</td>\n",
       "      <td>Rs. 8799Rs. 10999(20% OFF)</td>\n",
       "    </tr>\n",
       "    <tr>\n",
       "      <th>99</th>\n",
       "      <td>ADIDAS</td>\n",
       "      <td>Men X9000L3 Running Shoes</td>\n",
       "      <td>Rs. 11999</td>\n",
       "    </tr>\n",
       "  </tbody>\n",
       "</table>\n",
       "<p>100 rows × 3 columns</p>\n",
       "</div>"
      ],
      "text/plain": [
       "             Brands                  Shoe Description  \\\n",
       "0   PUMA Motorsport          Men Lightweight Sneakers   \n",
       "1         J.FONTINI        Women Provoke XT FTR Shoes   \n",
       "2              Puma    Women Charged Bandit 6 Running   \n",
       "3   PUMA Motorsport           Unisex Leather Trainers   \n",
       "4              Geox            Men Leather Flat Boots   \n",
       "..              ...                               ...   \n",
       "95           ADIDAS         Men Kaptir Super Sneakers   \n",
       "96        Florsheim  Men Solid Leather Formal Brogues   \n",
       "97             Puma    Unisex Rebound Future Trainers   \n",
       "98             Puma     Unisex OP-1 PWRFrame Trainers   \n",
       "99           ADIDAS         Men X9000L3 Running Shoes   \n",
       "\n",
       "                         Price  \n",
       "0                     Rs. 7499  \n",
       "1                    Rs. 11999  \n",
       "2                     Rs. 8999  \n",
       "3                     Rs. 9999  \n",
       "4                    Rs. 12999  \n",
       "..                         ...  \n",
       "95                    Rs. 8999  \n",
       "96                    Rs. 7495  \n",
       "97                    Rs. 6999  \n",
       "98  Rs. 8799Rs. 10999(20% OFF)  \n",
       "99                   Rs. 11999  \n",
       "\n",
       "[100 rows x 3 columns]"
      ]
     },
     "execution_count": 149,
     "metadata": {},
     "output_type": "execute_result"
    }
   ],
   "source": [
    "shoes=pd.DataFrame({})\n",
    "shoes['Brands']=product_brands\n",
    "shoes['Shoe Description']=shoe_description\n",
    "shoes['Price']=price\n",
    "shoes"
   ]
  },
  {
   "cell_type": "markdown",
   "metadata": {},
   "source": [
    "\n",
    "Q10: Go to webpage https://www.amazon.in/"
   ]
  },
  {
   "cell_type": "code",
   "execution_count": 150,
   "metadata": {},
   "outputs": [],
   "source": [
    "url='https://www.amazon.in/'\n",
    "driver.get(url)"
   ]
  },
  {
   "cell_type": "code",
   "execution_count": 151,
   "metadata": {},
   "outputs": [],
   "source": [
    "search=driver.find_element_by_id('twotabsearchtextbox')\n",
    "search.send_keys('Laptop')"
   ]
  },
  {
   "cell_type": "code",
   "execution_count": 152,
   "metadata": {},
   "outputs": [],
   "source": [
    "search_button=driver.find_element_by_xpath(\"//input[@id='nav-search-submit-button']\")\n",
    "search_button.click()"
   ]
  },
  {
   "cell_type": "code",
   "execution_count": 153,
   "metadata": {},
   "outputs": [],
   "source": [
    "filter=driver.find_elements_by_xpath(\"//a[@class='a-link-normal s-navigation-item']/span\")\n",
    "\n",
    "for i in filter:\n",
    "    if i.text=='Intel Core i7':\n",
    "        i.click()\n",
    "        break"
   ]
  },
  {
   "cell_type": "code",
   "execution_count": 154,
   "metadata": {},
   "outputs": [],
   "source": [
    "filter=driver.find_elements_by_xpath(\"//a[@class='a-link-normal s-navigation-item']/span\")\n",
    "\n",
    "for i in filter:\n",
    "    if i.text=='Intel Core i9':\n",
    "        i.click()\n",
    "        break"
   ]
  },
  {
   "cell_type": "code",
   "execution_count": 155,
   "metadata": {},
   "outputs": [
    {
     "data": {
      "text/plain": [
       "[<selenium.webdriver.remote.webelement.WebElement (session=\"06848c00932587b04b990e80b55584ff\", element=\"efee35b1-f35f-4593-8a5e-710e188dc054\")>,\n",
       " <selenium.webdriver.remote.webelement.WebElement (session=\"06848c00932587b04b990e80b55584ff\", element=\"8fbc2fa8-2159-4771-9f7f-f3ab0cf72cdf\")>,\n",
       " <selenium.webdriver.remote.webelement.WebElement (session=\"06848c00932587b04b990e80b55584ff\", element=\"608bb35e-294f-41f2-b0b5-7a9a8d21f358\")>,\n",
       " <selenium.webdriver.remote.webelement.WebElement (session=\"06848c00932587b04b990e80b55584ff\", element=\"b15fc772-de89-4631-9fe3-e7ccc81e4a0c\")>,\n",
       " <selenium.webdriver.remote.webelement.WebElement (session=\"06848c00932587b04b990e80b55584ff\", element=\"082d1208-031c-47d0-ae8e-f8a332c1c390\")>,\n",
       " <selenium.webdriver.remote.webelement.WebElement (session=\"06848c00932587b04b990e80b55584ff\", element=\"a167cc07-b49c-4cd7-a680-6868faa8d5f0\")>,\n",
       " <selenium.webdriver.remote.webelement.WebElement (session=\"06848c00932587b04b990e80b55584ff\", element=\"8af2b95f-3ae0-4eb3-b988-64e6282bee4c\")>,\n",
       " <selenium.webdriver.remote.webelement.WebElement (session=\"06848c00932587b04b990e80b55584ff\", element=\"50ce4ee1-5ac3-4c61-bea0-db14487206a0\")>,\n",
       " <selenium.webdriver.remote.webelement.WebElement (session=\"06848c00932587b04b990e80b55584ff\", element=\"6fc7e32b-7a30-4e42-b828-0b9f4f0c95b8\")>,\n",
       " <selenium.webdriver.remote.webelement.WebElement (session=\"06848c00932587b04b990e80b55584ff\", element=\"c59e9092-3322-489f-8f11-a19579da0709\")>]"
      ]
     },
     "execution_count": 155,
     "metadata": {},
     "output_type": "execute_result"
    }
   ],
   "source": [
    "product_title=driver.find_elements_by_xpath(\"//h2[@class='a-size-mini a-spacing-none a-color-base s-line-clamp-2']\")[:10]\n",
    "product_title"
   ]
  },
  {
   "cell_type": "code",
   "execution_count": 156,
   "metadata": {},
   "outputs": [
    {
     "data": {
      "text/plain": [
       "['ASUS VivoBook S S15 (2021), 15.6-inch (39.62 cms) FHD Intel Core i7-1165G7 11th Gen, Thin and Light Laptop (8GB/512GB SSD/Office 2019/Windows 10/2GB NVIDIA MX350 Graphics/Silver/1.8 kg) S532EQ-BQ702TS',\n",
       " 'ASUS ZenBook 13 OLED (2021) Intel Core i7-1165G7 11th Gen 14\" (35.56cms) FHD Thin and Light Laptop (16GB/1TB SSD/Windows 10/Office 2019/Intel Iris Xᵉ Graphics/Lilac Mist/1.14 kg), UX325EA-KG701TS',\n",
       " 'Mi Notebook Horizon Edition 14 Intel Core i7-10510U 10th Gen Thin and Light Laptop(8GB/512GB SSD/Windows 10/Nvidia MX350 2GB Graphics/Grey/1.35Kg)(Without Webcam) XMA1904-AF',\n",
       " 'Lenovo IdeaPad S540 11th Gen Intel Core i7 13.3\" QHD IPS Thin & Light Laptop (16GB/512GB SSD/Windows 10/MS Office 2019/Intel Iris Xe Graphics/Iron Grey/1.28Kg), 82H1002CIN',\n",
       " 'Fujitsu UH-X 11th Gen Intel Core i7 13.3” (33.78cm) FHD IPS 400Nits 2-in1 Touch Convertible Laptop (16GB/1TB SSD/Win10/Office/Iris Xe Graphics/Backlit Kb/Black/997gms), 4ZR1D71993',\n",
       " 'ASUS ROG G703GI-E5148T 17.3\" (43.94 cms) FHD 144Hz/3ms Gaming Laptop (8th Gen Intel Core i9-8950HK/64GB/2TB SSHD + 1.5TB NVMe SSD/Windows 10/GTX 1080 8GB Graphics/4.70 Kg), Aluminum',\n",
       " 'ASUS TUF Dash F15 (2021), 15.6-inch (39.62 cms) FHD 144Hz, Intel Core i7-11370H 11th Gen, RTX 3050 4GB Graphics Gaming Laptop (16GB RAM/512GB SSD/Windows 10/White/2 kg), FX516PC-HN062T',\n",
       " 'HP Pavilion 13(2021) 11th Gen Intel Core i7 Laptop, 16GB RAM, 1TB SSD, 13.3-inch(33.8 cm) FHD Screen, Win 10, MS Office, Ceramic White, 1.24 Kg (13-bb0078TU)',\n",
       " 'MSI GF75 Thin, Intel i7-10750H, 17.3\" (43.9 cm) FHD IPS-Level 144Hz Panel Laptop (8GB/512GB NVMe SSD/Windows 10 Home/Nvidia GTX1650 4GB GDDR6/Black/2.2Kg), 10SCXR-654IN',\n",
       " 'Lenovo IdeaPad Flex 5 11th Gen Intel Core i7 14\"(35.56cm) FHD IPS 2-in-1 Touchscreen Laptop(16GB/512GB SSD/Windows 10/MS Office/Lenovo Digital Pen/Fingerprint Reader/Graphite Grey/1.5Kg), 82HS0092IN']"
      ]
     },
     "execution_count": 156,
     "metadata": {},
     "output_type": "execute_result"
    }
   ],
   "source": [
    "title=[]\n",
    "for i in product_title:\n",
    "    title.append(i.text)\n",
    "title"
   ]
  },
  {
   "cell_type": "code",
   "execution_count": 157,
   "metadata": {},
   "outputs": [
    {
     "data": {
      "text/plain": [
       "[<selenium.webdriver.remote.webelement.WebElement (session=\"06848c00932587b04b990e80b55584ff\", element=\"47d1a6dd-f358-4374-827e-0951c2765e60\")>,\n",
       " <selenium.webdriver.remote.webelement.WebElement (session=\"06848c00932587b04b990e80b55584ff\", element=\"eb5f0deb-d0c5-4321-9587-1159d74a701e\")>,\n",
       " <selenium.webdriver.remote.webelement.WebElement (session=\"06848c00932587b04b990e80b55584ff\", element=\"c992bb8a-8b8d-45cb-9c64-72a256ffddb2\")>,\n",
       " <selenium.webdriver.remote.webelement.WebElement (session=\"06848c00932587b04b990e80b55584ff\", element=\"d91dd6d8-e311-4ef9-b187-7ffe8c138e50\")>,\n",
       " <selenium.webdriver.remote.webelement.WebElement (session=\"06848c00932587b04b990e80b55584ff\", element=\"153ad3ff-3dd6-46f0-8f6b-6638cc8fba22\")>,\n",
       " <selenium.webdriver.remote.webelement.WebElement (session=\"06848c00932587b04b990e80b55584ff\", element=\"6fb3ae91-a267-418b-8b82-ae777e562a34\")>,\n",
       " <selenium.webdriver.remote.webelement.WebElement (session=\"06848c00932587b04b990e80b55584ff\", element=\"af539aba-0cdf-45a0-acb8-8d33cab1e6b4\")>,\n",
       " <selenium.webdriver.remote.webelement.WebElement (session=\"06848c00932587b04b990e80b55584ff\", element=\"930aa567-b205-4594-b233-b9e243bf080f\")>,\n",
       " <selenium.webdriver.remote.webelement.WebElement (session=\"06848c00932587b04b990e80b55584ff\", element=\"8dbe6bb9-239d-4dfc-b1ad-30add05ca342\")>,\n",
       " <selenium.webdriver.remote.webelement.WebElement (session=\"06848c00932587b04b990e80b55584ff\", element=\"55be7c2e-5881-460c-b799-d7ab1fa816d0\")>]"
      ]
     },
     "execution_count": 157,
     "metadata": {},
     "output_type": "execute_result"
    }
   ],
   "source": [
    "rate=driver.find_elements_by_xpath(\"//span[@class='a-size-base']\")[:10]\n",
    "rate"
   ]
  },
  {
   "cell_type": "code",
   "execution_count": 158,
   "metadata": {},
   "outputs": [
    {
     "data": {
      "text/plain": [
       "['4', '7', '817', '101', '29', '30', '4', '20', '66', '3']"
      ]
     },
     "execution_count": 158,
     "metadata": {},
     "output_type": "execute_result"
    }
   ],
   "source": [
    "ratings=[]\n",
    "for i in rate:\n",
    "    ratings.append(i.text)\n",
    "ratings"
   ]
  },
  {
   "cell_type": "code",
   "execution_count": 159,
   "metadata": {},
   "outputs": [
    {
     "data": {
      "text/plain": [
       "[<selenium.webdriver.remote.webelement.WebElement (session=\"06848c00932587b04b990e80b55584ff\", element=\"651287d8-a5c3-4d7d-8bd0-9bd0e2bb4aa6\")>,\n",
       " <selenium.webdriver.remote.webelement.WebElement (session=\"06848c00932587b04b990e80b55584ff\", element=\"f416d851-f43c-4449-afd8-d1ec66c313b4\")>,\n",
       " <selenium.webdriver.remote.webelement.WebElement (session=\"06848c00932587b04b990e80b55584ff\", element=\"4c089b57-1cc8-40cf-a52c-66fb3cc817e8\")>,\n",
       " <selenium.webdriver.remote.webelement.WebElement (session=\"06848c00932587b04b990e80b55584ff\", element=\"d4bbccbd-ccf5-4d94-a2fc-1511a3dbff4f\")>,\n",
       " <selenium.webdriver.remote.webelement.WebElement (session=\"06848c00932587b04b990e80b55584ff\", element=\"592a900c-7a14-4df3-a84f-d81f630396bd\")>,\n",
       " <selenium.webdriver.remote.webelement.WebElement (session=\"06848c00932587b04b990e80b55584ff\", element=\"151cf406-c390-44b3-a8aa-21ff5234fc57\")>,\n",
       " <selenium.webdriver.remote.webelement.WebElement (session=\"06848c00932587b04b990e80b55584ff\", element=\"8e0442b6-ae9e-471a-8018-5eaa4d54771a\")>,\n",
       " <selenium.webdriver.remote.webelement.WebElement (session=\"06848c00932587b04b990e80b55584ff\", element=\"ef91923c-2993-42e8-92ac-7b3e999a5527\")>,\n",
       " <selenium.webdriver.remote.webelement.WebElement (session=\"06848c00932587b04b990e80b55584ff\", element=\"b5334fcf-e06a-4346-9e8e-7e66c9d3e4ef\")>,\n",
       " <selenium.webdriver.remote.webelement.WebElement (session=\"06848c00932587b04b990e80b55584ff\", element=\"565415b2-859b-411a-b51d-b5e81f6d01df\")>]"
      ]
     },
     "execution_count": 159,
     "metadata": {},
     "output_type": "execute_result"
    }
   ],
   "source": [
    "cost=driver.find_elements_by_xpath(\"//span[@class='a-price-whole']\")[:10]\n",
    "cost"
   ]
  },
  {
   "cell_type": "code",
   "execution_count": 160,
   "metadata": {},
   "outputs": [
    {
     "data": {
      "text/plain": [
       "['84,690',\n",
       " '1,01,910',\n",
       " '57,990',\n",
       " '77,990',\n",
       " '1,07,990',\n",
       " '5,56,524',\n",
       " '85,990',\n",
       " '92,900',\n",
       " '74,990',\n",
       " '98,500']"
      ]
     },
     "execution_count": 160,
     "metadata": {},
     "output_type": "execute_result"
    }
   ],
   "source": [
    "price=[]\n",
    "for i in cost:\n",
    "    price.append(i.text)\n",
    "price"
   ]
  },
  {
   "cell_type": "code",
   "execution_count": 161,
   "metadata": {},
   "outputs": [
    {
     "name": "stdout",
     "output_type": "stream",
     "text": [
      "10 10 10\n"
     ]
    }
   ],
   "source": [
    "print(len(title), len(ratings), len(price))"
   ]
  },
  {
   "cell_type": "code",
   "execution_count": 162,
   "metadata": {},
   "outputs": [
    {
     "data": {
      "text/html": [
       "<div>\n",
       "<style scoped>\n",
       "    .dataframe tbody tr th:only-of-type {\n",
       "        vertical-align: middle;\n",
       "    }\n",
       "\n",
       "    .dataframe tbody tr th {\n",
       "        vertical-align: top;\n",
       "    }\n",
       "\n",
       "    .dataframe thead th {\n",
       "        text-align: right;\n",
       "    }\n",
       "</style>\n",
       "<table border=\"1\" class=\"dataframe\">\n",
       "  <thead>\n",
       "    <tr style=\"text-align: right;\">\n",
       "      <th></th>\n",
       "      <th>title</th>\n",
       "      <th>Ratings</th>\n",
       "      <th>Price</th>\n",
       "    </tr>\n",
       "  </thead>\n",
       "  <tbody>\n",
       "    <tr>\n",
       "      <th>0</th>\n",
       "      <td>ASUS VivoBook S S15 (2021), 15.6-inch (39.62 c...</td>\n",
       "      <td>4</td>\n",
       "      <td>84,690</td>\n",
       "    </tr>\n",
       "    <tr>\n",
       "      <th>1</th>\n",
       "      <td>ASUS ZenBook 13 OLED (2021) Intel Core i7-1165...</td>\n",
       "      <td>7</td>\n",
       "      <td>1,01,910</td>\n",
       "    </tr>\n",
       "    <tr>\n",
       "      <th>2</th>\n",
       "      <td>Mi Notebook Horizon Edition 14 Intel Core i7-1...</td>\n",
       "      <td>817</td>\n",
       "      <td>57,990</td>\n",
       "    </tr>\n",
       "    <tr>\n",
       "      <th>3</th>\n",
       "      <td>Lenovo IdeaPad S540 11th Gen Intel Core i7 13....</td>\n",
       "      <td>101</td>\n",
       "      <td>77,990</td>\n",
       "    </tr>\n",
       "    <tr>\n",
       "      <th>4</th>\n",
       "      <td>Fujitsu UH-X 11th Gen Intel Core i7 13.3” (33....</td>\n",
       "      <td>29</td>\n",
       "      <td>1,07,990</td>\n",
       "    </tr>\n",
       "    <tr>\n",
       "      <th>5</th>\n",
       "      <td>ASUS ROG G703GI-E5148T 17.3\" (43.94 cms) FHD 1...</td>\n",
       "      <td>30</td>\n",
       "      <td>5,56,524</td>\n",
       "    </tr>\n",
       "    <tr>\n",
       "      <th>6</th>\n",
       "      <td>ASUS TUF Dash F15 (2021), 15.6-inch (39.62 cms...</td>\n",
       "      <td>4</td>\n",
       "      <td>85,990</td>\n",
       "    </tr>\n",
       "    <tr>\n",
       "      <th>7</th>\n",
       "      <td>HP Pavilion 13(2021) 11th Gen Intel Core i7 La...</td>\n",
       "      <td>20</td>\n",
       "      <td>92,900</td>\n",
       "    </tr>\n",
       "    <tr>\n",
       "      <th>8</th>\n",
       "      <td>MSI GF75 Thin, Intel i7-10750H, 17.3\" (43.9 cm...</td>\n",
       "      <td>66</td>\n",
       "      <td>74,990</td>\n",
       "    </tr>\n",
       "    <tr>\n",
       "      <th>9</th>\n",
       "      <td>Lenovo IdeaPad Flex 5 11th Gen Intel Core i7 1...</td>\n",
       "      <td>3</td>\n",
       "      <td>98,500</td>\n",
       "    </tr>\n",
       "  </tbody>\n",
       "</table>\n",
       "</div>"
      ],
      "text/plain": [
       "                                               title Ratings     Price\n",
       "0  ASUS VivoBook S S15 (2021), 15.6-inch (39.62 c...       4    84,690\n",
       "1  ASUS ZenBook 13 OLED (2021) Intel Core i7-1165...       7  1,01,910\n",
       "2  Mi Notebook Horizon Edition 14 Intel Core i7-1...     817    57,990\n",
       "3  Lenovo IdeaPad S540 11th Gen Intel Core i7 13....     101    77,990\n",
       "4  Fujitsu UH-X 11th Gen Intel Core i7 13.3” (33....      29  1,07,990\n",
       "5  ASUS ROG G703GI-E5148T 17.3\" (43.94 cms) FHD 1...      30  5,56,524\n",
       "6  ASUS TUF Dash F15 (2021), 15.6-inch (39.62 cms...       4    85,990\n",
       "7  HP Pavilion 13(2021) 11th Gen Intel Core i7 La...      20    92,900\n",
       "8  MSI GF75 Thin, Intel i7-10750H, 17.3\" (43.9 cm...      66    74,990\n",
       "9  Lenovo IdeaPad Flex 5 11th Gen Intel Core i7 1...       3    98,500"
      ]
     },
     "execution_count": 162,
     "metadata": {},
     "output_type": "execute_result"
    }
   ],
   "source": [
    "Laptops=pd.DataFrame({})\n",
    "Laptops['title']=title\n",
    "Laptops['Ratings']=ratings\n",
    "Laptops['Price']=price\n",
    "Laptops"
   ]
  },
  {
   "cell_type": "code",
   "execution_count": null,
   "metadata": {},
   "outputs": [],
   "source": []
  },
  {
   "cell_type": "code",
   "execution_count": null,
   "metadata": {},
   "outputs": [],
   "source": []
  }
 ],
 "metadata": {
  "kernelspec": {
   "display_name": "Python 3",
   "language": "python",
   "name": "python3"
  },
  "language_info": {
   "codemirror_mode": {
    "name": "ipython",
    "version": 3
   },
   "file_extension": ".py",
   "mimetype": "text/x-python",
   "name": "python",
   "nbconvert_exporter": "python",
   "pygments_lexer": "ipython3",
   "version": "3.8.5"
  }
 },
 "nbformat": 4,
 "nbformat_minor": 4
}
